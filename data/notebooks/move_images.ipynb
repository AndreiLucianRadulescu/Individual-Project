{
 "cells": [
  {
   "cell_type": "code",
   "execution_count": 1,
   "metadata": {},
   "outputs": [],
   "source": [
    "# move all images to one place\n",
    "import shutil\n",
    "import os\n",
    "\n",
    "dest_path = \"../processed/all_images\"\n",
    "appa_real_path = \"../processed/appa-real\"\n",
    "utk_path  = \"../processed/UTKFaces\"\n",
    "\n",
    "utk_images = os.listdir(utk_path)"
   ]
  },
  {
   "cell_type": "code",
   "execution_count": 2,
   "metadata": {},
   "outputs": [],
   "source": [
    "utk_images = os.listdir(utk_path)\n",
    "for img in utk_images:\n",
    "    shutil.move(os.path.join(utk_path, img), dest_path)"
   ]
  },
  {
   "cell_type": "code",
   "execution_count": 3,
   "metadata": {},
   "outputs": [],
   "source": [
    "branches = [\"test\", \"valid\", \"train\"]\n",
    "\n",
    "for b in branches:\n",
    "    all_imgs = os.listdir(os.path.join(appa_real_path, b))\n",
    "    for img in all_imgs:\n",
    "        shutil.move(os.path.join(appa_real_path, b, img), dest_path)"
   ]
  }
 ],
 "metadata": {
  "kernelspec": {
   "display_name": "Python 3",
   "language": "python",
   "name": "python3"
  },
  "language_info": {
   "codemirror_mode": {
    "name": "ipython",
    "version": 3
   },
   "file_extension": ".py",
   "mimetype": "text/x-python",
   "name": "python",
   "nbconvert_exporter": "python",
   "pygments_lexer": "ipython3",
   "version": "3.10.11"
  }
 },
 "nbformat": 4,
 "nbformat_minor": 2
}
