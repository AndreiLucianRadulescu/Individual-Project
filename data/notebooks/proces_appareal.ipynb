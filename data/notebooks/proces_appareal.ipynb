{
 "cells": [
  {
   "cell_type": "code",
   "execution_count": 11,
   "metadata": {},
   "outputs": [],
   "source": [
    "import face_recognition\n",
    "import cv2\n",
    "import os\n",
    "from tqdm import tqdm\n",
    "import _thread\n",
    "import matplotlib.pyplot as plt\n",
    "from IPython.display import Image, display\n",
    "dir_path = \"../raw/appa-real-release/\"\n",
    "new_dir_path = \"../processed/appa-real\"\n",
    "\n",
    "def save_imgs(branch):\n",
    "    all_imgs = os.listdir(dir_path+f\"/{branch}\")\n",
    "    num_imgs = len(all_imgs)\n",
    "    for i in tqdm(range(num_imgs)):\n",
    "        img_path = all_imgs[i]\n",
    "        if \"jpg_face\" in img_path:\n",
    "            continue\n",
    "        loaded_img = face_recognition.load_image_file(f\"{dir_path}/{branch}/{img_path}\")\n",
    "        face_locations = face_recognition.face_locations(loaded_img)\n",
    "        try:\n",
    "            top, right, bottom, left = face_locations[0]\n",
    "        except:\n",
    "            continue\n",
    "\n",
    "        face = loaded_img[top:bottom, left:right]\n",
    "\n",
    "        if(face.shape[0] > 128):\n",
    "            face = cv2.resize(face, (128, 128), interpolation=cv2.INTER_AREA)\n",
    "        else:\n",
    "            face = cv2.resize(face, (128, 128), interpolation=cv2.INTER_CUBIC)\n",
    "        cv2.imwrite(f\"{new_dir_path}/{branch}/{img_path}\", cv2.cvtColor(face, cv2.COLOR_RGB2BGR))\n",
    "\n"
   ]
  },
  {
   "cell_type": "code",
   "execution_count": 12,
   "metadata": {},
   "outputs": [
    {
     "name": "stderr",
     "output_type": "stream",
     "text": [
      "100%|██████████| 3956/3956 [08:41<00:00,  7.59it/s]\n",
      "  4%|▍         | 114/3000 [00:15<06:23,  7.52it/s]\n"
     ]
    },
    {
     "ename": "KeyboardInterrupt",
     "evalue": "",
     "output_type": "error",
     "traceback": [
      "\u001b[1;31m---------------------------------------------------------------------------\u001b[0m",
      "\u001b[1;31mKeyboardInterrupt\u001b[0m                         Traceback (most recent call last)",
      "\u001b[1;32mc:\\Users\\andre\\Desktop\\Collection\\Uni Year 4\\Individual Project\\Individual-Project\\data\\notebooks\\proces_appareal.ipynb Cell 2\u001b[0m line \u001b[0;36m2\n\u001b[0;32m      <a href='vscode-notebook-cell:/c%3A/Users/andre/Desktop/Collection/Uni%20Year%204/Individual%20Project/Individual-Project/data/notebooks/proces_appareal.ipynb#W1sZmlsZQ%3D%3D?line=0'>1</a>\u001b[0m save_imgs(\u001b[39m\"\u001b[39m\u001b[39mtest\u001b[39m\u001b[39m\"\u001b[39m)\n\u001b[1;32m----> <a href='vscode-notebook-cell:/c%3A/Users/andre/Desktop/Collection/Uni%20Year%204/Individual%20Project/Individual-Project/data/notebooks/proces_appareal.ipynb#W1sZmlsZQ%3D%3D?line=1'>2</a>\u001b[0m save_imgs(\u001b[39m\"\u001b[39;49m\u001b[39mvalid\u001b[39;49m\u001b[39m\"\u001b[39;49m)\n\u001b[0;32m      <a href='vscode-notebook-cell:/c%3A/Users/andre/Desktop/Collection/Uni%20Year%204/Individual%20Project/Individual-Project/data/notebooks/proces_appareal.ipynb#W1sZmlsZQ%3D%3D?line=2'>3</a>\u001b[0m save_imgs(\u001b[39m\"\u001b[39m\u001b[39mtrain\u001b[39m\u001b[39m\"\u001b[39m)\n",
      "\u001b[1;32mc:\\Users\\andre\\Desktop\\Collection\\Uni Year 4\\Individual Project\\Individual-Project\\data\\notebooks\\proces_appareal.ipynb Cell 2\u001b[0m line \u001b[0;36m1\n\u001b[0;32m     <a href='vscode-notebook-cell:/c%3A/Users/andre/Desktop/Collection/Uni%20Year%204/Individual%20Project/Individual-Project/data/notebooks/proces_appareal.ipynb#W1sZmlsZQ%3D%3D?line=16'>17</a>\u001b[0m     \u001b[39mcontinue\u001b[39;00m\n\u001b[0;32m     <a href='vscode-notebook-cell:/c%3A/Users/andre/Desktop/Collection/Uni%20Year%204/Individual%20Project/Individual-Project/data/notebooks/proces_appareal.ipynb#W1sZmlsZQ%3D%3D?line=17'>18</a>\u001b[0m loaded_img \u001b[39m=\u001b[39m face_recognition\u001b[39m.\u001b[39mload_image_file(\u001b[39mf\u001b[39m\u001b[39m\"\u001b[39m\u001b[39m{\u001b[39;00mdir_path\u001b[39m}\u001b[39;00m\u001b[39m/\u001b[39m\u001b[39m{\u001b[39;00mbranch\u001b[39m}\u001b[39;00m\u001b[39m/\u001b[39m\u001b[39m{\u001b[39;00mimg_path\u001b[39m}\u001b[39;00m\u001b[39m\"\u001b[39m)\n\u001b[1;32m---> <a href='vscode-notebook-cell:/c%3A/Users/andre/Desktop/Collection/Uni%20Year%204/Individual%20Project/Individual-Project/data/notebooks/proces_appareal.ipynb#W1sZmlsZQ%3D%3D?line=18'>19</a>\u001b[0m face_locations \u001b[39m=\u001b[39m face_recognition\u001b[39m.\u001b[39;49mface_locations(loaded_img)\n\u001b[0;32m     <a href='vscode-notebook-cell:/c%3A/Users/andre/Desktop/Collection/Uni%20Year%204/Individual%20Project/Individual-Project/data/notebooks/proces_appareal.ipynb#W1sZmlsZQ%3D%3D?line=19'>20</a>\u001b[0m \u001b[39mtry\u001b[39;00m:\n\u001b[0;32m     <a href='vscode-notebook-cell:/c%3A/Users/andre/Desktop/Collection/Uni%20Year%204/Individual%20Project/Individual-Project/data/notebooks/proces_appareal.ipynb#W1sZmlsZQ%3D%3D?line=20'>21</a>\u001b[0m     top, right, bottom, left \u001b[39m=\u001b[39m face_locations[\u001b[39m0\u001b[39m]\n",
      "File \u001b[1;32mc:\\Python310\\lib\\site-packages\\face_recognition\\api.py:121\u001b[0m, in \u001b[0;36mface_locations\u001b[1;34m(img, number_of_times_to_upsample, model)\u001b[0m\n\u001b[0;32m    119\u001b[0m     \u001b[39mreturn\u001b[39;00m [_trim_css_to_bounds(_rect_to_css(face\u001b[39m.\u001b[39mrect), img\u001b[39m.\u001b[39mshape) \u001b[39mfor\u001b[39;00m face \u001b[39min\u001b[39;00m _raw_face_locations(img, number_of_times_to_upsample, \u001b[39m\"\u001b[39m\u001b[39mcnn\u001b[39m\u001b[39m\"\u001b[39m)]\n\u001b[0;32m    120\u001b[0m \u001b[39melse\u001b[39;00m:\n\u001b[1;32m--> 121\u001b[0m     \u001b[39mreturn\u001b[39;00m [_trim_css_to_bounds(_rect_to_css(face), img\u001b[39m.\u001b[39mshape) \u001b[39mfor\u001b[39;00m face \u001b[39min\u001b[39;00m _raw_face_locations(img, number_of_times_to_upsample, model)]\n",
      "File \u001b[1;32mc:\\Python310\\lib\\site-packages\\face_recognition\\api.py:105\u001b[0m, in \u001b[0;36m_raw_face_locations\u001b[1;34m(img, number_of_times_to_upsample, model)\u001b[0m\n\u001b[0;32m    103\u001b[0m     \u001b[39mreturn\u001b[39;00m cnn_face_detector(img, number_of_times_to_upsample)\n\u001b[0;32m    104\u001b[0m \u001b[39melse\u001b[39;00m:\n\u001b[1;32m--> 105\u001b[0m     \u001b[39mreturn\u001b[39;00m face_detector(img, number_of_times_to_upsample)\n",
      "\u001b[1;31mKeyboardInterrupt\u001b[0m: "
     ]
    }
   ],
   "source": [
    "#save_imgs(\"test\")\n",
    "save_imgs(\"valid\")\n",
    "save_imgs(\"train\")"
   ]
  },
  {
   "cell_type": "code",
   "execution_count": null,
   "metadata": {},
   "outputs": [],
   "source": []
  }
 ],
 "metadata": {
  "kernelspec": {
   "display_name": "base",
   "language": "python",
   "name": "python3"
  },
  "language_info": {
   "codemirror_mode": {
    "name": "ipython",
    "version": 3
   },
   "file_extension": ".py",
   "mimetype": "text/x-python",
   "name": "python",
   "nbconvert_exporter": "python",
   "pygments_lexer": "ipython3",
   "version": "3.10.11"
  }
 },
 "nbformat": 4,
 "nbformat_minor": 2
}
