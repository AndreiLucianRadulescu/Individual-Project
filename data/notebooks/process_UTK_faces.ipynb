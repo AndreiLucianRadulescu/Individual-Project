{
 "cells": [
  {
   "cell_type": "code",
   "execution_count": 9,
   "id": "b16d8a5b",
   "metadata": {},
   "outputs": [
    {
     "name": "stderr",
     "output_type": "stream",
     "text": [
      "  0%|          | 29/6027 [00:16<55:50,  1.79it/s]\n"
     ]
    },
    {
     "ename": "KeyboardInterrupt",
     "evalue": "",
     "output_type": "error",
     "traceback": [
      "\u001b[1;31m---------------------------------------------------------------------------\u001b[0m",
      "\u001b[1;31mKeyboardInterrupt\u001b[0m                         Traceback (most recent call last)",
      "\u001b[1;32mc:\\Users\\andre\\Desktop\\Individual Project\\Individual-Project\\data\\notebooks\\process_UTK_faces.ipynb Cell 1\u001b[0m line \u001b[0;36m3\n\u001b[0;32m     <a href='vscode-notebook-cell:/c%3A/Users/andre/Desktop/Individual%20Project/Individual-Project/data/notebooks/process_UTK_faces.ipynb#W2sZmlsZQ%3D%3D?line=31'>32</a>\u001b[0m             face \u001b[39m=\u001b[39m cv2\u001b[39m.\u001b[39mresize(face, (\u001b[39m128\u001b[39m, \u001b[39m128\u001b[39m), interpolation\u001b[39m=\u001b[39mcv2\u001b[39m.\u001b[39mINTER_CUBIC)\n\u001b[0;32m     <a href='vscode-notebook-cell:/c%3A/Users/andre/Desktop/Individual%20Project/Individual-Project/data/notebooks/process_UTK_faces.ipynb#W2sZmlsZQ%3D%3D?line=33'>34</a>\u001b[0m         cv2\u001b[39m.\u001b[39mimwrite(\u001b[39mf\u001b[39m\u001b[39m\"\u001b[39m\u001b[39m{\u001b[39;00mnew_dir_path\u001b[39m}\u001b[39;00m\u001b[39m/\u001b[39m\u001b[39m{\u001b[39;00mimg_path\u001b[39m}\u001b[39;00m\u001b[39m\"\u001b[39m, cv2\u001b[39m.\u001b[39mcvtColor(face, cv2\u001b[39m.\u001b[39mCOLOR_RGB2BGR))\n\u001b[1;32m---> <a href='vscode-notebook-cell:/c%3A/Users/andre/Desktop/Individual%20Project/Individual-Project/data/notebooks/process_UTK_faces.ipynb#W2sZmlsZQ%3D%3D?line=35'>36</a>\u001b[0m save_imgs(\u001b[39m0\u001b[39;49m)\n",
      "\u001b[1;32mc:\\Users\\andre\\Desktop\\Individual Project\\Individual-Project\\data\\notebooks\\process_UTK_faces.ipynb Cell 1\u001b[0m line \u001b[0;36m2\n\u001b[0;32m     <a href='vscode-notebook-cell:/c%3A/Users/andre/Desktop/Individual%20Project/Individual-Project/data/notebooks/process_UTK_faces.ipynb#W2sZmlsZQ%3D%3D?line=18'>19</a>\u001b[0m img_path \u001b[39m=\u001b[39m all_imgs[i]\n\u001b[0;32m     <a href='vscode-notebook-cell:/c%3A/Users/andre/Desktop/Individual%20Project/Individual-Project/data/notebooks/process_UTK_faces.ipynb#W2sZmlsZQ%3D%3D?line=19'>20</a>\u001b[0m loaded_img \u001b[39m=\u001b[39m face_recognition\u001b[39m.\u001b[39mload_image_file(\u001b[39mf\u001b[39m\u001b[39m\"\u001b[39m\u001b[39m{\u001b[39;00mdir_path\u001b[39m}\u001b[39;00m\u001b[39m/\u001b[39m\u001b[39m{\u001b[39;00mimg_path\u001b[39m}\u001b[39;00m\u001b[39m\"\u001b[39m)\n\u001b[1;32m---> <a href='vscode-notebook-cell:/c%3A/Users/andre/Desktop/Individual%20Project/Individual-Project/data/notebooks/process_UTK_faces.ipynb#W2sZmlsZQ%3D%3D?line=20'>21</a>\u001b[0m face_locations \u001b[39m=\u001b[39m face_recognition\u001b[39m.\u001b[39;49mface_locations(loaded_img)\n\u001b[0;32m     <a href='vscode-notebook-cell:/c%3A/Users/andre/Desktop/Individual%20Project/Individual-Project/data/notebooks/process_UTK_faces.ipynb#W2sZmlsZQ%3D%3D?line=21'>22</a>\u001b[0m \u001b[39mtry\u001b[39;00m:\n\u001b[0;32m     <a href='vscode-notebook-cell:/c%3A/Users/andre/Desktop/Individual%20Project/Individual-Project/data/notebooks/process_UTK_faces.ipynb#W2sZmlsZQ%3D%3D?line=22'>23</a>\u001b[0m     top, right, bottom, left \u001b[39m=\u001b[39m face_locations[\u001b[39m0\u001b[39m]\n",
      "File \u001b[1;32mc:\\Python310\\lib\\site-packages\\face_recognition\\api.py:121\u001b[0m, in \u001b[0;36mface_locations\u001b[1;34m(img, number_of_times_to_upsample, model)\u001b[0m\n\u001b[0;32m    119\u001b[0m     \u001b[39mreturn\u001b[39;00m [_trim_css_to_bounds(_rect_to_css(face\u001b[39m.\u001b[39mrect), img\u001b[39m.\u001b[39mshape) \u001b[39mfor\u001b[39;00m face \u001b[39min\u001b[39;00m _raw_face_locations(img, number_of_times_to_upsample, \u001b[39m\"\u001b[39m\u001b[39mcnn\u001b[39m\u001b[39m\"\u001b[39m)]\n\u001b[0;32m    120\u001b[0m \u001b[39melse\u001b[39;00m:\n\u001b[1;32m--> 121\u001b[0m     \u001b[39mreturn\u001b[39;00m [_trim_css_to_bounds(_rect_to_css(face), img\u001b[39m.\u001b[39mshape) \u001b[39mfor\u001b[39;00m face \u001b[39min\u001b[39;00m _raw_face_locations(img, number_of_times_to_upsample, model)]\n",
      "File \u001b[1;32mc:\\Python310\\lib\\site-packages\\face_recognition\\api.py:105\u001b[0m, in \u001b[0;36m_raw_face_locations\u001b[1;34m(img, number_of_times_to_upsample, model)\u001b[0m\n\u001b[0;32m    103\u001b[0m     \u001b[39mreturn\u001b[39;00m cnn_face_detector(img, number_of_times_to_upsample)\n\u001b[0;32m    104\u001b[0m \u001b[39melse\u001b[39;00m:\n\u001b[1;32m--> 105\u001b[0m     \u001b[39mreturn\u001b[39;00m face_detector(img, number_of_times_to_upsample)\n",
      "\u001b[1;31mKeyboardInterrupt\u001b[0m: "
     ]
    }
   ],
   "source": [
    "import face_recognition\n",
    "import cv2\n",
    "import os\n",
    "from tqdm import tqdm\n",
    "import _thread\n",
    "import matplotlib.pyplot as plt\n",
    "from IPython.display import Image, display\n",
    "dir_path = \"../raw/UTKFaces\"\n",
    "new_dir_path = \"../processed/UTKFaces\"\n",
    "\n",
    "all_imgs = os.listdir(dir_path)\n",
    "nr_imgs = len(all_imgs)\n",
    "\n",
    "if not(os.path.exists(new_dir_path) and os.path.isdir(new_dir_path)):\n",
    "    os.mkdir(new_dir_path)\n",
    "\n",
    "def save_imgs(thread_idx):\n",
    "    for i in tqdm(range((thread_idx * (nr_imgs // 4)), ((thread_idx+1) * (nr_imgs // 4)))):\n",
    "        img_path = all_imgs[i]\n",
    "        loaded_img = face_recognition.load_image_file(f\"{dir_path}/{img_path}\")\n",
    "        face_locations = face_recognition.face_locations(loaded_img)\n",
    "        try:\n",
    "            top, right, bottom, left = face_locations[0]\n",
    "        except:\n",
    "            continue\n",
    "\n",
    "        face = loaded_img[top:bottom, left:right]\n",
    "\n",
    "        if(face.shape[0] > 128):\n",
    "            face = cv2.resize(face, (128, 128), interpolation=cv2.INTER_AREA)\n",
    "        else:\n",
    "            face = cv2.resize(face, (128, 128), interpolation=cv2.INTER_CUBIC)\n",
    "        \n",
    "        cv2.imwrite(f\"{new_dir_path}/{img_path}\", cv2.cvtColor(face, cv2.COLOR_RGB2BGR))\n",
    "\n",
    "save_imgs(0)\n",
    "\n"
   ]
  },
  {
   "cell_type": "code",
   "execution_count": 8,
   "id": "57af50fb",
   "metadata": {},
   "outputs": [
    {
     "name": "stdout",
     "output_type": "stream",
     "text": [
      "[(13, 65), (16, 86), (19, 107), (23, 128), (32, 146), (44, 160), (61, 171), (79, 181), (99, 186), (120, 185), (144, 178), (167, 168), (185, 153), (196, 133), (201, 110), (204, 85), (207, 60)]\n"
     ]
    }
   ],
   "source": [
    "# image = face_recognition.load_image_file(img_path)\n",
    "# face_locations = face_recognition.face_locations(image)\n",
    "# print(face_locations)\n",
    "# top, right, bottom, left = face_locations[0]\n",
    "# face = image[top:bottom, left:right]\n",
    "\n",
    "# print(face.shape)\n",
    "# plt.imshow(face)"
   ]
  }
 ],
 "metadata": {
  "kernelspec": {
   "display_name": "Python 3 (ipykernel)",
   "language": "python",
   "name": "python3"
  },
  "language_info": {
   "codemirror_mode": {
    "name": "ipython",
    "version": 3
   },
   "file_extension": ".py",
   "mimetype": "text/x-python",
   "name": "python",
   "nbconvert_exporter": "python",
   "pygments_lexer": "ipython3",
   "version": "3.10.11"
  }
 },
 "nbformat": 4,
 "nbformat_minor": 5
}
