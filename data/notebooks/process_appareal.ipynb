{
 "cells": [
  {
   "cell_type": "code",
   "execution_count": 2,
   "metadata": {},
   "outputs": [],
   "source": [
    "import face_recognition\n",
    "import cv2\n",
    "import os\n",
    "from tqdm import tqdm\n",
    "import _thread\n",
    "import matplotlib.pyplot as plt\n",
    "from IPython.display import Image, display\n",
    "dir_path = \"../raw/appa-real-release/\"\n",
    "new_dir_path = \"../processed/appa-real\"\n",
    "\n",
    "def save_imgs(branch):\n",
    "    all_imgs = os.listdir(dir_path+f\"/{branch}\")\n",
    "    num_imgs = len(all_imgs)\n",
    "    for i in tqdm(range(num_imgs)):\n",
    "        img_path = all_imgs[i]\n",
    "        if \"jpg_face\" in img_path:\n",
    "            continue\n",
    "        loaded_img = face_recognition.load_image_file(f\"{dir_path}/{branch}/{img_path}\")\n",
    "        face_locations = face_recognition.face_locations(loaded_img)\n",
    "        try:\n",
    "            top, right, bottom, left = face_locations[0]\n",
    "        except:\n",
    "            continue\n",
    "\n",
    "        face = loaded_img[top:bottom, left:right]\n",
    "\n",
    "        if(face.shape[0] > 128):\n",
    "            face = cv2.resize(face, (128, 128), interpolation=cv2.INTER_AREA)\n",
    "        else:\n",
    "            face = cv2.resize(face, (128, 128), interpolation=cv2.INTER_CUBIC)\n",
    "        cv2.imwrite(f\"{new_dir_path}/{branch}/{img_path}\", cv2.cvtColor(face, cv2.COLOR_RGB2BGR))\n",
    "\n"
   ]
  },
  {
   "cell_type": "code",
   "execution_count": 3,
   "metadata": {},
   "outputs": [
    {
     "name": "stderr",
     "output_type": "stream",
     "text": [
      "100%|██████████| 3956/3956 [07:16<00:00,  9.06it/s]\n"
     ]
    }
   ],
   "source": [
    "save_imgs(\"test\")"
   ]
  },
  {
   "cell_type": "code",
   "execution_count": 4,
   "metadata": {},
   "outputs": [
    {
     "name": "stderr",
     "output_type": "stream",
     "text": [
      "100%|██████████| 3000/3000 [06:13<00:00,  8.03it/s]\n"
     ]
    }
   ],
   "source": [
    "save_imgs(\"valid\")"
   ]
  },
  {
   "cell_type": "code",
   "execution_count": 5,
   "metadata": {},
   "outputs": [
    {
     "name": "stderr",
     "output_type": "stream",
     "text": [
      "100%|██████████| 8226/8226 [27:27<00:00,  4.99it/s]    \n"
     ]
    }
   ],
   "source": [
    "save_imgs(\"train\")"
   ]
  }
 ],
 "metadata": {
  "kernelspec": {
   "display_name": "base",
   "language": "python",
   "name": "python3"
  },
  "language_info": {
   "codemirror_mode": {
    "name": "ipython",
    "version": 3
   },
   "file_extension": ".py",
   "mimetype": "text/x-python",
   "name": "python",
   "nbconvert_exporter": "python",
   "pygments_lexer": "ipython3",
   "version": "3.10.11"
  }
 },
 "nbformat": 4,
 "nbformat_minor": 2
}
