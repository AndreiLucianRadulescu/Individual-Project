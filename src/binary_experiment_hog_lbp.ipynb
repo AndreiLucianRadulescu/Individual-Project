{
 "cells": [
  {
   "cell_type": "code",
   "execution_count": 1,
   "metadata": {},
   "outputs": [],
   "source": [
    "import json\n",
    "import pickle\n",
    "import numpy as np\n",
    "from sklearn.svm import LinearSVC, SVC\n",
    "from sklearn.metrics import classification_report, accuracy_score"
   ]
  },
  {
   "cell_type": "code",
   "execution_count": 2,
   "metadata": {},
   "outputs": [],
   "source": [
    "def get_class_dict(filename):\n",
    "    with open(filename, \"r\") as f:\n",
    "        class_dict = json.load(f)\n",
    "    \n",
    "    return class_dict\n",
    "\n",
    "# Function that gets the label for an age, given a label dictionary\n",
    "def get_class(age, class_dict):\n",
    "    for label, age_interval in class_dict.items():\n",
    "        if age >= age_interval[0] and age <= age_interval[1]:\n",
    "            return label\n",
    "\n",
    "    return -1"
   ]
  },
  {
   "cell_type": "markdown",
   "metadata": {},
   "source": [
    "### HOG Experiment"
   ]
  },
  {
   "cell_type": "code",
   "execution_count": 3,
   "metadata": {},
   "outputs": [],
   "source": [
    "binary_dict = get_class_dict('age_intervals_binary.json')\n",
    "\n",
    "with open('./dataframe.pkl', 'rb') as f:\n",
    "    hog_df = pickle.load(f)\n",
    "\n",
    "with open('initial_splits_binary.json', 'r') as f:\n",
    "    fold_data = json.load(f)"
   ]
  },
  {
   "cell_type": "code",
   "execution_count": 4,
   "metadata": {},
   "outputs": [],
   "source": [
    "X_train = np.vstack(np.array([item for item in hog_df['hog_features']])[fold_data[\"train\"]])\n",
    "y_train = np.array([get_class(x, binary_dict) for x in hog_df['age']])[fold_data[\"train\"]]\n",
    "\n",
    "X_test = np.vstack(np.array([item for item in hog_df['hog_features']])[fold_data[\"test\"]])\n",
    "y_test = np.array([get_class(x, binary_dict) for x in hog_df['age']])[fold_data[\"test\"]]"
   ]
  },
  {
   "cell_type": "code",
   "execution_count": 5,
   "metadata": {},
   "outputs": [
    {
     "name": "stdout",
     "output_type": "stream",
     "text": [
      "Final test metrics are: \n",
      "\n",
      "              precision    recall  f1-score   support\n",
      "\n",
      "           0     0.6136    0.1441    0.2334       562\n",
      "           1     0.9082    0.9894    0.9471      4809\n",
      "\n",
      "    accuracy                         0.9009      5371\n",
      "   macro avg     0.7609    0.5668    0.5902      5371\n",
      "weighted avg     0.8774    0.9009    0.8724      5371\n",
      "\n"
     ]
    }
   ],
   "source": [
    "svm_hog = SVC(C=0.1, kernel='poly', random_state=42)\n",
    "svm_hog.fit(X_train, y_train)\n",
    "predictions = svm_hog.predict(X_test)\n",
    "report = classification_report(y_test, predictions, digits=4)\n",
    "print(f'Final test metrics are: \\n')\n",
    "print(report)"
   ]
  },
  {
   "cell_type": "code",
   "execution_count": 6,
   "metadata": {},
   "outputs": [
    {
     "name": "stdout",
     "output_type": "stream",
     "text": [
      "Accuracy:  0.9009495438465835\n"
     ]
    }
   ],
   "source": [
    "print('Accuracy: ', accuracy_score(y_test, predictions))"
   ]
  },
  {
   "cell_type": "markdown",
   "metadata": {},
   "source": [
    "### LBP Experiment"
   ]
  },
  {
   "cell_type": "code",
   "execution_count": 7,
   "metadata": {},
   "outputs": [],
   "source": [
    "with open('dataframe_lbp_16p_2r.pkl', 'rb') as f:\n",
    "    lbp_df = pickle.load(f)"
   ]
  },
  {
   "cell_type": "code",
   "execution_count": 8,
   "metadata": {},
   "outputs": [],
   "source": [
    "X_train = np.vstack(np.array([item for item in lbp_df['lbp_16p_2r']])[fold_data[\"train\"]])\n",
    "y_train = np.array([get_class(x, binary_dict) for x in lbp_df['age']])[fold_data[\"train\"]]\n",
    "\n",
    "X_test = np.vstack(np.array([item for item in lbp_df['lbp_16p_2r']])[fold_data[\"test\"]])\n",
    "y_test = np.array([get_class(x, binary_dict) for x in lbp_df['age']])[fold_data[\"test\"]]"
   ]
  },
  {
   "cell_type": "code",
   "execution_count": 9,
   "metadata": {},
   "outputs": [
    {
     "name": "stdout",
     "output_type": "stream",
     "text": [
      "Final test metrics are: \n",
      "\n",
      "              precision    recall  f1-score   support\n",
      "\n",
      "           0     0.0000    0.0000    0.0000       562\n",
      "           1     0.8954    1.0000    0.9448      4809\n",
      "\n",
      "    accuracy                         0.8954      5371\n",
      "   macro avg     0.4477    0.5000    0.4724      5371\n",
      "weighted avg     0.8017    0.8954    0.8459      5371\n",
      "\n"
     ]
    },
    {
     "name": "stderr",
     "output_type": "stream",
     "text": [
      "c:\\Python310\\lib\\site-packages\\sklearn\\metrics\\_classification.py:1471: UndefinedMetricWarning: Precision and F-score are ill-defined and being set to 0.0 in labels with no predicted samples. Use `zero_division` parameter to control this behavior.\n",
      "  _warn_prf(average, modifier, msg_start, len(result))\n",
      "c:\\Python310\\lib\\site-packages\\sklearn\\metrics\\_classification.py:1471: UndefinedMetricWarning: Precision and F-score are ill-defined and being set to 0.0 in labels with no predicted samples. Use `zero_division` parameter to control this behavior.\n",
      "  _warn_prf(average, modifier, msg_start, len(result))\n",
      "c:\\Python310\\lib\\site-packages\\sklearn\\metrics\\_classification.py:1471: UndefinedMetricWarning: Precision and F-score are ill-defined and being set to 0.0 in labels with no predicted samples. Use `zero_division` parameter to control this behavior.\n",
      "  _warn_prf(average, modifier, msg_start, len(result))\n"
     ]
    }
   ],
   "source": [
    "svm_lbp = SVC(C=1000, kernel='rbf', random_state=42)\n",
    "svm_lbp.fit(X_train, y_train)\n",
    "predictions = svm_lbp.predict(X_test)\n",
    "report = classification_report(y_test, predictions, digits=4)\n",
    "print(f'Final test metrics are: \\n')\n",
    "print(report)"
   ]
  },
  {
   "cell_type": "code",
   "execution_count": 10,
   "metadata": {},
   "outputs": [
    {
     "name": "stdout",
     "output_type": "stream",
     "text": [
      "Accuracy:  0.895363991807857\n"
     ]
    }
   ],
   "source": [
    "print('Accuracy: ', accuracy_score(y_test, predictions))"
   ]
  }
 ],
 "metadata": {
  "kernelspec": {
   "display_name": "Python 3",
   "language": "python",
   "name": "python3"
  },
  "language_info": {
   "codemirror_mode": {
    "name": "ipython",
    "version": 3
   },
   "file_extension": ".py",
   "mimetype": "text/x-python",
   "name": "python",
   "nbconvert_exporter": "python",
   "pygments_lexer": "ipython3",
   "version": "3.10.11"
  }
 },
 "nbformat": 4,
 "nbformat_minor": 2
}
