{
 "cells": [
  {
   "cell_type": "markdown",
   "metadata": {},
   "source": [
    "### Now it's time to test how the LBP (Local Binary Patterns) method works when extracting features from images."
   ]
  },
  {
   "cell_type": "code",
   "execution_count": 1,
   "metadata": {},
   "outputs": [],
   "source": [
    "from skimage.feature import local_binary_pattern\n",
    "from skimage import io, color, feature\n",
    "import os\n",
    "import cv2\n",
    "import numpy as np\n",
    "import matplotlib.pyplot as plt\n",
    "import json\n",
    "import pickle\n",
    "import pandas as pd\n",
    "from tqdm import tqdm\n",
    "from sklearn.svm import LinearSVC, SVC\n",
    "from sklearn.metrics import accuracy_score, classification_report\n",
    "\n",
    "pickle_file_path = './dataframe.pkl'\n",
    "all_images_path = '../data/processed/all_images'\n",
    "all_images = os.listdir(all_images_path)"
   ]
  },
  {
   "cell_type": "code",
   "execution_count": 2,
   "metadata": {},
   "outputs": [],
   "source": [
    "def extract_lbp(imagepath, num_points, radius):\n",
    "    rgb_image = cv2.imread(f\"{all_images_path}/{imagepath}\")\n",
    "    gray_image = cv2.cvtColor(rgb_image, cv2.COLOR_BGR2GRAY)\n",
    "    \n",
    "    lbp = local_binary_pattern(gray_image, num_points, radius, method='uniform')\n",
    "    (histogram, _) = np.histogram(lbp.ravel(), bins=np.arange(0, num_points+3), range = (0, num_points+2))\n",
    "    \n",
    "    histogram = histogram.astype(\"float\")\n",
    "    return histogram"
   ]
  },
  {
   "cell_type": "code",
   "execution_count": 5,
   "metadata": {},
   "outputs": [
    {
     "name": "stdout",
     "output_type": "stream",
     "text": [
      "16384.0\n"
     ]
    },
    {
     "data": {
      "image/png": "[encoded data removed]",
      "text/plain": [
       "<Figure size 640x480 with 1 Axes>"
      ]
     },
     "metadata": {},
     "output_type": "display_data"
    }
   ],
   "source": [
    "P = 16\n",
    "R = 2\n",
    "x = extract_lbp(all_images[0], P, R)\n",
    "print(sum(x))\n",
    "# Plot the histogram\n",
    "plt.bar(np.arange(0, P+2), x, align='center')\n",
    "plt.title('LBP Histogram')\n",
    "plt.xlabel('LBP Code')\n",
    "plt.ylabel('Frequency')\n",
    "plt.show()"
   ]
  },
  {
   "cell_type": "markdown",
   "metadata": {},
   "source": [
    "### After seeing how the LBP histogram looks, I will experiment with different normalisation techniques.\n",
    "For this part, I will choose the number of points to be 16, the radius to be 2, and I will perform training and validation on the first fold of the 5 folds performed for HOG."
   ]
  },
  {
   "cell_type": "code",
   "execution_count": 139,
   "metadata": {},
   "outputs": [],
   "source": [
    "with open('dataframe.pkl', 'rb') as f:\n",
    "    hog_df = pickle.load(f)\n",
    "\n",
    "no_hog_df = hog_df.drop('hog_features', axis=1)"
   ]
  },
  {
   "cell_type": "code",
   "execution_count": 141,
   "metadata": {},
   "outputs": [
    {
     "name": "stderr",
     "output_type": "stream",
     "text": [
      "100%|██████████| 26851/26851 [03:28<00:00, 128.82it/s]"
     ]
    },
    {
     "name": "stdout",
     "output_type": "stream",
     "text": [
      "                              name  age  \\\n",
      "0                       000002.jpg   80   \n",
      "1                       000003.jpg   50   \n",
      "2                       000004.jpg   17   \n",
      "3                       000005.jpg   27   \n",
      "4                       000006.jpg   24   \n",
      "...                            ...  ...   \n",
      "26846  9_1_0_20170110224621441.jpg    9   \n",
      "26847  9_1_0_20170117172655681.jpg    9   \n",
      "26848  9_1_0_20170117180006484.jpg    9   \n",
      "26849  9_1_1_20170109201837354.jpg    9   \n",
      "26850  9_1_1_20170117105556810.jpg    9   \n",
      "\n",
      "                                              lbp_p16_r2  \n",
      "0      [703.0, 449.0, 606.0, 598.0, 482.0, 594.0, 793...  \n",
      "1      [775.0, 548.0, 524.0, 472.0, 449.0, 593.0, 751...  \n",
      "2      [537.0, 324.0, 421.0, 517.0, 451.0, 643.0, 100...  \n",
      "3      [594.0, 365.0, 407.0, 473.0, 513.0, 693.0, 970...  \n",
      "4      [235.0, 234.0, 262.0, 286.0, 381.0, 698.0, 107...  \n",
      "...                                                  ...  \n",
      "26846  [478.0, 291.0, 381.0, 399.0, 515.0, 753.0, 108...  \n",
      "26847  [543.0, 248.0, 366.0, 554.0, 623.0, 741.0, 109...  \n",
      "26848  [276.0, 239.0, 300.0, 391.0, 432.0, 673.0, 100...  \n",
      "26849  [754.0, 469.0, 424.0, 401.0, 470.0, 643.0, 835...  \n",
      "26850  [281.0, 168.0, 269.0, 367.0, 425.0, 678.0, 107...  \n",
      "\n",
      "[26851 rows x 3 columns]\n"
     ]
    },
    {
     "name": "stderr",
     "output_type": "stream",
     "text": [
      "\n"
     ]
    }
   ],
   "source": [
    "tqdm.pandas()\n",
    "no_hog_df['lbp_p16_r2'] = no_hog_df['name'].progress_apply(lambda x: extract_lbp(x, 16, 2))\n",
    "print(no_hog_df)"
   ]
  },
  {
   "cell_type": "code",
   "execution_count": 142,
   "metadata": {},
   "outputs": [],
   "source": [
    "with open('./dataframe_lbp_16p_2r.pkl', 'wb') as f:\n",
    "    pickle.dump(no_hog_df, f)"
   ]
  },
  {
   "cell_type": "code",
   "execution_count": 9,
   "metadata": {},
   "outputs": [],
   "source": [
    "def normalise_histogram(histogram, method):\n",
    "    if method == 'L1':\n",
    "        # L1 normalization (sum of absolute values)\n",
    "        norm_factor = np.sum(np.abs(histogram))\n",
    "    elif method == 'L2':\n",
    "        # L2 normalization (Euclidean norm)\n",
    "        norm_factor = np.sqrt(np.sum(histogram ** 2))\n",
    "    elif method == 'max':\n",
    "        # Max normalization (divide by maximum value)\n",
    "        norm_factor = np.max(histogram)\n",
    "    elif method == 'sum':\n",
    "        # Sum normalization (divide by sum of values)\n",
    "        norm_factor = np.sum(histogram)\n",
    "    else:\n",
    "        norm_factor = np.sum(np.abs(histogram))\n",
    "\n",
    "    return histogram / norm_factor\n",
    "\n",
    "def get_class_dict(filename):\n",
    "    with open(filename, \"r\") as f:\n",
    "        class_dict = json.load(f)\n",
    "    \n",
    "    return class_dict\n",
    "\n",
    "# Function that gets the label for an age, given a label dictionary\n",
    "def get_class(age, class_dict):\n",
    "    for label, age_interval in class_dict.items():\n",
    "        if age >= age_interval[0] and age <= age_interval[1]:\n",
    "            return label\n",
    "\n",
    "    return -1"
   ]
  },
  {
   "cell_type": "code",
   "execution_count": 11,
   "metadata": {},
   "outputs": [],
   "source": [
    "multilabel_dict = get_class_dict(\"age_intervals_one.json\")"
   ]
  },
  {
   "cell_type": "code",
   "execution_count": 173,
   "metadata": {},
   "outputs": [
    {
     "name": "stderr",
     "output_type": "stream",
     "text": [
      "  0%|          | 0/4 [00:00<?, ?it/s]"
     ]
    },
    {
     "name": "stdout",
     "output_type": "stream",
     "text": [
      "Working for norm = L1\n",
      "Working for norm = L1\n",
      "Working for norm = L1\n",
      "Working for norm = L1\n",
      "Working for norm = L1\n"
     ]
    },
    {
     "name": "stderr",
     "output_type": "stream",
     "text": [
      " 25%|██▌       | 1/4 [01:54<05:43, 114.57s/it]"
     ]
    },
    {
     "name": "stdout",
     "output_type": "stream",
     "text": [
      "CV Accuracy for norm = L1 is: 0.44017690875232773\n",
      "Working for norm = L2\n",
      "Working for norm = L2\n",
      "Working for norm = L2\n",
      "Working for norm = L2\n",
      "Working for norm = L2\n"
     ]
    },
    {
     "name": "stderr",
     "output_type": "stream",
     "text": [
      " 50%|█████     | 2/4 [03:50<03:50, 115.20s/it]"
     ]
    },
    {
     "name": "stdout",
     "output_type": "stream",
     "text": [
      "CV Accuracy for norm = L2 is: 0.4395251396648045\n",
      "Working for norm = max\n",
      "Working for norm = max\n",
      "Working for norm = max\n",
      "Working for norm = max\n",
      "Working for norm = max\n"
     ]
    },
    {
     "name": "stderr",
     "output_type": "stream",
     "text": [
      " 75%|███████▌  | 3/4 [05:53<01:58, 118.83s/it]"
     ]
    },
    {
     "name": "stdout",
     "output_type": "stream",
     "text": [
      "CV Accuracy for norm = max is: 0.4400837988826815\n",
      "Working for norm = sum\n",
      "Working for norm = sum\n",
      "Working for norm = sum\n",
      "Working for norm = sum\n",
      "Working for norm = sum\n"
     ]
    },
    {
     "name": "stderr",
     "output_type": "stream",
     "text": [
      "100%|██████████| 4/4 [08:14<00:00, 123.50s/it]"
     ]
    },
    {
     "name": "stdout",
     "output_type": "stream",
     "text": [
      "CV Accuracy for norm = sum is: 0.44017690875232773\n",
      "Therefore, best normalisation is: L1\n"
     ]
    },
    {
     "name": "stderr",
     "output_type": "stream",
     "text": [
      "\n"
     ]
    }
   ],
   "source": [
    "norms = ['L1', 'L2', 'max', 'sum']\n",
    "norms_accuracies = []\n",
    "\n",
    "for i in tqdm(range(len(norms))):\n",
    "    norm = norms[i]\n",
    "    cv_accuracies = []\n",
    "    for j in range(5):\n",
    "        # load the fold indices\n",
    "        with open(f'./fold_data/fold_{j}.json', 'r') as f:\n",
    "            fold_data = json.load(f)\n",
    "        \n",
    "        # get the train and validation folds\n",
    "        X_fold_train = np.vstack(np.array([item for item in no_hog_df['lbp_p16_r2']])[fold_data['train']])\n",
    "        y_fold_train = np.array([get_class(x, multilabel_dict) for x in no_hog_df['age']])[fold_data['train']]\n",
    "        X_fold_val = np.vstack(np.array([item for item in no_hog_df['lbp_p16_r2']])[fold_data['val']])\n",
    "        y_fold_val = np.array([get_class(x, multilabel_dict) for x in no_hog_df['age']])[fold_data['val']]\n",
    "                \n",
    "        # compute normalised LBP histograms\n",
    "        X_fold_train_normalised = np.array([normalise_histogram(row, method=norm) for row in X_fold_train])\n",
    "        X_fold_val_normalised = np.array([normalise_histogram(row, method=norm) for row in X_fold_val])\n",
    "        print(f\"Working for norm = {norm}\")\n",
    "        \n",
    "        svm_classifier = SVC()\n",
    "        svm_classifier.fit(X_fold_train_normalised, y_fold_train)\n",
    "        predictions = svm_classifier.predict(X_fold_val_normalised)\n",
    "        acc = accuracy_score(y_fold_val, predictions)\n",
    "        cv_accuracies.append(acc)\n",
    "    \n",
    "    cv_acc = np.mean(cv_accuracies)\n",
    "    print(f'CV Accuracy for norm = {norm} is: {cv_acc}')\n",
    "    norms_accuracies.append((norm, cv_acc))\n",
    "\n",
    "print(f'Therefore, best normalisation is: {sorted(norms_accuracies, reverse=True, key = lambda x: x[1])[0][0]}')"
   ]
  },
  {
   "cell_type": "markdown",
   "metadata": {},
   "source": [
    "### Although there is no much difference in normalisations, sum normalisation and L1 norm perform the best (because all values are positive, so obviously). Therefore, I will choose the sum norm. Now onto the best choice for the number of points and radius."
   ]
  },
  {
   "cell_type": "code",
   "execution_count": 190,
   "metadata": {},
   "outputs": [
    {
     "name": "stderr",
     "output_type": "stream",
     "text": [
      "100%|██████████| 26851/26851 [02:19<00:00, 192.45it/s]\n",
      "100%|██████████| 26851/26851 [02:32<00:00, 176.41it/s]\n",
      "100%|██████████| 26851/26851 [04:11<00:00, 106.88it/s]\n",
      "100%|██████████| 26851/26851 [03:23<00:00, 131.72it/s]\n",
      "100%|██████████| 26851/26851 [05:20<00:00, 83.67it/s]\n",
      "100%|██████████| 26851/26851 [05:09<00:00, 86.66it/s]\n",
      "100%|██████████| 6/6 [22:59<00:00, 229.94s/it]\n"
     ]
    }
   ],
   "source": [
    "p_r_pairs = [(8, 1), (8, 2), (16, 1), (16, 2), (24, 1), (24, 2)]\n",
    "for i in tqdm(range(len(p_r_pairs))):\n",
    "    p, r = p_r_pairs[i]\n",
    "    with open('dataframe.pkl', 'rb') as f:\n",
    "        hog_df = pickle.load(f)\n",
    "\n",
    "    no_hog_df = hog_df.drop('hog_features', axis=1)\n",
    "    no_hog_df[f'lbp_{p}p_{r}r'] = no_hog_df['name'].progress_apply(lambda x: extract_lbp(x, p, r))\n",
    "\n",
    "    with open(f'./dataframe_lbp_{p}p_{r}r.pkl', 'wb') as f:\n",
    "        pickle.dump(no_hog_df, f)\n",
    "    "
   ]
  },
  {
   "cell_type": "markdown",
   "metadata": {},
   "source": [
    "Now that all lbp features have been saved, we can go ah ead and perform cross validation with a simple SVM classifier, on the 5 folds, to see which parameter setting is the best. Before fitting the SVM, we need to normalise the vectors using L1 norm, as stated previously."
   ]
  },
  {
   "cell_type": "code",
   "execution_count": 207,
   "metadata": {},
   "outputs": [
    {
     "name": "stderr",
     "output_type": "stream",
     "text": [
      "  0%|          | 0/6 [00:00<?, ?it/s]"
     ]
    },
    {
     "name": "stdout",
     "output_type": "stream",
     "text": [
      "Currently working on LBP with p=8 and r=1\n",
      "Accuracy for fold=0 is: 0.4136405959031657.\n",
      "Accuracy for fold=1 is: 0.43854748603351956.\n",
      "Accuracy for fold=2 is: 0.430633147113594.\n",
      "Accuracy for fold=3 is: 0.42481378026070765.\n"
     ]
    },
    {
     "name": "stderr",
     "output_type": "stream",
     "text": [
      " 17%|█▋        | 1/6 [01:32<07:44, 92.91s/it]"
     ]
    },
    {
     "name": "stdout",
     "output_type": "stream",
     "text": [
      "Accuracy for fold=4 is: 0.44297020484171323.\n",
      "Currently working on LBP with p=8 and r=2\n",
      "Accuracy for fold=0 is: 0.41480446927374304.\n",
      "Accuracy for fold=1 is: 0.4411080074487896.\n",
      "Accuracy for fold=2 is: 0.43226256983240224.\n",
      "Accuracy for fold=3 is: 0.42877094972067037.\n"
     ]
    },
    {
     "name": "stderr",
     "output_type": "stream",
     "text": [
      " 33%|███▎      | 2/6 [03:04<06:07, 91.98s/it]"
     ]
    },
    {
     "name": "stdout",
     "output_type": "stream",
     "text": [
      "Accuracy for fold=4 is: 0.44646182495344505.\n",
      "Currently working on LBP with p=16 and r=1\n",
      "Accuracy for fold=0 is: 0.41620111731843573.\n",
      "Accuracy for fold=1 is: 0.44064245810055863.\n",
      "Accuracy for fold=2 is: 0.43226256983240224.\n",
      "Accuracy for fold=3 is: 0.4266759776536313.\n"
     ]
    },
    {
     "name": "stderr",
     "output_type": "stream",
     "text": [
      " 50%|█████     | 3/6 [04:57<05:04, 101.60s/it]"
     ]
    },
    {
     "name": "stdout",
     "output_type": "stream",
     "text": [
      "Accuracy for fold=4 is: 0.44553072625698326.\n",
      "Currently working on LBP with p=16 and r=2\n",
      "Accuracy for fold=0 is: 0.42202048417132215.\n",
      "Accuracy for fold=1 is: 0.4436685288640596.\n",
      "Accuracy for fold=2 is: 0.44273743016759776.\n",
      "Accuracy for fold=3 is: 0.438780260707635.\n"
     ]
    },
    {
     "name": "stderr",
     "output_type": "stream",
     "text": [
      " 67%|██████▋   | 4/6 [06:49<03:31, 105.75s/it]"
     ]
    },
    {
     "name": "stdout",
     "output_type": "stream",
     "text": [
      "Accuracy for fold=4 is: 0.4536778398510242.\n",
      "Currently working on LBP with p=24 and r=1\n",
      "Accuracy for fold=0 is: 0.4180633147113594.\n",
      "Accuracy for fold=1 is: 0.441340782122905.\n",
      "Accuracy for fold=2 is: 0.4338919925512104.\n",
      "Accuracy for fold=3 is: 0.4278398510242086.\n"
     ]
    },
    {
     "name": "stderr",
     "output_type": "stream",
     "text": [
      " 83%|████████▎ | 5/6 [09:03<01:55, 115.91s/it]"
     ]
    },
    {
     "name": "stdout",
     "output_type": "stream",
     "text": [
      "Accuracy for fold=4 is: 0.44646182495344505.\n",
      "Currently working on LBP with p=24 and r=2\n",
      "Accuracy for fold=0 is: 0.4264432029795158.\n",
      "Accuracy for fold=1 is: 0.44273743016759776.\n",
      "Accuracy for fold=2 is: 0.4415735567970205.\n",
      "Accuracy for fold=3 is: 0.4408752327746741.\n"
     ]
    },
    {
     "name": "stderr",
     "output_type": "stream",
     "text": [
      "100%|██████████| 6/6 [11:11<00:00, 111.96s/it]"
     ]
    },
    {
     "name": "stdout",
     "output_type": "stream",
     "text": [
      "Accuracy for fold=4 is: 0.45344506517690875.\n"
     ]
    },
    {
     "name": "stderr",
     "output_type": "stream",
     "text": [
      "\n"
     ]
    }
   ],
   "source": [
    "lbp_prtweak_models = {}\n",
    "best_norm = \"L1\"\n",
    "\n",
    "for i in tqdm(range(len(p_r_pairs))):\n",
    "    # get corresponding dataframe for given p and r values\n",
    "    p, r = p_r_pairs[i]\n",
    "    with open(f'./dataframe_lbp_{p}p_{r}r.pkl', 'rb') as f:\n",
    "        df = pickle.load(f)\n",
    "    \n",
    "    cv_accuracies = []\n",
    "    print(f'Currently working on LBP with p={p} and r={r}')\n",
    "\n",
    "    # iterate through all 5 folds for CV\n",
    "    for j in range(5):\n",
    "        with open(f'./fold_data/fold_{j}.json') as f:\n",
    "            fold_data = json.load(f)\n",
    "        \n",
    "        # get folds from indices\n",
    "        X_fold_train = np.vstack(np.array([item for item in df[f'lbp_{p}p_{r}r']])[fold_data['train']])\n",
    "        y_fold_train = np.array([get_class(x, multilabel_dict) for x in df['age']])[fold_data['train']]\n",
    "        X_fold_val = np.vstack(np.array([item for item in df[f'lbp_{p}p_{r}r']])[fold_data['val']])\n",
    "        y_fold_val = np.array([get_class(x, multilabel_dict) for x in df['age']])[fold_data['val']]\n",
    "\n",
    "        # normalise LBP vectors\n",
    "        X_fold_train_normalised = np.array([normalise_histogram(row, method=best_norm) for row in X_fold_train])\n",
    "        X_fold_val_normalised = np.array([normalise_histogram(row, method=best_norm) for row in X_fold_val])\n",
    "\n",
    "        # fit SVM and find accuracy\n",
    "        svm_classifier = SVC()\n",
    "        svm_classifier.fit(X_fold_train_normalised, y_fold_train)\n",
    "        predictions = svm_classifier.predict(X_fold_val_normalised)\n",
    "        acc = accuracy_score(y_fold_val, predictions)\n",
    "        cv_accuracies.append(acc)\n",
    "        print(f'Accuracy for fold={j} is: {acc}.')\n",
    "    \n",
    "    cv_accuracy = np.mean(cv_accuracies)\n",
    "    lbp_prtweak_models[f'Model_{i*5+j}'] = {'p': p, 'r':r, 'cv_accuracy': cv_accuracy}\n",
    "    \n",
    "    "
   ]
  },
  {
   "cell_type": "code",
   "execution_count": 208,
   "metadata": {},
   "outputs": [],
   "source": [
    "with open('lbp_models_cv_pandr.json', 'w') as f:\n",
    "    json.dump(lbp_prtweak_models, f, indent=4)"
   ]
  },
  {
   "cell_type": "code",
   "execution_count": 209,
   "metadata": {},
   "outputs": [
    {
     "name": "stdout",
     "output_type": "stream",
     "text": [
      "('Model_29', 24, 2, 0.44101489757914336)\n"
     ]
    }
   ],
   "source": [
    "best_parameter_setting = [[model, lbp_prtweak_models[model]['cv_accuracy']] for model in lbp_prtweak_models]\n",
    "best_parameter_setting = sorted(best_parameter_setting, key=lambda x: x[1], reverse=True)[0][0]\n",
    "best_parameter_setting = (best_parameter_setting, lbp_prtweak_models[best_parameter_setting]['p'], \n",
    "                          lbp_prtweak_models[best_parameter_setting]['r'], \n",
    "                          lbp_prtweak_models[best_parameter_setting]['cv_accuracy'])\n",
    "\n",
    "print(best_parameter_setting)"
   ]
  },
  {
   "cell_type": "markdown",
   "metadata": {},
   "source": [
    "### Therefore, the best model has p=24 and r=2. Now onto hyperparameter tuning for the SVM model. As for HOG, I will be tuning C value and the kernel."
   ]
  },
  {
   "cell_type": "code",
   "execution_count": null,
   "metadata": {},
   "outputs": [],
   "source": [
    "best_p, best_r = best_parameter_setting[1:-1]\n",
    "kernels = ['rbf', 'linear', 'poly']\n",
    "C_values = [0.001, 0.01, 0.1, 1, 10, 100, 1000]\n",
    "os.makedirs('lbp_models', exist_ok=True)\n",
    "model_folder = './lbp_models'\n",
    "\n",
    "with open(f'./dataframe_lbp_{best_p}p_{best_r}r.pkl', 'rb') as f:\n",
    "        df = pickle.load(f)\n",
    "\n",
    "for C in C_values:\n",
    "    for kernel in kernels:\n",
    "        print(f'Currently computing CV accuracy for C={C} and kernel={kernel}.')\n",
    "        cv_accuracies = []\n",
    "        model_name = f'Model_C={C}_kernel={kernel}'\n",
    "        \n",
    "        for i in range(5):\n",
    "            with open(f'./fold_data/fold_{i}.json') as f:\n",
    "                fold_data = json.load(f)\n",
    "            \n",
    "            # get folds from indices\n",
    "            X_fold_train = np.vstack(np.array([item for item in df[f'lbp_{best_p}p_{best_r}r']])[fold_data['train']])\n",
    "            y_fold_train = np.array([get_class(x, multilabel_dict) for x in df['age']])[fold_data['train']]\n",
    "            X_fold_val = np.vstack(np.array([item for item in df[f'lbp_{best_p}p_{best_r}r']])[fold_data['val']])\n",
    "            y_fold_val = np.array([get_class(x, multilabel_dict) for x in df['age']])[fold_data['val']]\n",
    "\n",
    "            # normalise LBP vectors\n",
    "            X_fold_train_normalised = np.array([normalise_histogram(row, method=best_norm) for row in X_fold_train])\n",
    "            X_fold_val_normalised = np.array([normalise_histogram(row, method=best_norm) for row in X_fold_val])\n",
    "\n",
    "            # fit SVM and find accuracy\n",
    "            svm_classifier = SVC(C=C, kernel=kernel)\n",
    "            svm_classifier.fit(X_fold_train_normalised, y_fold_train)\n",
    "            predictions = svm_classifier.predict(X_fold_val_normalised)\n",
    "            acc = accuracy_score(y_fold_val, predictions)\n",
    "            cv_accuracies.append(acc)\n",
    "\n",
    "            report = classification_report(y_fold_val, predictions)\n",
    "            with open(f\"{model_folder}/{model_name}_classification_report_fold_{i}.txt\", 'w') as f:\n",
    "                f.write(report)\n",
    "\n",
    "            print(f'Accuracy for fold={i} is: {acc}.')\n",
    "        \n",
    "        cv_accuracy = np.mean(cv_accuracies)\n",
    "\n",
    "        print(f'CV Accuracy for model={model_name} is: {cv_accuracy}')\n",
    "\n",
    "        with open(f\"{model_folder}/{model_name}.pkl\", 'wb') as f:\n",
    "            pickle.dump(svm_classifier, f)\n",
    "\n",
    "        with open(f\"{model_folder}/cv_accuracies.txt\", 'a') as f:\n",
    "             f.write(f\"{model_name}_CVaccuracy={cv_accuracy}\\n\")\n",
    "\n",
    "            "
   ]
  },
  {
   "cell_type": "code",
   "execution_count": 7,
   "metadata": {},
   "outputs": [],
   "source": [
    "best_p, best_r = 24, 2\n",
    "with open(f'./dataframe_lbp_{best_p}p_{best_r}r.pkl', 'rb') as f:\n",
    "        df = pickle.load(f)"
   ]
  },
  {
   "cell_type": "code",
   "execution_count": 13,
   "metadata": {},
   "outputs": [
    {
     "name": "stdout",
     "output_type": "stream",
     "text": [
      "Counter({'2': 7444, '1': 4434, '3': 3447, '0': 1115, '4': 493, '5': 251})\n",
      "Counter({'2': 7342, '1': 4536, '3': 3420, '0': 1095, '4': 520, '5': 271})\n",
      "Counter({'2': 7386, '1': 4545, '3': 3380, '0': 1106, '4': 508, '5': 259})\n",
      "Counter({'2': 7402, '1': 4500, '3': 3399, '0': 1112, '4': 499, '5': 272})\n",
      "Counter({'2': 7326, '1': 4565, '3': 3390, '0': 1132, '4': 512, '5': 259})\n"
     ]
    }
   ],
   "source": [
    "from collections import Counter\n",
    "for i in range(5):\n",
    "    with open(f'./fold_data/fold_{i}.json') as f:\n",
    "        fold_data = json.load(f)\n",
    "    \n",
    "    # get folds from indices\n",
    "    X_fold_train = np.vstack(np.array([item for item in df[f'lbp_{best_p}p_{best_r}r']])[fold_data['train']])\n",
    "    y_fold_train = np.array([get_class(x, multilabel_dict) for x in df['age']])[fold_data['train']]\n",
    "    X_fold_val = np.vstack(np.array([item for item in df[f'lbp_{best_p}p_{best_r}r']])[fold_data['val']])\n",
    "    y_fold_val = np.array([get_class(x, multilabel_dict) for x in df['age']])[fold_data['val']]\n",
    "\n",
    "    print(Counter(y_fold_train))\n"
   ]
  }
 ],
 "metadata": {
  "kernelspec": {
   "display_name": "Python 3",
   "language": "python",
   "name": "python3"
  },
  "language_info": {
   "codemirror_mode": {
    "name": "ipython",
    "version": 3
   },
   "file_extension": ".py",
   "mimetype": "text/x-python",
   "name": "python",
   "nbconvert_exporter": "python",
   "pygments_lexer": "ipython3",
   "version": "3.10.11"
  }
 },
 "nbformat": 4,
 "nbformat_minor": 2
}
