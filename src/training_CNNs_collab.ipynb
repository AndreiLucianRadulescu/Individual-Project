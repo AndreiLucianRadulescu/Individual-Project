{
  "cells": [
    {
      "cell_type": "code",
      "execution_count": null,
      "metadata": {
        "colab": {
          "base_uri": "https://localhost:8080/"
        },
        "id": "wJRElfQM6n3w",
        "outputId": "26e6b6bd-8b1d-4a76-bce1-1c205c7320ac"
      },
      "outputs": [
        {
          "output_type": "stream",
          "name": "stdout",
          "text": [
            "Mounted at /content/drive/\n"
          ]
        }
      ],
      "source": [
        "from google.colab import drive\n",
        "drive.mount('/content/drive/', force_remount=True)\n",
        "drive_dir = '/content/drive/MyDrive'"
      ]
    },
    {
      "cell_type": "code",
      "source": [
        "!pip install facenet-pytorch"
      ],
      "metadata": {
        "id": "OKbuFpJCIIrt",
        "colab": {
          "base_uri": "https://localhost:8080/"
        },
        "outputId": "38aa2cac-6114-4121-e80e-45859ecc71c0"
      },
      "execution_count": null,
      "outputs": [
        {
          "output_type": "stream",
          "name": "stdout",
          "text": [
            "Collecting facenet-pytorch\n",
            "  Downloading facenet_pytorch-2.5.3-py3-none-any.whl (1.9 MB)\n",
            "\u001b[2K     \u001b[90m━━━━━━━━━━━━━━━━━━━━━━━━━━━━━━━━━━━━━━━━\u001b[0m \u001b[32m1.9/1.9 MB\u001b[0m \u001b[31m15.5 MB/s\u001b[0m eta \u001b[36m0:00:00\u001b[0m\n",
            "\u001b[?25hRequirement already satisfied: numpy in /usr/local/lib/python3.10/dist-packages (from facenet-pytorch) (1.25.2)\n",
            "Requirement already satisfied: requests in /usr/local/lib/python3.10/dist-packages (from facenet-pytorch) (2.31.0)\n",
            "Requirement already satisfied: torchvision in /usr/local/lib/python3.10/dist-packages (from facenet-pytorch) (0.17.1+cu121)\n",
            "Requirement already satisfied: pillow in /usr/local/lib/python3.10/dist-packages (from facenet-pytorch) (9.4.0)\n",
            "Requirement already satisfied: charset-normalizer<4,>=2 in /usr/local/lib/python3.10/dist-packages (from requests->facenet-pytorch) (3.3.2)\n",
            "Requirement already satisfied: idna<4,>=2.5 in /usr/local/lib/python3.10/dist-packages (from requests->facenet-pytorch) (3.6)\n",
            "Requirement already satisfied: urllib3<3,>=1.21.1 in /usr/local/lib/python3.10/dist-packages (from requests->facenet-pytorch) (2.0.7)\n",
            "Requirement already satisfied: certifi>=2017.4.17 in /usr/local/lib/python3.10/dist-packages (from requests->facenet-pytorch) (2024.2.2)\n",
            "Requirement already satisfied: torch==2.2.1 in /usr/local/lib/python3.10/dist-packages (from torchvision->facenet-pytorch) (2.2.1+cu121)\n",
            "Requirement already satisfied: filelock in /usr/local/lib/python3.10/dist-packages (from torch==2.2.1->torchvision->facenet-pytorch) (3.13.1)\n",
            "Requirement already satisfied: typing-extensions>=4.8.0 in /usr/local/lib/python3.10/dist-packages (from torch==2.2.1->torchvision->facenet-pytorch) (4.10.0)\n",
            "Requirement already satisfied: sympy in /usr/local/lib/python3.10/dist-packages (from torch==2.2.1->torchvision->facenet-pytorch) (1.12)\n",
            "Requirement already satisfied: networkx in /usr/local/lib/python3.10/dist-packages (from torch==2.2.1->torchvision->facenet-pytorch) (3.2.1)\n",
            "Requirement already satisfied: jinja2 in /usr/local/lib/python3.10/dist-packages (from torch==2.2.1->torchvision->facenet-pytorch) (3.1.3)\n",
            "Requirement already satisfied: fsspec in /usr/local/lib/python3.10/dist-packages (from torch==2.2.1->torchvision->facenet-pytorch) (2023.6.0)\n",
            "Collecting nvidia-cuda-nvrtc-cu12==12.1.105 (from torch==2.2.1->torchvision->facenet-pytorch)\n",
            "  Downloading nvidia_cuda_nvrtc_cu12-12.1.105-py3-none-manylinux1_x86_64.whl (23.7 MB)\n",
            "\u001b[2K     \u001b[90m━━━━━━━━━━━━━━━━━━━━━━━━━━━━━━━━━━━━━━━━\u001b[0m \u001b[32m23.7/23.7 MB\u001b[0m \u001b[31m66.7 MB/s\u001b[0m eta \u001b[36m0:00:00\u001b[0m\n",
            "\u001b[?25hCollecting nvidia-cuda-runtime-cu12==12.1.105 (from torch==2.2.1->torchvision->facenet-pytorch)\n",
            "  Downloading nvidia_cuda_runtime_cu12-12.1.105-py3-none-manylinux1_x86_64.whl (823 kB)\n",
            "\u001b[2K     \u001b[90m━━━━━━━━━━━━━━━━━━━━━━━━━━━━━━━━━━━━━━━━\u001b[0m \u001b[32m823.6/823.6 kB\u001b[0m \u001b[31m63.2 MB/s\u001b[0m eta \u001b[36m0:00:00\u001b[0m\n",
            "\u001b[?25hCollecting nvidia-cuda-cupti-cu12==12.1.105 (from torch==2.2.1->torchvision->facenet-pytorch)\n",
            "  Downloading nvidia_cuda_cupti_cu12-12.1.105-py3-none-manylinux1_x86_64.whl (14.1 MB)\n",
            "\u001b[2K     \u001b[90m━━━━━━━━━━━━━━━━━━━━━━━━━━━━━━━━━━━━━━━━\u001b[0m \u001b[32m14.1/14.1 MB\u001b[0m \u001b[31m92.9 MB/s\u001b[0m eta \u001b[36m0:00:00\u001b[0m\n",
            "\u001b[?25hCollecting nvidia-cudnn-cu12==8.9.2.26 (from torch==2.2.1->torchvision->facenet-pytorch)\n",
            "  Downloading nvidia_cudnn_cu12-8.9.2.26-py3-none-manylinux1_x86_64.whl (731.7 MB)\n",
            "\u001b[2K     \u001b[90m━━━━━━━━━━━━━━━━━━━━━━━━━━━━━━━━━━━━━━━━\u001b[0m \u001b[32m731.7/731.7 MB\u001b[0m \u001b[31m2.3 MB/s\u001b[0m eta \u001b[36m0:00:00\u001b[0m\n",
            "\u001b[?25hCollecting nvidia-cublas-cu12==12.1.3.1 (from torch==2.2.1->torchvision->facenet-pytorch)\n",
            "  Downloading nvidia_cublas_cu12-12.1.3.1-py3-none-manylinux1_x86_64.whl (410.6 MB)\n",
            "\u001b[2K     \u001b[90m━━━━━━━━━━━━━━━━━━━━━━━━━━━━━━━━━━━━━━━━\u001b[0m \u001b[32m410.6/410.6 MB\u001b[0m \u001b[31m2.5 MB/s\u001b[0m eta \u001b[36m0:00:00\u001b[0m\n",
            "\u001b[?25hCollecting nvidia-cufft-cu12==11.0.2.54 (from torch==2.2.1->torchvision->facenet-pytorch)\n",
            "  Downloading nvidia_cufft_cu12-11.0.2.54-py3-none-manylinux1_x86_64.whl (121.6 MB)\n",
            "\u001b[2K     \u001b[90m━━━━━━━━━━━━━━━━━━━━━━━━━━━━━━━━━━━━━━━━\u001b[0m \u001b[32m121.6/121.6 MB\u001b[0m \u001b[31m8.9 MB/s\u001b[0m eta \u001b[36m0:00:00\u001b[0m\n",
            "\u001b[?25hCollecting nvidia-curand-cu12==10.3.2.106 (from torch==2.2.1->torchvision->facenet-pytorch)\n",
            "  Downloading nvidia_curand_cu12-10.3.2.106-py3-none-manylinux1_x86_64.whl (56.5 MB)\n",
            "\u001b[2K     \u001b[90m━━━━━━━━━━━━━━━━━━━━━━━━━━━━━━━━━━━━━━━━\u001b[0m \u001b[32m56.5/56.5 MB\u001b[0m \u001b[31m11.5 MB/s\u001b[0m eta \u001b[36m0:00:00\u001b[0m\n",
            "\u001b[?25hCollecting nvidia-cusolver-cu12==11.4.5.107 (from torch==2.2.1->torchvision->facenet-pytorch)\n",
            "  Downloading nvidia_cusolver_cu12-11.4.5.107-py3-none-manylinux1_x86_64.whl (124.2 MB)\n",
            "\u001b[2K     \u001b[90m━━━━━━━━━━━━━━━━━━━━━━━━━━━━━━━━━━━━━━━━\u001b[0m \u001b[32m124.2/124.2 MB\u001b[0m \u001b[31m8.3 MB/s\u001b[0m eta \u001b[36m0:00:00\u001b[0m\n",
            "\u001b[?25hCollecting nvidia-cusparse-cu12==12.1.0.106 (from torch==2.2.1->torchvision->facenet-pytorch)\n",
            "  Downloading nvidia_cusparse_cu12-12.1.0.106-py3-none-manylinux1_x86_64.whl (196.0 MB)\n",
            "\u001b[2K     \u001b[90m━━━━━━━━━━━━━━━━━━━━━━━━━━━━━━━━━━━━━━━━\u001b[0m \u001b[32m196.0/196.0 MB\u001b[0m \u001b[31m5.2 MB/s\u001b[0m eta \u001b[36m0:00:00\u001b[0m\n",
            "\u001b[?25hCollecting nvidia-nccl-cu12==2.19.3 (from torch==2.2.1->torchvision->facenet-pytorch)\n",
            "  Downloading nvidia_nccl_cu12-2.19.3-py3-none-manylinux1_x86_64.whl (166.0 MB)\n",
            "\u001b[2K     \u001b[90m━━━━━━━━━━━━━━━━━━━━━━━━━━━━━━━━━━━━━━━━\u001b[0m \u001b[32m166.0/166.0 MB\u001b[0m \u001b[31m7.4 MB/s\u001b[0m eta \u001b[36m0:00:00\u001b[0m\n",
            "\u001b[?25hCollecting nvidia-nvtx-cu12==12.1.105 (from torch==2.2.1->torchvision->facenet-pytorch)\n",
            "  Downloading nvidia_nvtx_cu12-12.1.105-py3-none-manylinux1_x86_64.whl (99 kB)\n",
            "\u001b[2K     \u001b[90m━━━━━━━━━━━━━━━━━━━━━━━━━━━━━━━━━━━━━━━━\u001b[0m \u001b[32m99.1/99.1 kB\u001b[0m \u001b[31m14.4 MB/s\u001b[0m eta \u001b[36m0:00:00\u001b[0m\n",
            "\u001b[?25hRequirement already satisfied: triton==2.2.0 in /usr/local/lib/python3.10/dist-packages (from torch==2.2.1->torchvision->facenet-pytorch) (2.2.0)\n",
            "Collecting nvidia-nvjitlink-cu12 (from nvidia-cusolver-cu12==11.4.5.107->torch==2.2.1->torchvision->facenet-pytorch)\n",
            "  Downloading nvidia_nvjitlink_cu12-12.4.99-py3-none-manylinux2014_x86_64.whl (21.1 MB)\n",
            "\u001b[2K     \u001b[90m━━━━━━━━━━━━━━━━━━━━━━━━━━━━━━━━━━━━━━━━\u001b[0m \u001b[32m21.1/21.1 MB\u001b[0m \u001b[31m79.8 MB/s\u001b[0m eta \u001b[36m0:00:00\u001b[0m\n",
            "\u001b[?25hRequirement already satisfied: MarkupSafe>=2.0 in /usr/local/lib/python3.10/dist-packages (from jinja2->torch==2.2.1->torchvision->facenet-pytorch) (2.1.5)\n",
            "Requirement already satisfied: mpmath>=0.19 in /usr/local/lib/python3.10/dist-packages (from sympy->torch==2.2.1->torchvision->facenet-pytorch) (1.3.0)\n",
            "Installing collected packages: nvidia-nvtx-cu12, nvidia-nvjitlink-cu12, nvidia-nccl-cu12, nvidia-curand-cu12, nvidia-cufft-cu12, nvidia-cuda-runtime-cu12, nvidia-cuda-nvrtc-cu12, nvidia-cuda-cupti-cu12, nvidia-cublas-cu12, nvidia-cusparse-cu12, nvidia-cudnn-cu12, nvidia-cusolver-cu12, facenet-pytorch\n",
            "Successfully installed facenet-pytorch-2.5.3 nvidia-cublas-cu12-12.1.3.1 nvidia-cuda-cupti-cu12-12.1.105 nvidia-cuda-nvrtc-cu12-12.1.105 nvidia-cuda-runtime-cu12-12.1.105 nvidia-cudnn-cu12-8.9.2.26 nvidia-cufft-cu12-11.0.2.54 nvidia-curand-cu12-10.3.2.106 nvidia-cusolver-cu12-11.4.5.107 nvidia-cusparse-cu12-12.1.0.106 nvidia-nccl-cu12-2.19.3 nvidia-nvjitlink-cu12-12.4.99 nvidia-nvtx-cu12-12.1.105\n"
          ]
        }
      ]
    },
    {
      "cell_type": "code",
      "execution_count": null,
      "metadata": {
        "colab": {
          "base_uri": "https://localhost:8080/"
        },
        "id": "2nsvOqq-6uAU",
        "outputId": "3fb4070e-0042-430e-c773-6813f46879ab"
      },
      "outputs": [
        {
          "output_type": "stream",
          "name": "stdout",
          "text": [
            "'2Y Team Report (1).gdoc'\n",
            "'2Y Team Report.gdoc'\n",
            " age_intervals_one.json\n",
            " all_images.rar\n",
            " architectures\n",
            "'Colab Notebooks'\n",
            "'Copy of Farm spreadsheet V3.5.gsheet'\n",
            "'Copy of Genshin Impact Checklist v3.3.gsheet'\n",
            "'Copy of HonestlyFire'\\''s Cookie Analysis (1).gsheet'\n",
            "'Copy of HonestlyFire'\\''s Cookie Analysis (2).gsheet'\n",
            "'Copy of HonestlyFire'\\''s Cookie Analysis (3).gsheet'\n",
            "\"Copy of HonestlyFire's Cookie Analysis.gsheet\"\n",
            "'Copy of NGU SPREADSHEET - MAKE A LOCAL COPY (1).gsheet'\n",
            "'Copy of NGU SPREADSHEET - MAKE A LOCAL COPY.gsheet'\n",
            "'Copy of [PDF] Student Statements.pdf'\n",
            "'Copy of Talismans Checklist [2022].gsheet'\n",
            " dataframe.pkl\n",
            "'GENSHIN 100%.gsheet'\n",
            " initial_splits_binary.json\n",
            " model_40.pth\n"
          ]
        }
      ],
      "source": [
        "!ls /content/drive/MyDrive/\n",
        "!mkdir /content/data"
      ]
    },
    {
      "cell_type": "code",
      "execution_count": null,
      "metadata": {
        "colab": {
          "base_uri": "https://localhost:8080/"
        },
        "id": "Guf8_lkj7STh",
        "outputId": "d59cf71f-e909-4b47-bb1c-41bdf8d8aae9"
      },
      "outputs": [
        {
          "output_type": "execute_result",
          "data": {
            "text/plain": [
              "[]"
            ]
          },
          "metadata": {},
          "execution_count": 5
        }
      ],
      "source": [
        "!!unrar x /content/drive/MyDrive/all_images.rar /content/data -idq"
      ]
    },
    {
      "cell_type": "markdown",
      "metadata": {
        "id": "uayd-YSjS_67"
      },
      "source": [
        "# Imports"
      ]
    },
    {
      "cell_type": "code",
      "execution_count": null,
      "metadata": {
        "id": "O1wODZJD6dWU"
      },
      "outputs": [],
      "source": [
        "%matplotlib inline\n",
        "\n",
        "import cv2\n",
        "import math\n",
        "import numpy as np\n",
        "import matplotlib.pyplot as plt\n",
        "from matplotlib.gridspec import GridSpec\n",
        "import pickle\n",
        "import random\n",
        "import json\n",
        "import time\n",
        "import os\n",
        "\n",
        "\n",
        "import torch\n",
        "import torchvision.transforms.functional as F\n",
        "import torch.nn as nn\n",
        "import torch.optim as optim\n",
        "import torchvision\n",
        "from torch.optim.lr_scheduler import OneCycleLR\n",
        "import torchvision.transforms as transforms\n",
        "from torchvision.models import resnet50, ResNet50_Weights\n",
        "\n",
        "SEED = 42\n",
        "EXP_COUNTER = 0\n",
        "\n",
        "def plot_image(image, title=\"image\", grayscale=False, axis=False):\n",
        "    axis_toggle = \"off\" if not axis else \"on\"\n",
        "    plt.rcParams.update({'font.size': 18})\n",
        "    plt.figure(figsize=(10,10))\n",
        "    if not grayscale:\n",
        "        plt.imshow(image)\n",
        "    else:\n",
        "        plt.imshow(image, cmap=\"gray\")\n",
        "    plt.title(title)\n",
        "    plt.axis(axis_toggle)\n",
        "\n",
        "# Set random seed for PyTorch\n",
        "torch.manual_seed(SEED)\n",
        "if torch.cuda.is_available():\n",
        "    torch.cuda.manual_seed(SEED)\n",
        "\n",
        "# Set random seed for NumPy\n",
        "np.random.seed(SEED)\n",
        "random.seed(42)\n",
        "torch.backends.cudnn.deterministic = True\n",
        "torch.backends.cudnn.benchmark = False"
      ]
    },
    {
      "cell_type": "markdown",
      "metadata": {
        "id": "BaBksW0eTB3y"
      },
      "source": [
        "# Age dataset iterable"
      ]
    },
    {
      "cell_type": "code",
      "execution_count": null,
      "metadata": {
        "id": "5Xdf4-L9_7qs"
      },
      "outputs": [],
      "source": [
        "from torch.utils.data import Dataset\n",
        "from PIL import Image\n",
        "\n",
        "class AgeDataset(Dataset):\n",
        "    # image_paths: list of image paths as strings\n",
        "    # labels: list of labels as integers\n",
        "    # resize: (channels, width, height) new image shape\n",
        "    def __init__(self, image_paths, labels, resize=None, augmentations=None):\n",
        "        self.num_samples = len(image_paths)\n",
        "        self.image_paths = image_paths\n",
        "        self.transform = augmentations\n",
        "        self.labels = labels\n",
        "\n",
        "        self.resize = resize\n",
        "        if resize is not None:\n",
        "            resize = list(resize)\n",
        "            self.resize = [resize[x] for x in (1,2,0)]\n",
        "\n",
        "\n",
        "    def __len__(self):\n",
        "        return self.num_samples\n",
        "\n",
        "\n",
        "    def __getitem__(self, item):\n",
        "        image = Image.open(self.image_paths[item])\n",
        "        image = image.convert(\"RGB\")\n",
        "        label = self.labels[item]\n",
        "\n",
        "        if self.resize is not None:\n",
        "            image = image.resize(\n",
        "                (self.resize[1], self.resize[0]), resample=Image.BILINEAR\n",
        "            )\n",
        "\n",
        "        if self.transform:\n",
        "            image = self.transform(image)\n",
        "        else:\n",
        "            image = np.array(image)\n",
        "\n",
        "            # transpose from 32x32x3 to 3x32x32\n",
        "            image = np.transpose(image, (2, 0, 1)).astype(np.float32)\n",
        "            # image = image.permute()\n",
        "\n",
        "        return image, label"
      ]
    },
    {
      "cell_type": "markdown",
      "metadata": {
        "id": "Z4sYVRkKTErU"
      },
      "source": [
        "# Importing initial train and test split, as well as the pandas dataframe."
      ]
    },
    {
      "cell_type": "code",
      "execution_count": null,
      "metadata": {
        "colab": {
          "base_uri": "https://localhost:8080/",
          "height": 469
        },
        "id": "snwVaWuqAotr",
        "outputId": "5d79b553-4d55-4b05-d3dd-9afc06ce8a88"
      },
      "outputs": [
        {
          "output_type": "stream",
          "name": "stdout",
          "text": [
            "20_0_0_20170117140056058.jpg\n"
          ]
        },
        {
          "output_type": "display_data",
          "data": {
            "text/plain": [
              "<Figure size 640x480 with 1 Axes>"
            ],
            "image/png": "[encoded data removed]"
          },
          "metadata": {}
        },
        {
          "output_type": "stream",
          "name": "stdout",
          "text": [
            "(128, 128, 3)\n"
          ]
        }
      ],
      "source": [
        "base_dir = \"/content/data/all_images\"\n",
        "\n",
        "img_path = os.listdir(base_dir)[0]\n",
        "print(img_path)\n",
        "\n",
        "img = Image.open(os.path.join(base_dir, img_path))\n",
        "\n",
        "plt.imshow(img)\n",
        "plt.show()\n",
        "img = np.array(img.convert(\"RGB\"))\n",
        "print(img.shape)"
      ]
    },
    {
      "cell_type": "code",
      "execution_count": null,
      "metadata": {
        "colab": {
          "base_uri": "https://localhost:8080/"
        },
        "id": "HBT7F7VoCx05",
        "outputId": "879caac1-ac65-450f-d14c-e42ce1fea701"
      },
      "outputs": [
        {
          "output_type": "execute_result",
          "data": {
            "text/plain": [
              "{'0': [6, 15],\n",
              " '1': [16, 25],\n",
              " '2': [26, 35],\n",
              " '3': [36, 50],\n",
              " '4': [51, 65],\n",
              " '5': [66, 120]}"
            ]
          },
          "metadata": {},
          "execution_count": 9
        }
      ],
      "source": [
        "with open('/content/drive/MyDrive/age_intervals_one.json') as f:\n",
        "  current_config = json.load(f)\n",
        "\n",
        "current_config"
      ]
    },
    {
      "cell_type": "code",
      "execution_count": null,
      "metadata": {
        "colab": {
          "base_uri": "https://localhost:8080/"
        },
        "id": "l5mgVP0McKWK",
        "outputId": "4fa98404-15b5-4ae6-9265-f41b0c7248c4"
      },
      "outputs": [
        {
          "output_type": "stream",
          "name": "stdout",
          "text": [
            "                              name  age\n",
            "0                       000002.jpg   80\n",
            "1                       000003.jpg   50\n",
            "2                       000004.jpg   17\n",
            "3                       000005.jpg   27\n",
            "4                       000006.jpg   24\n",
            "...                            ...  ...\n",
            "26846  9_1_0_20170110224621441.jpg    9\n",
            "26847  9_1_0_20170117172655681.jpg    9\n",
            "26848  9_1_0_20170117180006484.jpg    9\n",
            "26849  9_1_1_20170109201837354.jpg    9\n",
            "26850  9_1_1_20170117105556810.jpg    9\n",
            "\n",
            "[26851 rows x 2 columns]\n"
          ]
        }
      ],
      "source": [
        "with open('/content/drive/MyDrive/initial_splits_binary.json') as f:\n",
        "    initial_splits = json.load(f)\n",
        "\n",
        "with open('/content/drive/MyDrive/dataframe.pkl', 'rb') as f:\n",
        "    df = pickle.load(f)\n",
        "\n",
        "df = df.drop(columns=['hog_features'])\n",
        "print(df)"
      ]
    },
    {
      "cell_type": "code",
      "execution_count": null,
      "metadata": {
        "colab": {
          "base_uri": "https://localhost:8080/"
        },
        "id": "77Y_GbpcAN_8",
        "outputId": "91bce5f6-f701-4170-bc6e-8fb5df2ac820"
      },
      "outputs": [
        {
          "output_type": "stream",
          "name": "stdout",
          "text": [
            "{6: 0, 7: 0, 8: 0, 9: 0, 10: 0, 11: 0, 12: 0, 13: 0, 14: 0, 15: 0, 16: 1, 17: 1, 18: 1, 19: 1, 20: 1, 21: 1, 22: 1, 23: 1, 24: 1, 25: 1, 26: 2, 27: 2, 28: 2, 29: 2, 30: 2, 31: 2, 32: 2, 33: 2, 34: 2, 35: 2, 36: 3, 37: 3, 38: 3, 39: 3, 40: 3, 41: 3, 42: 3, 43: 3, 44: 3, 45: 3, 46: 3, 47: 3, 48: 3, 49: 3, 50: 3, 51: 4, 52: 4, 53: 4, 54: 4, 55: 4, 56: 4, 57: 4, 58: 4, 59: 4, 60: 4, 61: 4, 62: 4, 63: 4, 64: 4, 65: 4, 66: 5, 67: 5, 68: 5, 69: 5, 70: 5, 71: 5, 72: 5, 73: 5, 74: 5, 75: 5, 76: 5, 77: 5, 78: 5, 79: 5, 80: 5, 81: 5, 82: 5, 83: 5, 84: 5, 85: 5, 86: 5, 87: 5, 88: 5, 89: 5, 90: 5, 91: 5, 92: 5, 93: 5, 94: 5, 95: 5, 96: 5, 97: 5, 98: 5, 99: 5, 100: 5, 101: 5, 102: 5, 103: 5, 104: 5, 105: 5, 106: 5, 107: 5, 108: 5, 109: 5, 110: 5, 111: 5, 112: 5, 113: 5, 114: 5, 115: 5, 116: 5, 117: 5, 118: 5, 119: 5, 120: 5}\n"
          ]
        }
      ],
      "source": [
        "from sklearn.model_selection import train_test_split\n",
        "\n",
        "def create_label_dict(config):\n",
        "    label_dict = {}\n",
        "    for label, age_interval in config.items():\n",
        "        age_interval = list(age_interval)\n",
        "        age_interval[1] += 1\n",
        "        for age in range(*age_interval):\n",
        "            label_dict[age] = int(label)\n",
        "\n",
        "    return label_dict\n",
        "\n",
        "age_to_label = create_label_dict(current_config)\n",
        "print(age_to_label)\n"
      ]
    },
    {
      "cell_type": "markdown",
      "metadata": {
        "id": "jTMU2KePTP-I"
      },
      "source": [
        "# Create train test split using the fold dictionaries and df created above."
      ]
    },
    {
      "cell_type": "code",
      "execution_count": null,
      "metadata": {
        "id": "7dsI8njfJe_i"
      },
      "outputs": [],
      "source": [
        "train_indices = initial_splits['train']\n",
        "test_indices = initial_splits['test']\n",
        "\n",
        "X_train = [os.path.join(base_dir, df['name'][idx]) for idx in train_indices]\n",
        "y_train = [age_to_label[df['age'][idx]] for idx in train_indices]\n",
        "X_test = [os.path.join(base_dir, df['name'][idx]) for idx in test_indices]\n",
        "y_test = [age_to_label[df['age'][idx]] for idx in test_indices]"
      ]
    },
    {
      "cell_type": "markdown",
      "metadata": {
        "id": "eRU5-tK_TTMf"
      },
      "source": [
        "# Create the data augmentations and see how the images would look."
      ]
    },
    {
      "cell_type": "code",
      "execution_count": null,
      "metadata": {
        "id": "E5Do9BpzgiH1"
      },
      "outputs": [],
      "source": [
        "class RandomBoundingBoxJitter:\n",
        "    def __init__(self, magnitude=0.45):\n",
        "        self.magnitude = magnitude\n",
        "\n",
        "    def __call__(self, img):\n",
        "        width, height = img.size\n",
        "        x_min = int(random.uniform(-self.magnitude, self.magnitude) * width)\n",
        "        y_min = int(random.uniform(-self.magnitude, self.magnitude) * height)\n",
        "        x_max = width + int(random.uniform(-self.magnitude, self.magnitude) * width)\n",
        "        y_max = height + int(random.uniform(-self.magnitude, self.magnitude) * height)\n",
        "\n",
        "        # Ensure the bounding box doesn't go out of bounds\n",
        "        x_min = max(0, x_min)\n",
        "        y_min = max(0, y_min)\n",
        "        x_max = min(width, x_max)\n",
        "        y_max = min(height, y_max)\n",
        "\n",
        "        # Apply the bounding box jitter\n",
        "        img = F.crop(img, y_min, x_min, y_max - y_min, x_max - x_min)\n",
        "        img = F.resize(img, (height, width))  # Resize back to original size\n",
        "\n",
        "        return img"
      ]
    },
    {
      "cell_type": "code",
      "execution_count": null,
      "metadata": {
        "id": "enm0wa9U6f1U"
      },
      "outputs": [],
      "source": [
        "IMAGE_SHAPE = (3, 64, 64)\n",
        "CHANNELS, WIDTH, HEIGHT = IMAGE_SHAPE\n",
        "\n",
        "transform_train = transforms.Compose([\n",
        "    transforms.RandAugment(2, 22),\n",
        "    RandomBoundingBoxJitter(0.45),\n",
        "    transforms.RandomHorizontalFlip(p=0.5),\n",
        "    transforms.ToTensor(),\n",
        "    transforms.Normalize((0.485, 0.456, 0.406), (0.229, 0.224, 0.225)),\n",
        "])\n",
        "\n",
        "# Normalize the test set same as training set without augmentation\n",
        "transform_test = transforms.Compose([\n",
        "    transforms.ToTensor(),\n",
        "    transforms.Normalize((0.485, 0.456, 0.406), (0.229, 0.224, 0.225)),\n",
        "])\n",
        "\n",
        "trainset = AgeDataset(\n",
        "    image_paths=X_train,\n",
        "    labels=y_train,\n",
        "    resize=IMAGE_SHAPE,\n",
        "    augmentations=transform_train,\n",
        ")\n",
        "\n",
        "testset = AgeDataset(\n",
        "    image_paths=X_test,\n",
        "    labels=y_test,\n",
        "    resize=IMAGE_SHAPE,\n",
        "    augmentations=transform_test,\n",
        ")\n",
        "# trainset = torchvision.datasets.CIFAR10(\n",
        "#     root='./datasets', train=True, download=True, transform=transform)\n",
        "\n",
        "# testset = torchvision.datasets.CIFAR10(\n",
        "#     root='./datasets', train=False, download=True, transform=transform)"
      ]
    },
    {
      "cell_type": "code",
      "execution_count": null,
      "metadata": {
        "colab": {
          "base_uri": "https://localhost:8080/"
        },
        "id": "_LDubIZ18Zvg",
        "outputId": "f662e4d1-e663-4c40-a4a8-21e2b54f993b"
      },
      "outputs": [
        {
          "output_type": "stream",
          "name": "stdout",
          "text": [
            "['[6, 15]', '[16, 25]', '[26, 35]', '[36, 50]', '[51, 65]', '[66, 120]']\n"
          ]
        }
      ],
      "source": [
        "classes = [str(x) for x in current_config.values()]\n",
        "print(classes)\n",
        "\n",
        "def convert_to_image_format(image):\n",
        "    # first convert back to [0,1] range from [-1,1] range - approximately...\n",
        "    image = image\n",
        "    image = image.numpy()\n",
        "\n",
        "    if np.all(image <= 5):\n",
        "        mean, std = (0.485, 0.456, 0.406), (0.229, 0.224, 0.225)\n",
        "        image[0,...] = (image[0,...] * std[0] + mean[0]) * 255\n",
        "        image[1,...] = (image[1,...] * std[1] + mean[1]) * 255\n",
        "        image[2,...] = (image[2,...] * std[2] + mean[2]) * 255\n",
        "        # import pdb; pdb.set_trace()\n",
        "        # image *= 255\n",
        "\n",
        "    # from 3x32x32 to 32x32x3\n",
        "    return image.transpose(1,2,0).astype(int)"
      ]
    },
    {
      "cell_type": "code",
      "execution_count": null,
      "metadata": {
        "colab": {
          "base_uri": "https://localhost:8080/",
          "height": 261
        },
        "id": "Bt2iyfk38hVh",
        "outputId": "7e284cff-26a5-4205-8886-d6ebcfb45b2e"
      },
      "outputs": [
        {
          "output_type": "display_data",
          "data": {
            "text/plain": [
              "<Figure size 1200x1000 with 4 Axes>"
            ],
            "image/png": "[encoded data removed]"
          },
          "metadata": {}
        }
      ],
      "source": [
        "trainloader = torch.utils.data.DataLoader(trainset,\n",
        "                                          batch_size=4,\n",
        "                                          shuffle=True)\n",
        "\n",
        "testloader = torch.utils.data.DataLoader(testset,\n",
        "                                         batch_size=4,\n",
        "                                         shuffle=False)\n",
        "\n",
        "dataiter = iter(trainloader)\n",
        "images, labels = next(dataiter)\n",
        "\n",
        "fig, axes = plt.subplots(1, len(images), figsize=(12,10))\n",
        "for idx, image in enumerate(images):\n",
        "    axes[idx].imshow(convert_to_image_format(image))\n",
        "    axes[idx].set_title(classes[int(labels[idx])])\n",
        "    axes[idx].set_xticks([])\n",
        "    axes[idx].set_yticks([])"
      ]
    },
    {
      "cell_type": "markdown",
      "metadata": {
        "id": "FUmpaj0LvUxP"
      },
      "source": [
        "# Implementation of ResNet9 basic architecture (with dropout layer)."
      ]
    },
    {
      "cell_type": "code",
      "execution_count": null,
      "metadata": {
        "id": "EuJb-s33JXB6"
      },
      "outputs": [],
      "source": [
        "def conv_block(in_channels, out_channels, pool=False):\n",
        "    layers = [nn.Conv2d(in_channels, out_channels, kernel_size=3, padding=1),\n",
        "              nn.BatchNorm2d(out_channels),\n",
        "              nn.ReLU(inplace=True)]\n",
        "    if pool: layers.append(nn.MaxPool2d(2))\n",
        "    return nn.Sequential(*layers)\n",
        "\n",
        "class ResNet9_64(nn.Module):\n",
        "    def __init__(self, in_channels, num_classes):\n",
        "        super().__init__()\n",
        "\n",
        "        self.conv1 = conv_block(in_channels, 64)\n",
        "        self.conv2 = conv_block(64, 128, pool=True)\n",
        "        self.res1 = nn.Sequential(conv_block(128, 128), conv_block(128, 128))\n",
        "\n",
        "        self.conv3 = conv_block(128, 256, pool=True)\n",
        "        self.conv4 = conv_block(256, 512, pool=True)\n",
        "        self.res2 = nn.Sequential(conv_block(512, 512), conv_block(512, 512))\n",
        "\n",
        "        self.classifier = nn.Sequential(\n",
        "            nn.MaxPool2d(4),\n",
        "            nn.Flatten(),\n",
        "            nn.Linear(2048, 512),\n",
        "            nn.ReLU(inplace=True),\n",
        "            nn.Dropout(p=0.5),\n",
        "            nn.Linear(512, num_classes)\n",
        "        )\n",
        "\n",
        "    def forward(self, xb):\n",
        "        out = self.conv1(xb)\n",
        "        out = self.conv2(out)\n",
        "        out = self.res1(out) + out\n",
        "        out = self.conv3(out)\n",
        "        out = self.conv4(out)\n",
        "        out = self.res2(out) + out\n",
        "        out = self.classifier(out)\n",
        "        return out"
      ]
    },
    {
      "cell_type": "markdown",
      "metadata": {
        "id": "jSu0YvOHvkYN"
      },
      "source": [
        "# Finding number of trainable weights in ResNet9 for 64x64 images"
      ]
    },
    {
      "cell_type": "code",
      "execution_count": null,
      "metadata": {
        "colab": {
          "base_uri": "https://localhost:8080/"
        },
        "id": "zckSsAX19BGD",
        "outputId": "475e914b-4ebd-4eb6-a0b5-107413337326"
      },
      "outputs": [
        {
          "output_type": "stream",
          "name": "stdout",
          "text": [
            "torch.Size([1, 6])\n",
            "torch.Size([1, 6])\n",
            "num trainable weights:  7622406\n"
          ]
        }
      ],
      "source": [
        "IMAGE_SHAPE = (3, 64, 64)\n",
        "dummy_input = torch.zeros([1, *IMAGE_SHAPE])\n",
        "dummy_model = ResNet9_64(3, len(classes))\n",
        "dummy_model.eval()\n",
        "dummy_output = dummy_model(dummy_input)\n",
        "print(dummy_output.shape)\n",
        "dummy_output = dummy_output.view(dummy_output.size(0), -1)\n",
        "print(dummy_output.shape)\n",
        "# calculating the number of trainable weights\n",
        "num_trainable_params = sum([p.numel() for p in dummy_model.parameters() if p.requires_grad])\n",
        "print(\"num trainable weights: \", num_trainable_params)"
      ]
    },
    {
      "cell_type": "markdown",
      "metadata": {
        "id": "oaxsXfqPyYSu"
      },
      "source": [
        "# Implementing early stopping."
      ]
    },
    {
      "cell_type": "code",
      "execution_count": null,
      "metadata": {
        "id": "_cTn4Eb0yXy8"
      },
      "outputs": [],
      "source": [
        "class EarlyStopping:\n",
        "    def __init__(self, patience=5, delta=0, path='checkpoint.pt'):\n",
        "        self.patience = patience\n",
        "        self.delta = delta\n",
        "        self.path = path\n",
        "        self.counter = 0\n",
        "        self.best_score = None\n",
        "        self.early_stop = False\n",
        "\n",
        "    def __call__(self, val_loss, model, epoch):\n",
        "        if self.best_score is None:\n",
        "            self.best_score = val_loss\n",
        "            self.save_checkpoint(val_loss, model, epoch)\n",
        "        elif val_loss > self.best_score + self.delta:\n",
        "            self.counter += 1\n",
        "            if self.counter >= self.patience:\n",
        "                self.early_stop = True\n",
        "        else:\n",
        "            self.best_score = val_loss\n",
        "            self.save_checkpoint(val_loss, model, epoch)\n",
        "            self.counter = 0\n",
        "\n",
        "    def save_checkpoint(self, val_loss, model, epoch):\n",
        "        state = {\n",
        "            'net': model.state_dict(),\n",
        "            'epoch': epoch,\n",
        "        }\n",
        "        torch.save(state, self.path)\n",
        "        self.best_score = val_loss\n"
      ]
    },
    {
      "cell_type": "markdown",
      "metadata": {
        "id": "_h2WsPVFSCLw"
      },
      "source": [
        "# Create directory and all other folders for ResNet9_64"
      ]
    },
    {
      "cell_type": "code",
      "execution_count": null,
      "metadata": {
        "colab": {
          "base_uri": "https://localhost:8080/"
        },
        "id": "oYr5SOEHSFwR",
        "outputId": "8b48479d-100f-46b1-8bad-c9a07a2385f8"
      },
      "outputs": [
        {
          "output_type": "stream",
          "name": "stdout",
          "text": [
            "/content/drive/MyDrive/architectures/ResNet9_64\n"
          ]
        }
      ],
      "source": [
        "os.makedirs(os.path.join(drive_dir, \"architectures\", 'ResNet9_64'), exist_ok=True)\n",
        "os.makedirs(os.path.join(drive_dir, \"architectures\", 'ResNet9_64', 'intermediate_checkpoints'), exist_ok=True)\n",
        "root_path = os.path.join(drive_dir, \"architectures\", 'ResNet9_64')\n",
        "print(root_path)"
      ]
    },
    {
      "cell_type": "markdown",
      "metadata": {
        "id": "xg9xrFjcSFKs"
      },
      "source": [
        "# Now onto the training and testing of the ResNet9 architecture."
      ]
    },
    {
      "cell_type": "code",
      "execution_count": null,
      "metadata": {
        "colab": {
          "base_uri": "https://localhost:8080/"
        },
        "id": "4s5IwMVA9Cqq",
        "outputId": "53c42154-a01f-45aa-beb5-4e30818352ae"
      },
      "outputs": [
        {
          "output_type": "stream",
          "name": "stdout",
          "text": [
            "/content/drive/MyDrive/architectures/ResNet9_64/intermediate_checkpoints/early_stopped_model.pth\n"
          ]
        }
      ],
      "source": [
        "batch_size = 128\n",
        "max_learning_rate = 0.001\n",
        "weight_decay = 1e-4\n",
        "epochs = 50\n",
        "\n",
        "# dataloaders - creating batches and shuffling the data\n",
        "trainloader = torch.utils.data.DataLoader(\n",
        "    trainset, batch_size=batch_size, shuffle=True, num_workers=2)\n",
        "testloader = torch.utils.data.DataLoader(\n",
        "    testset, batch_size=batch_size, shuffle=False, num_workers=2)\n",
        "\n",
        "# device - cpu or gpu?\n",
        "device = torch.device(\"cuda:0\" if torch.cuda.is_available() else \"cpu\")\n",
        "\n",
        "# loss criterion\n",
        "criterion = nn.CrossEntropyLoss()\n",
        "\n",
        "# model\n",
        "model = ResNet9_64(IMAGE_SHAPE[0], len(classes)).to(device)\n",
        "\n",
        "# optimizer and scheduler\n",
        "optimizer = torch.optim.Adam(model.parameters(), lr=max_learning_rate)\n",
        "scheduler = OneCycleLR(optimizer, max_lr=max_learning_rate, epochs=epochs, steps_per_epoch=len(trainloader))\n",
        "\n",
        "# early stopping policy\n",
        "early_stopping = EarlyStopping(path=os.path.join(root_path, 'early_stopped_model.pth'))\n",
        "print(os.path.join(root_path, 'intermediate_checkpoints', 'early_stopped_model.pth'))"
      ]
    },
    {
      "cell_type": "markdown",
      "metadata": {
        "id": "79ky4j_MzV2y"
      },
      "source": [
        "### Function to calculate accuracy for a different epoch."
      ]
    },
    {
      "cell_type": "code",
      "execution_count": null,
      "metadata": {
        "id": "gTgLSRoUqH5k"
      },
      "outputs": [],
      "source": [
        "# function to calcualte accuracy of the model\n",
        "def calculate_accuracy(model, dataloader, device):\n",
        "    model.eval() # put in evaluation mode\n",
        "    total_correct = 0\n",
        "    total_images = 0\n",
        "    confusion_matrix = np.zeros([len(classes),len(classes)], int)\n",
        "    with torch.no_grad():\n",
        "        for data in dataloader:\n",
        "            images, labels = data\n",
        "            images = images.to(device)\n",
        "            labels = labels.to(device)\n",
        "            outputs = model(images)\n",
        "            _, predicted = torch.max(outputs.data, 1)\n",
        "            # import pdb; pdb.set_trace()\n",
        "            total_images += labels.size(0)\n",
        "            total_correct += (predicted == labels).sum().item()\n",
        "            for i, l in enumerate(labels):\n",
        "                confusion_matrix[l.item(), predicted[i].item()] += 1\n",
        "\n",
        "    model_accuracy = total_correct / total_images * 100\n",
        "    return model_accuracy, confusion_matrix"
      ]
    },
    {
      "cell_type": "code",
      "execution_count": null,
      "metadata": {
        "colab": {
          "base_uri": "https://localhost:8080/"
        },
        "id": "t2MfiOEy9G4y",
        "outputId": "4fd640a4-5a41-42bb-9d1f-2c1ffc6d58d8"
      },
      "outputs": [
        {
          "name": "stdout",
          "output_type": "stream",
          "text": [
            "Epoch: 1 | Training Loss: 1.7420 | Test Loss: 1.6435 | Training accuracy: 34.297% | Test accuracy: 34.481% | Epoch Time: 78.71 secs\n",
            "Epoch: 2 | Training Loss: 1.6610 | Test Loss: 1.6214 | Training accuracy: 34.139% | Test accuracy: 34.444% | Epoch Time: 79.41 secs\n",
            "Epoch: 3 | Training Loss: 1.6450 | Test Loss: 1.6098 | Training accuracy: 34.390% | Test accuracy: 34.835% | Epoch Time: 79.54 secs\n",
            "Epoch: 4 | Training Loss: 1.6346 | Test Loss: 1.5757 | Training accuracy: 34.469% | Test accuracy: 35.301% | Epoch Time: 79.13 secs\n",
            "==> Saving model ...\n",
            "Epoch: 5 | Training Loss: 1.6259 | Test Loss: 1.6221 | Training accuracy: 34.283% | Test accuracy: 33.588% | Epoch Time: 79.00 secs\n",
            "Epoch: 6 | Training Loss: 1.6178 | Test Loss: 1.5230 | Training accuracy: 34.884% | Test accuracy: 37.442% | Epoch Time: 79.32 secs\n",
            "Epoch: 7 | Training Loss: 1.6005 | Test Loss: 1.5000 | Training accuracy: 35.014% | Test accuracy: 38.093% | Epoch Time: 80.95 secs\n",
            "Epoch: 8 | Training Loss: 1.5878 | Test Loss: 1.4954 | Training accuracy: 35.354% | Test accuracy: 36.809% | Epoch Time: 78.23 secs\n",
            "Epoch: 9 | Training Loss: 1.5721 | Test Loss: 1.4305 | Training accuracy: 36.047% | Test accuracy: 40.328% | Epoch Time: 77.59 secs\n",
            "==> Saving model ...\n",
            "Epoch: 10 | Training Loss: 1.5648 | Test Loss: 1.4779 | Training accuracy: 35.000% | Test accuracy: 37.926% | Epoch Time: 79.98 secs\n",
            "Epoch: 11 | Training Loss: 1.5476 | Test Loss: 1.4181 | Training accuracy: 35.340% | Test accuracy: 39.099% | Epoch Time: 79.41 secs\n",
            "Epoch: 12 | Training Loss: 1.5307 | Test Loss: 1.3864 | Training accuracy: 36.653% | Test accuracy: 39.769% | Epoch Time: 80.00 secs\n",
            "Epoch: 13 | Training Loss: 1.5283 | Test Loss: 1.4054 | Training accuracy: 36.043% | Test accuracy: 38.410% | Epoch Time: 79.74 secs\n",
            "Epoch: 14 | Training Loss: 1.5055 | Test Loss: 1.3298 | Training accuracy: 37.709% | Test accuracy: 42.878% | Epoch Time: 79.61 secs\n",
            "==> Saving model ...\n",
            "Epoch: 15 | Training Loss: 1.4945 | Test Loss: 1.4381 | Training accuracy: 36.047% | Test accuracy: 39.639% | Epoch Time: 80.03 secs\n",
            "Epoch: 16 | Training Loss: 1.4858 | Test Loss: 1.2863 | Training accuracy: 38.864% | Test accuracy: 44.815% | Epoch Time: 79.16 secs\n",
            "Epoch: 17 | Training Loss: 1.4705 | Test Loss: 1.3436 | Training accuracy: 36.266% | Test accuracy: 41.482% | Epoch Time: 78.67 secs\n",
            "Epoch: 18 | Training Loss: 1.4594 | Test Loss: 1.2591 | Training accuracy: 39.688% | Test accuracy: 46.341% | Epoch Time: 79.56 secs\n",
            "Epoch: 19 | Training Loss: 1.4563 | Test Loss: 1.2696 | Training accuracy: 40.121% | Test accuracy: 45.783% | Epoch Time: 79.41 secs\n",
            "==> Saving model ...\n",
            "Epoch: 20 | Training Loss: 1.4351 | Test Loss: 1.2402 | Training accuracy: 40.247% | Test accuracy: 47.105% | Epoch Time: 78.97 secs\n",
            "Epoch: 21 | Training Loss: 1.4252 | Test Loss: 1.2333 | Training accuracy: 40.163% | Test accuracy: 46.956% | Epoch Time: 77.37 secs\n",
            "Epoch: 22 | Training Loss: 1.4239 | Test Loss: 1.2421 | Training accuracy: 40.591% | Test accuracy: 45.746% | Epoch Time: 78.94 secs\n",
            "Epoch: 23 | Training Loss: 1.4086 | Test Loss: 1.1893 | Training accuracy: 41.741% | Test accuracy: 47.999% | Epoch Time: 79.60 secs\n",
            "Epoch: 24 | Training Loss: 1.3971 | Test Loss: 1.1979 | Training accuracy: 40.694% | Test accuracy: 47.403% | Epoch Time: 79.12 secs\n",
            "==> Saving model ...\n",
            "Epoch: 25 | Training Loss: 1.3924 | Test Loss: 1.2371 | Training accuracy: 41.145% | Test accuracy: 46.881% | Epoch Time: 77.77 secs\n",
            "Epoch: 26 | Training Loss: 1.3832 | Test Loss: 1.1628 | Training accuracy: 42.169% | Test accuracy: 49.674% | Epoch Time: 79.07 secs\n",
            "Epoch: 27 | Training Loss: 1.3787 | Test Loss: 1.2774 | Training accuracy: 39.530% | Test accuracy: 45.392% | Epoch Time: 79.54 secs\n",
            "Epoch: 28 | Training Loss: 1.3699 | Test Loss: 1.1443 | Training accuracy: 43.049% | Test accuracy: 49.953% | Epoch Time: 78.75 secs\n",
            "Epoch: 29 | Training Loss: 1.3639 | Test Loss: 1.1832 | Training accuracy: 41.578% | Test accuracy: 48.483% | Epoch Time: 78.02 secs\n",
            "==> Saving model ...\n",
            "Epoch: 30 | Training Loss: 1.3582 | Test Loss: 1.1238 | Training accuracy: 43.543% | Test accuracy: 51.406% | Epoch Time: 79.28 secs\n",
            "Epoch: 31 | Training Loss: 1.3477 | Test Loss: 1.1894 | Training accuracy: 41.308% | Test accuracy: 48.073% | Epoch Time: 79.20 secs\n",
            "Epoch: 32 | Training Loss: 1.3400 | Test Loss: 1.1180 | Training accuracy: 43.794% | Test accuracy: 51.536% | Epoch Time: 78.90 secs\n",
            "Epoch: 33 | Training Loss: 1.3336 | Test Loss: 1.1940 | Training accuracy: 42.882% | Test accuracy: 48.762% | Epoch Time: 77.69 secs\n",
            "Epoch: 34 | Training Loss: 1.3327 | Test Loss: 1.0997 | Training accuracy: 44.441% | Test accuracy: 52.783% | Epoch Time: 79.73 secs\n",
            "==> Saving model ...\n",
            "Epoch: 35 | Training Loss: 1.3253 | Test Loss: 1.2357 | Training accuracy: 41.308% | Test accuracy: 45.615% | Epoch Time: 79.41 secs\n",
            "Epoch: 36 | Training Loss: 1.3136 | Test Loss: 1.1715 | Training accuracy: 43.408% | Test accuracy: 49.302% | Epoch Time: 78.71 secs\n",
            "Epoch: 37 | Training Loss: 1.3215 | Test Loss: 1.1144 | Training accuracy: 43.734% | Test accuracy: 51.238% | Epoch Time: 78.00 secs\n",
            "Epoch: 38 | Training Loss: 1.3064 | Test Loss: 1.1285 | Training accuracy: 44.642% | Test accuracy: 51.890% | Epoch Time: 78.78 secs\n",
            "Epoch: 39 | Training Loss: 1.3038 | Test Loss: 1.1073 | Training accuracy: 44.874% | Test accuracy: 52.020% | Epoch Time: 78.83 secs\n",
            "Early stopping\n",
            "==> Finished Training ...\n"
          ]
        }
      ],
      "source": [
        "# training loop\n",
        "loss_list = []\n",
        "train_acc_list = []\n",
        "test_acc_list = []\n",
        "\n",
        "for epoch in range(1, epochs + 1):\n",
        "    model.train()  # put in training mode\n",
        "    running_loss = 0.0\n",
        "    epoch_time = time.time()\n",
        "    for i, data in enumerate(trainloader, 0):\n",
        "        # get the inputs\n",
        "        inputs, labels = data\n",
        "        # send them to device\n",
        "        inputs = inputs.to(device)\n",
        "        labels = labels.to(device)\n",
        "\n",
        "        # forward + backward + optimize\n",
        "        outputs = model(inputs)  # forward pass\n",
        "        loss = criterion(outputs, labels)  # calculate the loss\n",
        "        # always the same 3 steps\n",
        "        optimizer.zero_grad()  # zero the parameter gradients\n",
        "        loss.backward()  # backpropagation\n",
        "        optimizer.step()  # update parameters\n",
        "\n",
        "        # print statistics\n",
        "        running_loss += loss.data.item()\n",
        "\n",
        "    # Normalizing the loss by the total number of train batches\n",
        "    running_loss /= len(trainloader)\n",
        "\n",
        "    # Calculate training/test set accuracy of the existing model\n",
        "    train_accuracy, _ = calculate_accuracy(model, trainloader, device)\n",
        "    test_accuracy, _ = calculate_accuracy(model, testloader, device)\n",
        "\n",
        "    # append the losses\n",
        "    loss_list.append(running_loss)\n",
        "    train_acc_list.append(train_accuracy)\n",
        "    test_acc_list.append(test_accuracy)\n",
        "\n",
        "    # modify learning rate\n",
        "    scheduler.step()\n",
        "\n",
        "    # save every 5 models\n",
        "    if epoch % 5 == 0:\n",
        "      print('==> Saving model ...')\n",
        "      state = {\n",
        "          'net': model.state_dict(),\n",
        "          'epoch': epoch,\n",
        "      }\n",
        "\n",
        "      torch.save(state, os.path.join(root_path, 'intermediate_checkpoints', f'model_epoch_{epoch}.pth'))\n",
        "\n",
        "    # compute validation loss to check if we should stop\n",
        "    model.eval()  # switch to evaluation mode\n",
        "    test_loss = 0.0\n",
        "    total_test_samples = 0\n",
        "\n",
        "    with torch.no_grad():  # No need to compute gradients during validation\n",
        "      for data in testloader:\n",
        "        inputs, labels = data\n",
        "        inputs = inputs.to(device)\n",
        "        labels = labels.to(device)\n",
        "\n",
        "        # Forward pass\n",
        "        outputs = model(inputs)\n",
        "        loss = criterion(outputs, labels)\n",
        "\n",
        "        # Update validation loss and total samples\n",
        "        test_loss += loss.item() * inputs.size(0)\n",
        "        total_test_samples += inputs.size(0)\n",
        "\n",
        "    # Calculate average validation loss\n",
        "    test_loss /= total_test_samples\n",
        "\n",
        "    log = \"Epoch: {} | Training Loss: {:.4f} | Test Loss: {:.4f} | Training accuracy: {:.3f}% | Test accuracy: {:.3f}% | \".format(epoch, running_loss, test_loss, train_accuracy, test_accuracy)\n",
        "    epoch_time = time.time() - epoch_time\n",
        "    log += \"Epoch Time: {:.2f} secs\".format(epoch_time)\n",
        "    print(log)\n",
        "\n",
        "    early_stopping(test_loss, model, epoch)\n",
        "    if early_stopping.early_stop:\n",
        "        print(\"Early stopping\")\n",
        "        break\n",
        "\n",
        "EXP_COUNTER += 1\n",
        "print('==> Finished Training ...')"
      ]
    },
    {
      "cell_type": "markdown",
      "metadata": {
        "id": "t2kktPT3tsYA"
      },
      "source": [
        "# Plot loss, train acc vs valid acc"
      ]
    },
    {
      "cell_type": "code",
      "execution_count": null,
      "metadata": {
        "colab": {
          "base_uri": "https://localhost:8080/",
          "height": 489
        },
        "id": "_ros51i0trxM",
        "outputId": "9e6eb635-afde-43f1-a71b-fee6bf98a407"
      },
      "outputs": [
        {
          "name": "stdout",
          "output_type": "stream",
          "text": [
            "39\n"
          ]
        },
        {
          "data": {
            "image/png": "[encoded data removed]",
            "text/plain": [
              "<Figure size 640x480 with 1 Axes>"
            ]
          },
          "metadata": {},
          "output_type": "display_data"
        }
      ],
      "source": [
        "# Plot and label the training and validation loss values\n",
        "print(len(train_acc_list))\n",
        "epochs_list = list(range(epochs))\n",
        "plt.plot(epochs_list[:len(train_acc_list)], train_acc_list, label='Training acc')\n",
        "plt.plot(epochs_list[:len(train_acc_list)], test_acc_list, label='Validation acc')\n",
        "\n",
        "# Add in a title and axes labels\n",
        "plt.title('Training and Validation Loss')\n",
        "plt.xlabel('Epochs')\n",
        "plt.ylabel('Loss')\n",
        "\n",
        "# Set the tick locations\n",
        "plt.xticks(np.arange(0, len(train_acc_list), 2))\n",
        "\n",
        "# Display the plot\n",
        "plt.legend(loc='best')\n",
        "plt.savefig(os.path.join(root_path, \"loss_plot.png\"))\n",
        "plt.show()"
      ]
    },
    {
      "cell_type": "code",
      "execution_count": null,
      "metadata": {
        "colab": {
          "base_uri": "https://localhost:8080/"
        },
        "id": "h8Z8Bap3zd4p",
        "outputId": "e345dd64-b82c-45a1-8ec1-7a88fa37cf99"
      },
      "outputs": [
        {
          "name": "stdout",
          "output_type": "stream",
          "text": [
            "Accuracy on Training Set: 53.575418994413404%\n",
            "Accuracy on Test Set: 52.78346676596537%\n"
          ]
        }
      ],
      "source": [
        "best_model = ResNet9_64(3, len(classes))  # Modify with your model architecture\n",
        "\n",
        "# Load the saved model state dictionary\n",
        "checkpoint = torch.load(os.path.join(root_path, 'early_stopped_model.pth'))\n",
        "\n",
        "# Load the model state dictionary\n",
        "best_model.load_state_dict(checkpoint['net'])\n",
        "best_model.to(device)\n",
        "\n",
        "transform_testing_purposes = transforms.Compose([\n",
        "    transforms.ToTensor(),\n",
        "    transforms.Normalize((0.485, 0.456, 0.406), (0.229, 0.224, 0.225)),\n",
        "])\n",
        "\n",
        "trainset = AgeDataset(\n",
        "    image_paths=X_train,\n",
        "    labels=y_train,\n",
        "    resize=IMAGE_SHAPE,\n",
        "    augmentations=transform_testing_purposes,\n",
        ")\n",
        "\n",
        "testset = AgeDataset(\n",
        "    image_paths=X_test,\n",
        "    labels=y_test,\n",
        "    resize=IMAGE_SHAPE,\n",
        "    augmentations=transform_testing_purposes,\n",
        ")\n",
        "\n",
        "# Create a DataLoader for the training set without data augmentation\n",
        "trainloader_no_aug = torch.utils.data.DataLoader(\n",
        "    trainset, batch_size=batch_size, shuffle=False, num_workers=2)\n",
        "testloader_for_testing = torch.utils.data.DataLoader(\n",
        "    testset, batch_size=batch_size, shuffle=False, num_workers=2)\n",
        "\n",
        "no_aug_train_acc, confusion_matrix_train = calculate_accuracy(best_model, trainloader_no_aug, device)\n",
        "test_acc, confusion_matrix_test = calculate_accuracy(best_model, testloader_for_testing, device)\n",
        "\n",
        "print(f\"Accuracy on Training Set: {no_aug_train_acc}%\")\n",
        "print(f\"Accuracy on Test Set: {test_acc}%\")"
      ]
    },
    {
      "cell_type": "code",
      "execution_count": null,
      "metadata": {
        "id": "yptOYYoh30Cc"
      },
      "outputs": [],
      "source": [
        "np.save(os.path.join(root_path, 'confusion_matrix_test.npy'), confusion_matrix_test)\n",
        "\n",
        "np.save(os.path.join(root_path, 'confusion_matrix_train.npy'), confusion_matrix_test)"
      ]
    },
    {
      "cell_type": "markdown",
      "metadata": {
        "id": "Dp7cC-l99L4u"
      },
      "source": [
        "# Implementation of ResNet9 for 64x64 images without dropout, and without image augmentations."
      ]
    },
    {
      "cell_type": "code",
      "execution_count": null,
      "metadata": {
        "id": "z44c8Gja9LtR"
      },
      "outputs": [],
      "source": [
        "def conv_block(in_channels, out_channels, pool=False):\n",
        "    layers = [nn.Conv2d(in_channels, out_channels, kernel_size=3, padding=1),\n",
        "              nn.BatchNorm2d(out_channels),\n",
        "              nn.ReLU(inplace=True)]\n",
        "    if pool: layers.append(nn.MaxPool2d(2))\n",
        "    return nn.Sequential(*layers)\n",
        "\n",
        "class ResNet9_64_nodropout(nn.Module):\n",
        "    def __init__(self, in_channels, num_classes):\n",
        "        super().__init__()\n",
        "\n",
        "        self.conv1 = conv_block(in_channels, 64)\n",
        "        self.conv2 = conv_block(64, 128, pool=True)\n",
        "        self.res1 = nn.Sequential(conv_block(128, 128), conv_block(128, 128))\n",
        "\n",
        "        self.conv3 = conv_block(128, 256, pool=True)\n",
        "        self.conv4 = conv_block(256, 512, pool=True)\n",
        "        self.res2 = nn.Sequential(conv_block(512, 512), conv_block(512, 512))\n",
        "\n",
        "        self.classifier = nn.Sequential(\n",
        "            nn.MaxPool2d(4),\n",
        "            nn.Flatten(),\n",
        "            nn.Linear(2048, 512),\n",
        "            nn.ReLU(inplace=True),\n",
        "            nn.Linear(512, num_classes)\n",
        "        )\n",
        "\n",
        "    def forward(self, xb):\n",
        "        out = self.conv1(xb)\n",
        "        out = self.conv2(out)\n",
        "        out = self.res1(out) + out\n",
        "        out = self.conv3(out)\n",
        "        out = self.conv4(out)\n",
        "        out = self.res2(out) + out\n",
        "        out = self.classifier(out)\n",
        "        return out"
      ]
    },
    {
      "cell_type": "code",
      "execution_count": null,
      "metadata": {
        "id": "yTlpHnbd9UQz"
      },
      "outputs": [],
      "source": [
        "IMAGE_SHAPE = (3, 64, 64)\n",
        "\n",
        "trainset = AgeDataset(\n",
        "    image_paths=X_train,\n",
        "    labels=y_train,\n",
        "    resize=IMAGE_SHAPE,\n",
        ")\n",
        "\n",
        "testset = AgeDataset(\n",
        "    image_paths=X_test,\n",
        "    labels=y_test,\n",
        "    resize=IMAGE_SHAPE,\n",
        ")"
      ]
    },
    {
      "cell_type": "markdown",
      "metadata": {
        "id": "TrxbjImy9rfg"
      },
      "source": [
        "# Now onto the actual training of the ResNet9 64x64 without dropout or image augmentations."
      ]
    },
    {
      "cell_type": "code",
      "execution_count": null,
      "metadata": {
        "colab": {
          "base_uri": "https://localhost:8080/"
        },
        "id": "U9Dk7ZT6UpIS",
        "outputId": "e3e4123c-b44a-4472-8d0b-1be665bc22ce"
      },
      "outputs": [
        {
          "name": "stdout",
          "output_type": "stream",
          "text": [
            "/content/drive/MyDrive/architectures/ResNet9_64_no_dropout\n"
          ]
        }
      ],
      "source": [
        "root_path = os.path.join(drive_dir, \"architectures\", 'ResNet9_64_no_dropout')\n",
        "os.makedirs(root_path, exist_ok=True)\n",
        "os.makedirs(os.path.join(root_path, 'intermediate_checkpoints'), exist_ok=True)\n",
        "print(root_path)"
      ]
    },
    {
      "cell_type": "code",
      "execution_count": null,
      "metadata": {
        "colab": {
          "base_uri": "https://localhost:8080/"
        },
        "id": "BaTUINLC9q5e",
        "outputId": "f83dca89-8997-4dd0-deb7-9885d4e698ba"
      },
      "outputs": [
        {
          "name": "stdout",
          "output_type": "stream",
          "text": [
            "/content/drive/MyDrive/architectures/ResNet9_64_no_dropout/intermediate_checkpoints/early_stopped_model.pth\n"
          ]
        }
      ],
      "source": [
        "batch_size = 128\n",
        "max_learning_rate = 0.001\n",
        "weight_decay = 1e-4\n",
        "epochs = 50\n",
        "\n",
        "# dataloaders - creating batches and shuffling the data\n",
        "trainloader = torch.utils.data.DataLoader(\n",
        "    trainset, batch_size=batch_size, shuffle=True, num_workers=2)\n",
        "testloader = torch.utils.data.DataLoader(\n",
        "    testset, batch_size=batch_size, shuffle=False, num_workers=2)\n",
        "\n",
        "# device - cpu or gpu?\n",
        "device = torch.device(\"cuda:0\" if torch.cuda.is_available() else \"cpu\")\n",
        "\n",
        "# loss criterion\n",
        "criterion = nn.CrossEntropyLoss()\n",
        "\n",
        "# model\n",
        "model = ResNet9_64_nodropout(IMAGE_SHAPE[0], len(classes)).to(device)\n",
        "\n",
        "# optimizer and scheduler\n",
        "optimizer = torch.optim.Adam(model.parameters(), lr=max_learning_rate)\n",
        "scheduler = OneCycleLR(optimizer, max_lr=max_learning_rate, epochs=epochs, steps_per_epoch=len(trainloader))\n",
        "\n",
        "# early stopping policy\n",
        "early_stopping = EarlyStopping(path=os.path.join(root_path, 'early_stopped_model.pth'))\n",
        "print(os.path.join(root_path, 'intermediate_checkpoints', 'early_stopped_model.pth'))"
      ]
    },
    {
      "cell_type": "code",
      "execution_count": null,
      "metadata": {
        "colab": {
          "base_uri": "https://localhost:8080/"
        },
        "id": "oQE10jpj9wae",
        "outputId": "c2f7a99c-8ece-4c0b-d5e8-bc794d25bf29"
      },
      "outputs": [
        {
          "name": "stdout",
          "output_type": "stream",
          "text": [
            "Epoch: 1 | Training Loss: 1.2749 | Test Loss: 1.3137 | Training accuracy: 54.455% | Test accuracy: 43.232% | Epoch Time: 35.43 secs\n",
            "Epoch: 2 | Training Loss: 1.1180 | Test Loss: 1.2463 | Training accuracy: 60.992% | Test accuracy: 46.546% | Epoch Time: 34.75 secs\n",
            "Epoch: 3 | Training Loss: 0.9683 | Test Loss: 1.1807 | Training accuracy: 68.478% | Test accuracy: 49.246% | Epoch Time: 34.85 secs\n",
            "Epoch: 4 | Training Loss: 0.8149 | Test Loss: 1.1508 | Training accuracy: 79.879% | Test accuracy: 50.251% | Epoch Time: 33.63 secs\n",
            "==> Saving model ...\n",
            "Epoch: 5 | Training Loss: 0.6377 | Test Loss: 1.1807 | Training accuracy: 85.861% | Test accuracy: 49.842% | Epoch Time: 37.32 secs\n",
            "Epoch: 6 | Training Loss: 0.4614 | Test Loss: 1.1628 | Training accuracy: 96.792% | Test accuracy: 49.842% | Epoch Time: 34.57 secs\n",
            "Epoch: 7 | Training Loss: 0.2961 | Test Loss: 1.1917 | Training accuracy: 99.171% | Test accuracy: 50.251% | Epoch Time: 35.16 secs\n",
            "Epoch: 8 | Training Loss: 0.1810 | Test Loss: 1.3264 | Training accuracy: 99.427% | Test accuracy: 50.400% | Epoch Time: 33.61 secs\n",
            "Epoch: 9 | Training Loss: 0.1076 | Test Loss: 1.2256 | Training accuracy: 99.772% | Test accuracy: 51.536% | Epoch Time: 35.74 secs\n",
            "Early stopping\n",
            "==> Finished Training ...\n"
          ]
        }
      ],
      "source": [
        "# training loop\n",
        "loss_list = []\n",
        "train_acc_list = []\n",
        "test_acc_list = []\n",
        "\n",
        "for epoch in range(1, epochs + 1):\n",
        "    model.train()  # put in training mode\n",
        "    running_loss = 0.0\n",
        "    epoch_time = time.time()\n",
        "    for i, data in enumerate(trainloader, 0):\n",
        "        # get the inputs\n",
        "        inputs, labels = data\n",
        "        # send them to device\n",
        "        inputs = inputs.to(device)\n",
        "        labels = labels.to(device)\n",
        "\n",
        "        # forward + backward + optimize\n",
        "        outputs = model(inputs)  # forward pass\n",
        "        loss = criterion(outputs, labels)  # calculate the loss\n",
        "        # always the same 3 steps\n",
        "        optimizer.zero_grad()  # zero the parameter gradients\n",
        "        loss.backward()  # backpropagation\n",
        "        optimizer.step()  # update parameters\n",
        "\n",
        "        # print statistics\n",
        "        running_loss += loss.data.item()\n",
        "\n",
        "    # Normalizing the loss by the total number of train batches\n",
        "    running_loss /= len(trainloader)\n",
        "\n",
        "    # Calculate training/test set accuracy of the existing model\n",
        "    train_accuracy, _ = calculate_accuracy(model, trainloader, device)\n",
        "    test_accuracy, _ = calculate_accuracy(model, testloader, device)\n",
        "\n",
        "    # append the losses\n",
        "    loss_list.append(running_loss)\n",
        "    train_acc_list.append(train_accuracy)\n",
        "    test_acc_list.append(test_accuracy)\n",
        "\n",
        "    # modify learning rate\n",
        "    scheduler.step()\n",
        "\n",
        "    # save every 5 models\n",
        "    if epoch % 5 == 0:\n",
        "      print('==> Saving model ...')\n",
        "      state = {\n",
        "          'net': model.state_dict(),\n",
        "          'epoch': epoch,\n",
        "      }\n",
        "\n",
        "      torch.save(state, os.path.join(root_path, 'intermediate_checkpoints', f'model_epoch_{epoch}.pth'))\n",
        "\n",
        "    # compute validation loss to check if we should stop\n",
        "    model.eval()  # switch to evaluation mode\n",
        "    test_loss = 0.0\n",
        "    total_test_samples = 0\n",
        "\n",
        "    with torch.no_grad():  # No need to compute gradients during validation\n",
        "      for data in testloader:\n",
        "        inputs, labels = data\n",
        "        inputs = inputs.to(device)\n",
        "        labels = labels.to(device)\n",
        "\n",
        "        # Forward pass\n",
        "        outputs = model(inputs)\n",
        "        loss = criterion(outputs, labels)\n",
        "\n",
        "        # Update validation loss and total samples\n",
        "        test_loss += loss.item() * inputs.size(0)\n",
        "        total_test_samples += inputs.size(0)\n",
        "\n",
        "    # Calculate average validation loss\n",
        "    test_loss /= total_test_samples\n",
        "\n",
        "    log = \"Epoch: {} | Training Loss: {:.4f} | Test Loss: {:.4f} | Training accuracy: {:.3f}% | Test accuracy: {:.3f}% | \".format(epoch, running_loss, test_loss, train_accuracy, test_accuracy)\n",
        "    epoch_time = time.time() - epoch_time\n",
        "    log += \"Epoch Time: {:.2f} secs\".format(epoch_time)\n",
        "    print(log)\n",
        "\n",
        "    early_stopping(test_loss, model, epoch)\n",
        "    if early_stopping.early_stop:\n",
        "        print(\"Early stopping\")\n",
        "        break\n",
        "\n",
        "EXP_COUNTER += 1\n",
        "print('==> Finished Training ...')"
      ]
    },
    {
      "cell_type": "markdown",
      "metadata": {
        "id": "u1DMh5ot2mJO"
      },
      "source": [
        "# Now onto ResNet9 but with images of shape 128x128."
      ]
    },
    {
      "cell_type": "code",
      "execution_count": null,
      "metadata": {
        "id": "L4eJs2ln2ok7"
      },
      "outputs": [],
      "source": [
        "class ResNet9_128(nn.Module):\n",
        "    def __init__(self, in_channels, num_classes):\n",
        "        super().__init__()\n",
        "\n",
        "        self.conv1 = conv_block(in_channels, 64)\n",
        "        self.conv2 = conv_block(64, 128, pool=True)\n",
        "        self.res1 = nn.Sequential(conv_block(128, 128), conv_block(128, 128))\n",
        "\n",
        "        self.conv3 = conv_block(128, 256, pool=True)\n",
        "        self.conv4 = conv_block(256, 512, pool=True)\n",
        "        self.res2 = nn.Sequential(conv_block(512, 512), conv_block(512, 512))\n",
        "\n",
        "        self.classifier = nn.Sequential(\n",
        "            nn.MaxPool2d(4),\n",
        "            nn.Flatten(),\n",
        "            nn.Linear(8192, 512),\n",
        "            nn.ReLU(inplace=True),\n",
        "            nn.Dropout(p=0.5),\n",
        "            nn.Linear(512, num_classes)\n",
        "        )\n",
        "\n",
        "    def forward(self, xb):\n",
        "        out = self.conv1(xb)\n",
        "        out = self.conv2(out)\n",
        "        out = self.res1(out) + out\n",
        "        out = self.conv3(out)\n",
        "        out = self.conv4(out)\n",
        "        out = self.res2(out) + out\n",
        "        out = self.classifier(out)\n",
        "        return out"
      ]
    },
    {
      "cell_type": "code",
      "execution_count": null,
      "metadata": {
        "colab": {
          "base_uri": "https://localhost:8080/"
        },
        "id": "vbrRiUQF20TB",
        "outputId": "2fba6ff4-f722-4350-e1ad-5bfd705857bd"
      },
      "outputs": [
        {
          "name": "stdout",
          "output_type": "stream",
          "text": [
            "torch.Size([1, 6])\n",
            "torch.Size([1, 6])\n",
            "num trainable weights:  10768134\n"
          ]
        }
      ],
      "source": [
        "IMAGE_SHAPE = (3, 128, 128)\n",
        "dummy_input = torch.zeros([1, *IMAGE_SHAPE])\n",
        "dummy_model = ResNet9_128(3, len(classes))\n",
        "dummy_model.eval()\n",
        "dummy_output = dummy_model(dummy_input)\n",
        "print(dummy_output.shape)\n",
        "dummy_output = dummy_output.view(dummy_output.size(0), -1)\n",
        "print(dummy_output.shape)\n",
        "# calculating the number of trainable weights\n",
        "num_trainable_params = sum([p.numel() for p in dummy_model.parameters() if p.requires_grad])\n",
        "print(\"num trainable weights: \", num_trainable_params)"
      ]
    },
    {
      "cell_type": "code",
      "execution_count": null,
      "metadata": {
        "colab": {
          "base_uri": "https://localhost:8080/"
        },
        "id": "k-347PQB29MO",
        "outputId": "546b3f6b-22b9-4a22-e793-547db3b049cb"
      },
      "outputs": [
        {
          "name": "stdout",
          "output_type": "stream",
          "text": [
            "/content/drive/MyDrive/architectures/ResNet9_128\n"
          ]
        }
      ],
      "source": [
        "root_path = os.path.join(drive_dir, \"architectures\", 'ResNet9_128')\n",
        "os.makedirs(root_path, exist_ok=True)\n",
        "os.makedirs(os.path.join(root_path, 'intermediate_checkpoints'), exist_ok=True)\n",
        "print(root_path)\n"
      ]
    },
    {
      "cell_type": "code",
      "execution_count": null,
      "metadata": {
        "colab": {
          "base_uri": "https://localhost:8080/"
        },
        "id": "5OjEblLT4OUq",
        "outputId": "fe04a5df-1054-4521-8d6a-a6c9cbec689c"
      },
      "outputs": [
        {
          "name": "stdout",
          "output_type": "stream",
          "text": [
            "/content/drive/MyDrive/architectures/ResNet9_128/intermediate_checkpoints/early_stopped_model.pth\n"
          ]
        }
      ],
      "source": [
        "batch_size = 128\n",
        "max_learning_rate = 0.001\n",
        "weight_decay = 1e-4\n",
        "epochs = 50\n",
        "\n",
        "trainset = AgeDataset(\n",
        "    image_paths=X_train,\n",
        "    labels=y_train,\n",
        "    resize=IMAGE_SHAPE,\n",
        "    augmentations=transform_train,\n",
        ")\n",
        "\n",
        "testset = AgeDataset(\n",
        "    image_paths=X_test,\n",
        "    labels=y_test,\n",
        "    resize=IMAGE_SHAPE,\n",
        "    augmentations=transform_test,\n",
        ")\n",
        "\n",
        "# dataloaders - creating batches and shuffling the data\n",
        "trainloader = torch.utils.data.DataLoader(\n",
        "    trainset, batch_size=batch_size, shuffle=True, num_workers=2)\n",
        "testloader = torch.utils.data.DataLoader(\n",
        "    testset, batch_size=batch_size, shuffle=False, num_workers=2)\n",
        "\n",
        "# device - cpu or gpu?\n",
        "device = torch.device(\"cuda:0\" if torch.cuda.is_available() else \"cpu\")\n",
        "\n",
        "# loss criterion\n",
        "criterion = nn.CrossEntropyLoss()\n",
        "\n",
        "# model\n",
        "model = ResNet9_128(IMAGE_SHAPE[0], len(classes)).to(device)\n",
        "\n",
        "# optimizer and scheduler\n",
        "optimizer = torch.optim.Adam(model.parameters(), lr=max_learning_rate)\n",
        "scheduler = OneCycleLR(optimizer, max_lr=max_learning_rate, epochs=epochs, steps_per_epoch=len(trainloader))\n",
        "\n",
        "# early stopping policy\n",
        "early_stopping = EarlyStopping(path=os.path.join(root_path, 'early_stopped_model.pth'))\n",
        "print(os.path.join(root_path, 'intermediate_checkpoints', 'early_stopped_model.pth'))"
      ]
    },
    {
      "cell_type": "code",
      "execution_count": null,
      "metadata": {
        "colab": {
          "base_uri": "https://localhost:8080/"
        },
        "id": "1TXVPMIb4kPh",
        "outputId": "00e15b8f-b86b-442d-f3dd-614081b83f6b"
      },
      "outputs": [
        {
          "name": "stdout",
          "output_type": "stream",
          "text": [
            "Epoch: 1 | Training Loss: 1.6816 | Test Loss: 1.5947 | Training accuracy: 34.334% | Test accuracy: 34.500% | Epoch Time: 47.10 secs\n",
            "Epoch: 2 | Training Loss: 1.6336 | Test Loss: 1.5608 | Training accuracy: 34.548% | Test accuracy: 35.748% | Epoch Time: 46.81 secs\n",
            "Epoch: 3 | Training Loss: 1.6197 | Test Loss: 1.5079 | Training accuracy: 34.711% | Test accuracy: 37.218% | Epoch Time: 46.95 secs\n",
            "Epoch: 4 | Training Loss: 1.6065 | Test Loss: 1.4916 | Training accuracy: 35.098% | Test accuracy: 37.963% | Epoch Time: 47.11 secs\n",
            "==> Saving model ...\n",
            "Epoch: 5 | Training Loss: 1.5856 | Test Loss: 1.4442 | Training accuracy: 35.484% | Test accuracy: 38.373% | Epoch Time: 47.16 secs\n",
            "Epoch: 6 | Training Loss: 1.5756 | Test Loss: 1.4166 | Training accuracy: 36.667% | Test accuracy: 39.899% | Epoch Time: 47.07 secs\n",
            "Epoch: 7 | Training Loss: 1.5505 | Test Loss: 1.4307 | Training accuracy: 36.453% | Test accuracy: 39.155% | Epoch Time: 46.91 secs\n",
            "Epoch: 8 | Training Loss: 1.5374 | Test Loss: 1.4358 | Training accuracy: 36.345% | Test accuracy: 40.737% | Epoch Time: 47.12 secs\n",
            "Epoch: 9 | Training Loss: 1.5177 | Test Loss: 1.3526 | Training accuracy: 36.974% | Test accuracy: 40.719% | Epoch Time: 47.02 secs\n",
            "==> Saving model ...\n",
            "Epoch: 10 | Training Loss: 1.5051 | Test Loss: 1.3391 | Training accuracy: 38.566% | Test accuracy: 44.554% | Epoch Time: 47.09 secs\n",
            "Epoch: 11 | Training Loss: 1.4913 | Test Loss: 1.3093 | Training accuracy: 38.412% | Test accuracy: 44.163% | Epoch Time: 47.28 secs\n",
            "Epoch: 12 | Training Loss: 1.4856 | Test Loss: 1.3316 | Training accuracy: 38.161% | Test accuracy: 42.823% | Epoch Time: 47.26 secs\n",
            "Epoch: 13 | Training Loss: 1.4769 | Test Loss: 1.2939 | Training accuracy: 40.112% | Test accuracy: 45.932% | Epoch Time: 47.16 secs\n",
            "Epoch: 14 | Training Loss: 1.4602 | Test Loss: 1.2863 | Training accuracy: 40.326% | Test accuracy: 45.317% | Epoch Time: 46.97 secs\n",
            "==> Saving model ...\n",
            "Epoch: 15 | Training Loss: 1.4504 | Test Loss: 1.2782 | Training accuracy: 39.860% | Test accuracy: 45.038% | Epoch Time: 47.13 secs\n",
            "Epoch: 16 | Training Loss: 1.4422 | Test Loss: 1.2567 | Training accuracy: 40.475% | Test accuracy: 46.565% | Epoch Time: 46.98 secs\n",
            "Epoch: 17 | Training Loss: 1.4379 | Test Loss: 1.2415 | Training accuracy: 41.117% | Test accuracy: 46.230% | Epoch Time: 47.45 secs\n",
            "Epoch: 18 | Training Loss: 1.4324 | Test Loss: 1.2726 | Training accuracy: 39.763% | Test accuracy: 45.150% | Epoch Time: 47.10 secs\n",
            "Epoch: 19 | Training Loss: 1.4303 | Test Loss: 1.2333 | Training accuracy: 41.578% | Test accuracy: 46.826% | Epoch Time: 46.93 secs\n",
            "==> Saving model ...\n",
            "Epoch: 20 | Training Loss: 1.4139 | Test Loss: 1.2342 | Training accuracy: 40.447% | Test accuracy: 46.509% | Epoch Time: 47.31 secs\n",
            "Epoch: 21 | Training Loss: 1.4077 | Test Loss: 1.2097 | Training accuracy: 42.146% | Test accuracy: 48.073% | Epoch Time: 47.20 secs\n",
            "Epoch: 22 | Training Loss: 1.4054 | Test Loss: 1.2273 | Training accuracy: 41.941% | Test accuracy: 46.974% | Epoch Time: 47.00 secs\n",
            "Epoch: 23 | Training Loss: 1.4006 | Test Loss: 1.2167 | Training accuracy: 42.365% | Test accuracy: 46.602% | Epoch Time: 47.07 secs\n",
            "Epoch: 24 | Training Loss: 1.3929 | Test Loss: 1.2032 | Training accuracy: 41.592% | Test accuracy: 47.701% | Epoch Time: 46.85 secs\n",
            "==> Saving model ...\n",
            "Epoch: 25 | Training Loss: 1.3871 | Test Loss: 1.2284 | Training accuracy: 41.439% | Test accuracy: 46.174% | Epoch Time: 47.32 secs\n",
            "Epoch: 26 | Training Loss: 1.3846 | Test Loss: 1.1738 | Training accuracy: 43.091% | Test accuracy: 48.855% | Epoch Time: 47.45 secs\n",
            "Epoch: 27 | Training Loss: 1.3838 | Test Loss: 1.1797 | Training accuracy: 43.264% | Test accuracy: 48.613% | Epoch Time: 46.86 secs\n",
            "Epoch: 28 | Training Loss: 1.3807 | Test Loss: 1.1780 | Training accuracy: 41.941% | Test accuracy: 48.371% | Epoch Time: 47.07 secs\n",
            "Epoch: 29 | Training Loss: 1.3821 | Test Loss: 1.2116 | Training accuracy: 41.788% | Test accuracy: 46.658% | Epoch Time: 46.98 secs\n",
            "==> Saving model ...\n",
            "Epoch: 30 | Training Loss: 1.3761 | Test Loss: 1.1524 | Training accuracy: 44.232% | Test accuracy: 49.432% | Epoch Time: 47.10 secs\n",
            "Epoch: 31 | Training Loss: 1.3573 | Test Loss: 1.1340 | Training accuracy: 44.385% | Test accuracy: 51.182% | Epoch Time: 48.27 secs\n",
            "Epoch: 32 | Training Loss: 1.3618 | Test Loss: 1.1450 | Training accuracy: 44.148% | Test accuracy: 49.991% | Epoch Time: 47.97 secs\n",
            "Epoch: 33 | Training Loss: 1.3575 | Test Loss: 1.1737 | Training accuracy: 43.645% | Test accuracy: 48.762% | Epoch Time: 48.12 secs\n",
            "Epoch: 34 | Training Loss: 1.3474 | Test Loss: 1.1474 | Training accuracy: 44.628% | Test accuracy: 50.084% | Epoch Time: 48.26 secs\n",
            "==> Saving model ...\n",
            "Epoch: 35 | Training Loss: 1.3445 | Test Loss: 1.1162 | Training accuracy: 45.279% | Test accuracy: 50.959% | Epoch Time: 48.36 secs\n",
            "Epoch: 36 | Training Loss: 1.3442 | Test Loss: 1.1605 | Training accuracy: 44.050% | Test accuracy: 49.581% | Epoch Time: 48.07 secs\n",
            "Epoch: 37 | Training Loss: 1.3396 | Test Loss: 1.1296 | Training accuracy: 44.311% | Test accuracy: 50.400% | Epoch Time: 47.96 secs\n",
            "Epoch: 38 | Training Loss: 1.3315 | Test Loss: 1.1124 | Training accuracy: 44.628% | Test accuracy: 51.201% | Epoch Time: 48.09 secs\n",
            "Epoch: 39 | Training Loss: 1.3284 | Test Loss: 1.1188 | Training accuracy: 45.247% | Test accuracy: 50.773% | Epoch Time: 48.23 secs\n",
            "==> Saving model ...\n",
            "Epoch: 40 | Training Loss: 1.3302 | Test Loss: 1.0961 | Training accuracy: 45.633% | Test accuracy: 51.108% | Epoch Time: 48.06 secs\n",
            "Epoch: 41 | Training Loss: 1.3256 | Test Loss: 1.1496 | Training accuracy: 43.264% | Test accuracy: 49.656% | Epoch Time: 48.04 secs\n",
            "Epoch: 42 | Training Loss: 1.3157 | Test Loss: 1.0964 | Training accuracy: 45.740% | Test accuracy: 52.150% | Epoch Time: 48.67 secs\n",
            "Epoch: 43 | Training Loss: 1.3203 | Test Loss: 1.1164 | Training accuracy: 45.484% | Test accuracy: 50.698% | Epoch Time: 48.69 secs\n",
            "Epoch: 44 | Training Loss: 1.3143 | Test Loss: 1.0911 | Training accuracy: 46.238% | Test accuracy: 52.560% | Epoch Time: 48.16 secs\n",
            "==> Saving model ...\n",
            "Epoch: 45 | Training Loss: 1.3133 | Test Loss: 1.0833 | Training accuracy: 46.075% | Test accuracy: 52.188% | Epoch Time: 48.31 secs\n",
            "Epoch: 46 | Training Loss: 1.3086 | Test Loss: 1.0864 | Training accuracy: 45.442% | Test accuracy: 51.964% | Epoch Time: 48.19 secs\n",
            "Epoch: 47 | Training Loss: 1.3034 | Test Loss: 1.1848 | Training accuracy: 40.368% | Test accuracy: 45.597% | Epoch Time: 48.13 secs\n",
            "Epoch: 48 | Training Loss: 1.3072 | Test Loss: 1.0870 | Training accuracy: 45.912% | Test accuracy: 51.071% | Epoch Time: 48.31 secs\n",
            "Epoch: 49 | Training Loss: 1.2994 | Test Loss: 1.0831 | Training accuracy: 46.089% | Test accuracy: 52.486% | Epoch Time: 47.92 secs\n",
            "==> Saving model ...\n",
            "Epoch: 50 | Training Loss: 1.2978 | Test Loss: 1.0985 | Training accuracy: 45.480% | Test accuracy: 51.108% | Epoch Time: 48.59 secs\n",
            "==> Finished Training ...\n"
          ]
        }
      ],
      "source": [
        "# training loop\n",
        "loss_list = []\n",
        "train_acc_list = []\n",
        "test_acc_list = []\n",
        "\n",
        "for epoch in range(1, epochs + 1):\n",
        "    model.train()  # put in training mode\n",
        "    running_loss = 0.0\n",
        "    epoch_time = time.time()\n",
        "    for i, data in enumerate(trainloader, 0):\n",
        "        # get the inputs\n",
        "        inputs, labels = data\n",
        "        # send them to device\n",
        "        inputs = inputs.to(device)\n",
        "        labels = labels.to(device)\n",
        "\n",
        "        # forward + backward + optimize\n",
        "        outputs = model(inputs)  # forward pass\n",
        "        loss = criterion(outputs, labels)  # calculate the loss\n",
        "        # always the same 3 steps\n",
        "        optimizer.zero_grad()  # zero the parameter gradients\n",
        "        loss.backward()  # backpropagation\n",
        "        optimizer.step()  # update parameters\n",
        "\n",
        "        # print statistics\n",
        "        running_loss += loss.data.item()\n",
        "\n",
        "    # Normalizing the loss by the total number of train batches\n",
        "    running_loss /= len(trainloader)\n",
        "\n",
        "    # Calculate training/test set accuracy of the existing model\n",
        "    train_accuracy, _ = calculate_accuracy(model, trainloader, device)\n",
        "    test_accuracy, _ = calculate_accuracy(model, testloader, device)\n",
        "\n",
        "    # append the losses\n",
        "    loss_list.append(running_loss)\n",
        "    train_acc_list.append(train_accuracy)\n",
        "    test_acc_list.append(test_accuracy)\n",
        "\n",
        "    # modify learning rate\n",
        "    scheduler.step()\n",
        "\n",
        "    # save every 5 models\n",
        "    if epoch % 5 == 0:\n",
        "      print('==> Saving model ...')\n",
        "      state = {\n",
        "          'net': model.state_dict(),\n",
        "          'epoch': epoch,\n",
        "      }\n",
        "\n",
        "      torch.save(state, os.path.join(root_path, 'intermediate_checkpoints', f'model_epoch_{epoch}.pth'))\n",
        "\n",
        "    # compute validation loss to check if we should stop\n",
        "    model.eval()  # switch to evaluation mode\n",
        "    test_loss = 0.0\n",
        "    total_test_samples = 0\n",
        "\n",
        "    with torch.no_grad():  # No need to compute gradients during validation\n",
        "      for data in testloader:\n",
        "        inputs, labels = data\n",
        "        inputs = inputs.to(device)\n",
        "        labels = labels.to(device)\n",
        "\n",
        "        # Forward pass\n",
        "        outputs = model(inputs)\n",
        "        loss = criterion(outputs, labels)\n",
        "\n",
        "        # Update validation loss and total samples\n",
        "        test_loss += loss.item() * inputs.size(0)\n",
        "        total_test_samples += inputs.size(0)\n",
        "\n",
        "    # Calculate average validation loss\n",
        "    test_loss /= total_test_samples\n",
        "\n",
        "    log = \"Epoch: {} | Training Loss: {:.4f} | Test Loss: {:.4f} | Training accuracy: {:.3f}% | Test accuracy: {:.3f}% | \".format(epoch, running_loss, test_loss, train_accuracy, test_accuracy)\n",
        "    epoch_time = time.time() - epoch_time\n",
        "    log += \"Epoch Time: {:.2f} secs\".format(epoch_time)\n",
        "    print(log)\n",
        "\n",
        "    early_stopping(test_loss, model, epoch)\n",
        "    if early_stopping.early_stop:\n",
        "        print(\"Early stopping\")\n",
        "        break\n",
        "\n",
        "EXP_COUNTER += 1\n",
        "print('==> Finished Training ...')"
      ]
    },
    {
      "cell_type": "markdown",
      "metadata": {
        "id": "BWFd9oWH88yA"
      },
      "source": [
        "# Since the model did not converge, train for 50 more epochs, the same as before."
      ]
    },
    {
      "cell_type": "code",
      "execution_count": null,
      "metadata": {
        "colab": {
          "base_uri": "https://localhost:8080/"
        },
        "id": "rTjiCuTd877t",
        "outputId": "30032ae1-df56-462b-e109-5c2f9e7908e4"
      },
      "outputs": [
        {
          "name": "stdout",
          "output_type": "stream",
          "text": [
            "Epoch: 51 | Training Loss: 1.2956 | Test Loss: 1.0775 | Training accuracy: 46.965% | Test accuracy: 52.020% | Epoch Time: 48.17 secs\n",
            "Epoch: 52 | Training Loss: 1.2929 | Test Loss: 1.0855 | Training accuracy: 46.224% | Test accuracy: 52.206% | Epoch Time: 48.27 secs\n",
            "Epoch: 53 | Training Loss: 1.2789 | Test Loss: 1.0691 | Training accuracy: 46.550% | Test accuracy: 52.765% | Epoch Time: 48.16 secs\n",
            "Epoch: 54 | Training Loss: 1.2870 | Test Loss: 1.1172 | Training accuracy: 45.628% | Test accuracy: 51.797% | Epoch Time: 48.05 secs\n",
            "==> Saving model ...\n",
            "Epoch: 55 | Training Loss: 1.2839 | Test Loss: 1.1104 | Training accuracy: 44.739% | Test accuracy: 51.220% | Epoch Time: 48.31 secs\n",
            "Epoch: 56 | Training Loss: 1.2811 | Test Loss: 1.0544 | Training accuracy: 46.653% | Test accuracy: 52.914% | Epoch Time: 48.12 secs\n",
            "Epoch: 57 | Training Loss: 1.2786 | Test Loss: 1.1053 | Training accuracy: 45.587% | Test accuracy: 50.884% | Epoch Time: 48.33 secs\n",
            "Epoch: 58 | Training Loss: 1.2758 | Test Loss: 1.0551 | Training accuracy: 47.868% | Test accuracy: 54.105% | Epoch Time: 48.00 secs\n",
            "Epoch: 59 | Training Loss: 1.2683 | Test Loss: 1.0946 | Training accuracy: 46.406% | Test accuracy: 51.462% | Epoch Time: 48.04 secs\n",
            "==> Saving model ...\n",
            "Epoch: 60 | Training Loss: 1.2671 | Test Loss: 1.0535 | Training accuracy: 47.444% | Test accuracy: 52.821% | Epoch Time: 48.35 secs\n",
            "Epoch: 61 | Training Loss: 1.2672 | Test Loss: 1.0455 | Training accuracy: 47.481% | Test accuracy: 54.459% | Epoch Time: 48.08 secs\n",
            "Epoch: 62 | Training Loss: 1.2690 | Test Loss: 1.0507 | Training accuracy: 47.584% | Test accuracy: 53.305% | Epoch Time: 48.00 secs\n",
            "Epoch: 63 | Training Loss: 1.2672 | Test Loss: 1.0580 | Training accuracy: 47.179% | Test accuracy: 54.273% | Epoch Time: 48.08 secs\n",
            "Epoch: 64 | Training Loss: 1.2626 | Test Loss: 1.1287 | Training accuracy: 46.439% | Test accuracy: 51.071% | Epoch Time: 47.94 secs\n",
            "==> Saving model ...\n",
            "Epoch: 65 | Training Loss: 1.2674 | Test Loss: 1.0364 | Training accuracy: 47.593% | Test accuracy: 54.403% | Epoch Time: 48.24 secs\n",
            "Epoch: 66 | Training Loss: 1.2560 | Test Loss: 1.0476 | Training accuracy: 48.105% | Test accuracy: 53.621% | Epoch Time: 48.14 secs\n",
            "Epoch: 67 | Training Loss: 1.2537 | Test Loss: 1.0677 | Training accuracy: 47.905% | Test accuracy: 53.044% | Epoch Time: 48.35 secs\n",
            "Epoch: 68 | Training Loss: 1.2565 | Test Loss: 1.0504 | Training accuracy: 47.002% | Test accuracy: 53.435% | Epoch Time: 48.24 secs\n",
            "Epoch: 69 | Training Loss: 1.2524 | Test Loss: 1.0262 | Training accuracy: 47.691% | Test accuracy: 54.459% | Epoch Time: 47.90 secs\n",
            "==> Saving model ...\n",
            "Epoch: 70 | Training Loss: 1.2560 | Test Loss: 1.0805 | Training accuracy: 47.151% | Test accuracy: 52.746% | Epoch Time: 48.35 secs\n",
            "Epoch: 71 | Training Loss: 1.2518 | Test Loss: 1.0426 | Training accuracy: 47.602% | Test accuracy: 54.478% | Epoch Time: 48.18 secs\n",
            "Epoch: 72 | Training Loss: 1.2483 | Test Loss: 1.0607 | Training accuracy: 48.333% | Test accuracy: 53.137% | Epoch Time: 48.39 secs\n",
            "Epoch: 73 | Training Loss: 1.2514 | Test Loss: 1.0923 | Training accuracy: 45.368% | Test accuracy: 52.169% | Epoch Time: 48.40 secs\n",
            "Epoch: 74 | Training Loss: 1.2388 | Test Loss: 1.0162 | Training accuracy: 48.352% | Test accuracy: 54.906% | Epoch Time: 48.12 secs\n",
            "==> Saving model ...\n",
            "Epoch: 75 | Training Loss: 1.2445 | Test Loss: 1.0127 | Training accuracy: 49.055% | Test accuracy: 54.459% | Epoch Time: 48.31 secs\n",
            "Epoch: 76 | Training Loss: 1.2397 | Test Loss: 1.0170 | Training accuracy: 48.925% | Test accuracy: 55.074% | Epoch Time: 48.15 secs\n",
            "Epoch: 77 | Training Loss: 1.2338 | Test Loss: 1.0090 | Training accuracy: 49.441% | Test accuracy: 56.209% | Epoch Time: 48.02 secs\n",
            "Epoch: 78 | Training Loss: 1.2416 | Test Loss: 1.0428 | Training accuracy: 49.106% | Test accuracy: 54.980% | Epoch Time: 48.01 secs\n",
            "Epoch: 79 | Training Loss: 1.2327 | Test Loss: 1.0009 | Training accuracy: 49.655% | Test accuracy: 55.725% | Epoch Time: 48.43 secs\n",
            "==> Saving model ...\n",
            "Epoch: 80 | Training Loss: 1.2303 | Test Loss: 1.0254 | Training accuracy: 48.259% | Test accuracy: 54.999% | Epoch Time: 48.22 secs\n",
            "Epoch: 81 | Training Loss: 1.2313 | Test Loss: 0.9971 | Training accuracy: 49.278% | Test accuracy: 55.781% | Epoch Time: 48.12 secs\n",
            "Epoch: 82 | Training Loss: 1.2279 | Test Loss: 1.0245 | Training accuracy: 49.209% | Test accuracy: 54.031% | Epoch Time: 48.25 secs\n",
            "Epoch: 83 | Training Loss: 1.2279 | Test Loss: 0.9948 | Training accuracy: 49.818% | Test accuracy: 56.395% | Epoch Time: 48.11 secs\n",
            "Epoch: 84 | Training Loss: 1.2347 | Test Loss: 1.0111 | Training accuracy: 49.376% | Test accuracy: 55.204% | Epoch Time: 48.16 secs\n",
            "==> Saving model ...\n",
            "Epoch: 85 | Training Loss: 1.2218 | Test Loss: 1.0144 | Training accuracy: 49.697% | Test accuracy: 55.762% | Epoch Time: 48.32 secs\n",
            "Epoch: 86 | Training Loss: 1.2270 | Test Loss: 0.9907 | Training accuracy: 49.916% | Test accuracy: 56.786% | Epoch Time: 48.34 secs\n",
            "Epoch: 87 | Training Loss: 1.2167 | Test Loss: 1.0075 | Training accuracy: 49.362% | Test accuracy: 56.060% | Epoch Time: 48.07 secs\n",
            "Epoch: 88 | Training Loss: 1.2213 | Test Loss: 1.0415 | Training accuracy: 48.515% | Test accuracy: 53.026% | Epoch Time: 48.18 secs\n",
            "Epoch: 89 | Training Loss: 1.2269 | Test Loss: 1.0418 | Training accuracy: 49.320% | Test accuracy: 54.236% | Epoch Time: 48.44 secs\n",
            "==> Saving model ...\n",
            "Epoch: 90 | Training Loss: 1.2177 | Test Loss: 1.0001 | Training accuracy: 50.298% | Test accuracy: 56.898% | Epoch Time: 48.60 secs\n",
            "Epoch: 91 | Training Loss: 1.2152 | Test Loss: 0.9891 | Training accuracy: 50.279% | Test accuracy: 57.122% | Epoch Time: 47.98 secs\n",
            "Epoch: 92 | Training Loss: 1.2144 | Test Loss: 0.9889 | Training accuracy: 50.428% | Test accuracy: 56.712% | Epoch Time: 48.08 secs\n",
            "Epoch: 93 | Training Loss: 1.2093 | Test Loss: 0.9946 | Training accuracy: 50.005% | Test accuracy: 56.637% | Epoch Time: 48.32 secs\n",
            "Epoch: 94 | Training Loss: 1.2048 | Test Loss: 0.9948 | Training accuracy: 50.424% | Test accuracy: 55.856% | Epoch Time: 48.20 secs\n",
            "==> Saving model ...\n",
            "Epoch: 95 | Training Loss: 1.2071 | Test Loss: 0.9979 | Training accuracy: 50.345% | Test accuracy: 56.880% | Epoch Time: 48.48 secs\n",
            "Epoch: 96 | Training Loss: 1.2170 | Test Loss: 1.0430 | Training accuracy: 49.427% | Test accuracy: 55.148% | Epoch Time: 48.40 secs\n",
            "Epoch: 97 | Training Loss: 1.2107 | Test Loss: 0.9938 | Training accuracy: 50.582% | Test accuracy: 56.470% | Epoch Time: 48.02 secs\n",
            "Early stopping\n",
            "==> Finished Training ...\n"
          ]
        }
      ],
      "source": [
        "# Define the number of additional epochs you want to train for\n",
        "additional_epochs = 50\n",
        "\n",
        "# Continue training for additional_epochs\n",
        "for epoch in range(epochs + 1, epochs + additional_epochs + 1):\n",
        "    model.train()  # put in training mode\n",
        "    running_loss = 0.0\n",
        "    epoch_time = time.time()\n",
        "    for i, data in enumerate(trainloader, 0):\n",
        "        # get the inputs\n",
        "        inputs, labels = data\n",
        "        # send them to device\n",
        "        inputs = inputs.to(device)\n",
        "        labels = labels.to(device)\n",
        "\n",
        "        # forward + backward + optimize\n",
        "        outputs = model(inputs)  # forward pass\n",
        "        loss = criterion(outputs, labels)  # calculate the loss\n",
        "        # always the same 3 steps\n",
        "        optimizer.zero_grad()  # zero the parameter gradients\n",
        "        loss.backward()  # backpropagation\n",
        "        optimizer.step()  # update parameters\n",
        "\n",
        "        # print statistics\n",
        "        running_loss += loss.data.item()\n",
        "\n",
        "    # Normalizing the loss by the total number of train batches\n",
        "    running_loss /= len(trainloader)\n",
        "\n",
        "    # Calculate training/test set accuracy of the existing model\n",
        "    train_accuracy, _ = calculate_accuracy(model, trainloader, device)\n",
        "    test_accuracy, _ = calculate_accuracy(model, testloader, device)\n",
        "\n",
        "    # append the losses\n",
        "    loss_list.append(running_loss)\n",
        "    train_acc_list.append(train_accuracy)\n",
        "    test_acc_list.append(test_accuracy)\n",
        "\n",
        "    # modify learning rate\n",
        "    scheduler.step()\n",
        "\n",
        "    # save every 5 models\n",
        "    if epoch % 5 == 0:\n",
        "      print('==> Saving model ...')\n",
        "      state = {\n",
        "          'net': model.state_dict(),\n",
        "          'epoch': epoch,\n",
        "      }\n",
        "\n",
        "      torch.save(state, os.path.join(root_path, 'intermediate_checkpoints', f'model_epoch_{epoch}.pth'))\n",
        "\n",
        "    # compute validation loss to check if we should stop\n",
        "    model.eval()  # switch to evaluation mode\n",
        "    test_loss = 0.0\n",
        "    total_test_samples = 0\n",
        "\n",
        "    with torch.no_grad():  # No need to compute gradients during validation\n",
        "      for data in testloader:\n",
        "        inputs, labels = data\n",
        "        inputs = inputs.to(device)\n",
        "        labels = labels.to(device)\n",
        "\n",
        "        # Forward pass\n",
        "        outputs = model(inputs)\n",
        "        loss = criterion(outputs, labels)\n",
        "\n",
        "        # Update validation loss and total samples\n",
        "        test_loss += loss.item() * inputs.size(0)\n",
        "        total_test_samples += inputs.size(0)\n",
        "\n",
        "    # Calculate average validation loss\n",
        "    test_loss /= total_test_samples\n",
        "\n",
        "    log = \"Epoch: {} | Training Loss: {:.4f} | Test Loss: {:.4f} | Training accuracy: {:.3f}% | Test accuracy: {:.3f}% | \".format(epoch, running_loss, test_loss, train_accuracy, test_accuracy)\n",
        "    epoch_time = time.time() - epoch_time\n",
        "    log += \"Epoch Time: {:.2f} secs\".format(epoch_time)\n",
        "    print(log)\n",
        "\n",
        "    early_stopping(test_loss, model, epoch)\n",
        "    if early_stopping.early_stop:\n",
        "        print(\"Early stopping\")\n",
        "        break\n",
        "\n",
        "# Update the total number of epochs\n",
        "epochs += additional_epochs\n",
        "print('==> Finished Training ...')\n"
      ]
    },
    {
      "cell_type": "code",
      "execution_count": null,
      "metadata": {
        "colab": {
          "base_uri": "https://localhost:8080/",
          "height": 489
        },
        "id": "8FY8-PQCzXAX",
        "outputId": "bebeca06-afcb-4560-b489-16b3b9a5569d"
      },
      "outputs": [
        {
          "name": "stdout",
          "output_type": "stream",
          "text": [
            "97\n"
          ]
        },
        {
          "data": {
            "image/png": "[encoded data removed]",
            "text/plain": [
              "<Figure size 640x480 with 1 Axes>"
            ]
          },
          "metadata": {},
          "output_type": "display_data"
        }
      ],
      "source": [
        "# Plot and label the training and validation loss values\n",
        "print(len(train_acc_list))\n",
        "epochs_list = list(range(epochs))\n",
        "plt.plot(epochs_list[:len(train_acc_list)], train_acc_list, label='Training acc')\n",
        "plt.plot(epochs_list[:len(train_acc_list)], test_acc_list, label='Validation acc')\n",
        "\n",
        "# Add in a title and axes labels\n",
        "plt.title('Training and Validation Loss')\n",
        "plt.xlabel('Epochs')\n",
        "plt.ylabel('Loss')\n",
        "\n",
        "# Set the tick locations\n",
        "plt.xticks(np.arange(0, len(train_acc_list), 2))\n",
        "\n",
        "# Display the plot\n",
        "plt.legend(loc='best')\n",
        "plt.savefig(os.path.join(root_path, \"loss_plot.png\"))\n",
        "plt.show()"
      ]
    },
    {
      "cell_type": "code",
      "execution_count": null,
      "metadata": {
        "colab": {
          "base_uri": "https://localhost:8080/"
        },
        "id": "vAhhrWiM7drC",
        "outputId": "21ea8715-568e-4851-ffe2-b3aa5c217aad"
      },
      "outputs": [
        {
          "name": "stdout",
          "output_type": "stream",
          "text": [
            "Accuracy on Training Set: 59.729981378026075%\n",
            "Accuracy on Test Set: 56.711971699869665%\n"
          ]
        }
      ],
      "source": [
        "best_model = ResNet9_128(3, len(classes))\n",
        "\n",
        "# Load the saved model state dictionary\n",
        "checkpoint = torch.load(os.path.join(root_path, 'early_stopped_model.pth'))\n",
        "\n",
        "# Load the model state dictionary\n",
        "best_model.load_state_dict(checkpoint['net'])\n",
        "best_model.to(device)\n",
        "\n",
        "transform_testing_purposes = transforms.Compose([\n",
        "    transforms.ToTensor(),\n",
        "    transforms.Normalize((0.485, 0.456, 0.406), (0.229, 0.224, 0.225)),\n",
        "])\n",
        "\n",
        "trainset = AgeDataset(\n",
        "    image_paths=X_train,\n",
        "    labels=y_train,\n",
        "    resize=IMAGE_SHAPE,\n",
        "    augmentations=transform_testing_purposes,\n",
        ")\n",
        "\n",
        "testset = AgeDataset(\n",
        "    image_paths=X_test,\n",
        "    labels=y_test,\n",
        "    resize=IMAGE_SHAPE,\n",
        "    augmentations=transform_testing_purposes,\n",
        ")\n",
        "\n",
        "# Create a DataLoader for the training set without data augmentation\n",
        "trainloader_no_aug = torch.utils.data.DataLoader(\n",
        "    trainset, batch_size=batch_size, shuffle=False, num_workers=2)\n",
        "testloader_for_testing = torch.utils.data.DataLoader(\n",
        "    testset, batch_size=batch_size, shuffle=False, num_workers=2)\n",
        "\n",
        "no_aug_train_acc, confusion_matrix_train = calculate_accuracy(best_model, trainloader_no_aug, device)\n",
        "test_acc, confusion_matrix_test = calculate_accuracy(best_model, testloader_for_testing, device)\n",
        "\n",
        "print(f\"Accuracy on Training Set: {no_aug_train_acc}%\")\n",
        "print(f\"Accuracy on Test Set: {test_acc}%\")"
      ]
    },
    {
      "cell_type": "code",
      "execution_count": null,
      "metadata": {
        "id": "U1-sUb6MGWX7"
      },
      "outputs": [],
      "source": [
        "np.save(os.path.join(root_path, 'confusion_matrix_test.npy'), confusion_matrix_test)\n",
        "np.save(os.path.join(root_path, 'confusion_matrix_train.npy'), confusion_matrix_test)"
      ]
    },
    {
      "cell_type": "markdown",
      "metadata": {
        "id": "pafO78FiteWQ"
      },
      "source": [
        "# Now onto training ResNet50, with Dropout."
      ]
    },
    {
      "cell_type": "code",
      "execution_count": null,
      "metadata": {
        "id": "UUNOcgswckha"
      },
      "outputs": [],
      "source": [
        "class ResNet50_Dropout(nn.Module):\n",
        "    def __init__(self, num_classes=6, dropout_prob=0.5):\n",
        "        super(ResNet50_Dropout, self).__init__()\n",
        "        self.resnet50 = resnet50(weights = ResNet50_Weights.IMAGENET1K_V2)\n",
        "\n",
        "        # Modify the last fully connected layer to output predictions for 6 classes\n",
        "        num_ftrs = self.resnet50.fc.in_features\n",
        "        self.resnet50.fc = nn.Sequential(\n",
        "            nn.Linear(num_ftrs, 512),\n",
        "            nn.ReLU(inplace=True),\n",
        "            nn.Dropout(p=dropout_prob),\n",
        "            nn.Linear(512, num_classes)\n",
        "        )\n",
        "\n",
        "    def forward(self, x):\n",
        "        return self.resnet50(x)\n"
      ]
    },
    {
      "cell_type": "code",
      "execution_count": null,
      "metadata": {
        "colab": {
          "base_uri": "https://localhost:8080/"
        },
        "id": "JCIqe3hWt7Xo",
        "outputId": "c3bcd87e-2b16-4840-f8c0-4c562d36e47d"
      },
      "outputs": [
        {
          "output_type": "stream",
          "name": "stderr",
          "text": [
            "Downloading: \"https://download.pytorch.org/models/resnet50-11ad3fa6.pth\" to /root/.cache/torch/hub/checkpoints/resnet50-11ad3fa6.pth\n",
            "100%|██████████| 97.8M/97.8M [00:00<00:00, 155MB/s]\n"
          ]
        },
        {
          "output_type": "stream",
          "name": "stdout",
          "text": [
            "torch.Size([1, 6])\n",
            "torch.Size([1, 6])\n",
            "num trainable weights:  24560198\n"
          ]
        }
      ],
      "source": [
        "IMAGE_SHAPE = (3, 224, 224)\n",
        "dummy_input = torch.zeros([1, *IMAGE_SHAPE])\n",
        "dummy_model = ResNet50_Dropout(len(classes))\n",
        "dummy_model.eval()\n",
        "dummy_output = dummy_model(dummy_input)\n",
        "print(dummy_output.shape)\n",
        "dummy_output = dummy_output.view(dummy_output.size(0), -1)\n",
        "print(dummy_output.shape)\n",
        "# calculating the number of trainable weights\n",
        "num_trainable_params = sum([p.numel() for p in dummy_model.parameters() if p.requires_grad])\n",
        "print(\"num trainable weights: \", num_trainable_params)"
      ]
    },
    {
      "cell_type": "code",
      "execution_count": null,
      "metadata": {
        "colab": {
          "base_uri": "https://localhost:8080/"
        },
        "id": "sDOgGorouTSx",
        "outputId": "18d8148f-0703-4b34-c599-473bf0255abb"
      },
      "outputs": [
        {
          "output_type": "stream",
          "name": "stdout",
          "text": [
            "/content/drive/MyDrive/architectures/ResNet50_Dropout\n"
          ]
        }
      ],
      "source": [
        "root_path = os.path.join(drive_dir, \"architectures\", 'ResNet50_Dropout')\n",
        "os.makedirs(root_path, exist_ok=True)\n",
        "os.makedirs(os.path.join(root_path, 'intermediate_checkpoints'), exist_ok=True)\n",
        "print(root_path)"
      ]
    },
    {
      "cell_type": "code",
      "execution_count": null,
      "metadata": {
        "colab": {
          "base_uri": "https://localhost:8080/"
        },
        "id": "h7n4YhgHuWIr",
        "outputId": "7fffff30-0919-4d10-e41e-d7a5a3a46da9"
      },
      "outputs": [
        {
          "output_type": "stream",
          "name": "stdout",
          "text": [
            "/content/drive/MyDrive/architectures/ResNet50_Dropout/intermediate_checkpoints/early_stopped_model.pth\n"
          ]
        }
      ],
      "source": [
        "batch_size = 128\n",
        "max_learning_rate = 0.001\n",
        "weight_decay = 1e-4\n",
        "epochs = 50\n",
        "\n",
        "trainset = AgeDataset(\n",
        "    image_paths=X_train,\n",
        "    labels=y_train,\n",
        "    resize=IMAGE_SHAPE,\n",
        "    augmentations=transform_train,\n",
        ")\n",
        "\n",
        "testset = AgeDataset(\n",
        "    image_paths=X_test,\n",
        "    labels=y_test,\n",
        "    resize=IMAGE_SHAPE,\n",
        "    augmentations=transform_test,\n",
        ")\n",
        "\n",
        "# dataloaders - creating batches and shuffling the data\n",
        "trainloader = torch.utils.data.DataLoader(\n",
        "    trainset, batch_size=batch_size, shuffle=True, num_workers=2)\n",
        "testloader = torch.utils.data.DataLoader(\n",
        "    testset, batch_size=batch_size, shuffle=False, num_workers=2)\n",
        "\n",
        "# device - cpu or gpu?\n",
        "device = torch.device(\"cuda:0\" if torch.cuda.is_available() else \"cpu\")\n",
        "\n",
        "# loss criterion\n",
        "criterion = nn.CrossEntropyLoss()\n",
        "\n",
        "# model\n",
        "model = ResNet50_Dropout(len(classes)).to(device)\n",
        "\n",
        "# optimizer and scheduler\n",
        "optimizer = torch.optim.Adam(model.parameters(), lr=max_learning_rate)\n",
        "scheduler = OneCycleLR(optimizer, max_lr=max_learning_rate, epochs=epochs, steps_per_epoch=len(trainloader))\n",
        "\n",
        "# early stopping policy\n",
        "early_stopping = EarlyStopping(path=os.path.join(root_path, 'early_stopped_model.pth'))\n",
        "print(os.path.join(root_path, 'intermediate_checkpoints', 'early_stopped_model.pth'))"
      ]
    },
    {
      "cell_type": "code",
      "execution_count": null,
      "metadata": {
        "colab": {
          "base_uri": "https://localhost:8080/",
          "height": 766
        },
        "id": "ZDIDxmO8u0-M",
        "outputId": "6a5b379a-f6d0-467b-93fd-f2e428069d47"
      },
      "outputs": [
        {
          "output_type": "stream",
          "name": "stdout",
          "text": [
            "Epoch: 1 | Training Loss: 1.5942 | Test Loss: 1.4373 | Training accuracy: 36.294% | Test accuracy: 39.899% | Epoch Time: 98.68 secs\n",
            "Epoch: 2 | Training Loss: 1.4381 | Test Loss: 1.2470 | Training accuracy: 42.612% | Test accuracy: 46.751% | Epoch Time: 98.35 secs\n",
            "Epoch: 3 | Training Loss: 1.3273 | Test Loss: 1.1526 | Training accuracy: 45.912% | Test accuracy: 49.898% | Epoch Time: 97.79 secs\n",
            "Epoch: 4 | Training Loss: 1.2666 | Test Loss: 1.0958 | Training accuracy: 48.347% | Test accuracy: 52.895% | Epoch Time: 98.64 secs\n",
            "Epoch: 5 | Training Loss: 1.2239 | Test Loss: 1.0741 | Training accuracy: 48.785% | Test accuracy: 53.547% | Epoch Time: 97.89 secs\n",
            "Epoch: 6 | Training Loss: 1.1891 | Test Loss: 1.0477 | Training accuracy: 50.172% | Test accuracy: 55.036% | Epoch Time: 98.42 secs\n",
            "Epoch: 7 | Training Loss: 1.1584 | Test Loss: 1.0082 | Training accuracy: 52.197% | Test accuracy: 56.656% | Epoch Time: 98.24 secs\n",
            "Epoch: 8 | Training Loss: 1.1376 | Test Loss: 0.9963 | Training accuracy: 53.301% | Test accuracy: 56.377% | Epoch Time: 97.65 secs\n",
            "Epoch: 9 | Training Loss: 1.1141 | Test Loss: 0.9938 | Training accuracy: 53.594% | Test accuracy: 56.079% | Epoch Time: 97.33 secs\n",
            "Epoch: 10 | Training Loss: 1.0988 | Test Loss: 0.9636 | Training accuracy: 54.339% | Test accuracy: 57.513% | Epoch Time: 96.54 secs\n",
            "Epoch: 11 | Training Loss: 1.0899 | Test Loss: 0.9567 | Training accuracy: 54.953% | Test accuracy: 57.475% | Epoch Time: 96.81 secs\n",
            "Epoch: 12 | Training Loss: 1.0650 | Test Loss: 0.9412 | Training accuracy: 55.633% | Test accuracy: 58.834% | Epoch Time: 97.25 secs\n",
            "Epoch: 13 | Training Loss: 1.0522 | Test Loss: 0.9494 | Training accuracy: 55.950% | Test accuracy: 58.741% | Epoch Time: 96.99 secs\n",
            "Epoch: 14 | Training Loss: 1.0386 | Test Loss: 0.9363 | Training accuracy: 56.546% | Test accuracy: 58.928% | Epoch Time: 97.44 secs\n",
            "Epoch: 15 | Training Loss: 1.0215 | Test Loss: 0.9238 | Training accuracy: 57.039% | Test accuracy: 60.547% | Epoch Time: 97.54 secs\n",
            "Epoch: 16 | Training Loss: 1.0182 | Test Loss: 0.9231 | Training accuracy: 57.463% | Test accuracy: 59.523% | Epoch Time: 97.41 secs\n",
            "Epoch: 17 | Training Loss: 1.0078 | Test Loss: 0.9439 | Training accuracy: 57.719% | Test accuracy: 59.393% | Epoch Time: 98.16 secs\n",
            "Epoch: 18 | Training Loss: 0.9965 | Test Loss: 0.9536 | Training accuracy: 58.394% | Test accuracy: 58.797% | Epoch Time: 96.80 secs\n",
            "Epoch: 19 | Training Loss: 0.9862 | Test Loss: 0.9283 | Training accuracy: 58.515% | Test accuracy: 60.305% | Epoch Time: 97.19 secs\n",
            "Epoch: 20 | Training Loss: 0.9832 | Test Loss: 0.9340 | Training accuracy: 59.250% | Test accuracy: 59.579% | Epoch Time: 97.22 secs\n",
            "Epoch: 21 | Training Loss: 0.9735 | Test Loss: 0.9303 | Training accuracy: 59.218% | Test accuracy: 60.045% | Epoch Time: 97.61 secs\n",
            "Epoch: 22 | Training Loss: 0.9612 | Test Loss: 0.9313 | Training accuracy: 60.154% | Test accuracy: 60.492% | Epoch Time: 97.48 secs\n",
            "Epoch: 23 | Training Loss: 0.9496 | Test Loss: 0.9490 | Training accuracy: 59.977% | Test accuracy: 59.803% | Epoch Time: 97.65 secs\n",
            "Epoch: 24 | Training Loss: 0.9461 | Test Loss: 0.9489 | Training accuracy: 60.428% | Test accuracy: 60.696% | Epoch Time: 98.81 secs\n",
            "Epoch: 25 | Training Loss: 0.9335 | Test Loss: 0.9486 | Training accuracy: 61.034% | Test accuracy: 59.356% | Epoch Time: 97.85 secs\n",
            "Epoch: 26 | Training Loss: 0.9303 | Test Loss: 0.9394 | Training accuracy: 61.895% | Test accuracy: 60.268% | Epoch Time: 97.99 secs\n",
            "Epoch: 27 | Training Loss: 0.9218 | Test Loss: 0.9558 | Training accuracy: 62.388% | Test accuracy: 59.784% | Epoch Time: 97.76 secs\n",
            "Epoch: 28 | Training Loss: 0.9185 | Test Loss: 0.9632 | Training accuracy: 62.183% | Test accuracy: 59.747% | Epoch Time: 97.85 secs\n",
            "Epoch: 29 | Training Loss: 0.9123 | Test Loss: 0.9555 | Training accuracy: 63.040% | Test accuracy: 60.734% | Epoch Time: 97.74 secs\n",
            "Epoch: 30 | Training Loss: 0.8954 | Test Loss: 0.9706 | Training accuracy: 63.291% | Test accuracy: 60.212% | Epoch Time: 97.80 secs\n",
            "Epoch: 31 | Training Loss: 0.8853 | Test Loss: 0.9812 | Training accuracy: 62.924% | Test accuracy: 59.393% | Epoch Time: 97.76 secs\n",
            "Epoch: 32 | Training Loss: 0.8763 | Test Loss: 0.9824 | Training accuracy: 63.394% | Test accuracy: 58.834% | Epoch Time: 97.72 secs\n"
          ]
        },
        {
          "output_type": "error",
          "ename": "KeyboardInterrupt",
          "evalue": "",
          "traceback": [
            "\u001b[0;31m---------------------------------------------------------------------------\u001b[0m",
            "\u001b[0;31mKeyboardInterrupt\u001b[0m                         Traceback (most recent call last)",
            "\u001b[0;32m<ipython-input-27-b6d235f7eb63>\u001b[0m in \u001b[0;36m<cell line: 8>\u001b[0;34m()\u001b[0m\n\u001b[1;32m     26\u001b[0m \u001b[0;34m\u001b[0m\u001b[0m\n\u001b[1;32m     27\u001b[0m         \u001b[0;31m# print statistics\u001b[0m\u001b[0;34m\u001b[0m\u001b[0;34m\u001b[0m\u001b[0m\n\u001b[0;32m---> 28\u001b[0;31m         \u001b[0mrunning_loss\u001b[0m \u001b[0;34m+=\u001b[0m \u001b[0mloss\u001b[0m\u001b[0;34m.\u001b[0m\u001b[0mdata\u001b[0m\u001b[0;34m.\u001b[0m\u001b[0mitem\u001b[0m\u001b[0;34m(\u001b[0m\u001b[0;34m)\u001b[0m\u001b[0;34m\u001b[0m\u001b[0;34m\u001b[0m\u001b[0m\n\u001b[0m\u001b[1;32m     29\u001b[0m \u001b[0;34m\u001b[0m\u001b[0m\n\u001b[1;32m     30\u001b[0m     \u001b[0;31m# Normalizing the loss by the total number of train batches\u001b[0m\u001b[0;34m\u001b[0m\u001b[0;34m\u001b[0m\u001b[0m\n",
            "\u001b[0;31mKeyboardInterrupt\u001b[0m: "
          ]
        }
      ],
      "source": [
        "# training loop\n",
        "train_loss_list = []\n",
        "test_loss_list = []\n",
        "train_acc_list = []\n",
        "test_acc_list = []\n",
        "curr_minimum_loss = 10000\n",
        "\n",
        "for epoch in range(1, epochs + 1):\n",
        "    model.train()  # put in training mode\n",
        "    running_loss = 0.0\n",
        "    epoch_time = time.time()\n",
        "    for i, data in enumerate(trainloader, 0):\n",
        "        # get the inputs\n",
        "        inputs, labels = data\n",
        "        # send them to device\n",
        "        inputs = inputs.to(device)\n",
        "        labels = labels.to(device)\n",
        "\n",
        "        # forward + backward + optimize\n",
        "        outputs = model(inputs)  # forward pass\n",
        "        loss = criterion(outputs, labels)  # calculate the loss\n",
        "        # always the same 3 steps\n",
        "        optimizer.zero_grad()  # zero the parameter gradients\n",
        "        loss.backward()  # backpropagation\n",
        "        optimizer.step()  # update parameters\n",
        "\n",
        "        # print statistics\n",
        "        running_loss += loss.data.item()\n",
        "\n",
        "    # Normalizing the loss by the total number of train batches\n",
        "    running_loss /= len(trainloader)\n",
        "\n",
        "    # Calculate training/test set accuracy of the existing model\n",
        "    train_accuracy, _ = calculate_accuracy(model, trainloader, device)\n",
        "    test_accuracy, _ = calculate_accuracy(model, testloader, device)\n",
        "\n",
        "    # append the losses\n",
        "    train_loss_list.append(running_loss)\n",
        "    train_acc_list.append(train_accuracy)\n",
        "    test_acc_list.append(test_accuracy)\n",
        "\n",
        "    # modify learning rate\n",
        "    scheduler.step()\n",
        "\n",
        "    # compute validation loss to check if we should stop\n",
        "    model.eval()  # switch to evaluation mode\n",
        "    test_loss = 0.0\n",
        "    total_test_samples = 0\n",
        "\n",
        "    with torch.no_grad():  # No need to compute gradients during validation\n",
        "      for data in testloader:\n",
        "        inputs, labels = data\n",
        "        inputs = inputs.to(device)\n",
        "        labels = labels.to(device)\n",
        "\n",
        "        # Forward pass\n",
        "        outputs = model(inputs)\n",
        "        loss = criterion(outputs, labels)\n",
        "\n",
        "        # Update validation loss and total samples\n",
        "        test_loss += loss.item() * inputs.size(0)\n",
        "        total_test_samples += inputs.size(0)\n",
        "\n",
        "    # Calculate average validation loss\n",
        "    test_loss /= total_test_samples\n",
        "    test_loss_list.append(test_loss)\n",
        "\n",
        "    log = \"Epoch: {} | Training Loss: {:.4f} | Test Loss: {:.4f} | Training accuracy: {:.3f}% | Test accuracy: {:.3f}% | \".format(epoch, running_loss, test_loss, train_accuracy, test_accuracy)\n",
        "    epoch_time = time.time() - epoch_time\n",
        "    log += \"Epoch Time: {:.2f} secs\".format(epoch_time)\n",
        "    print(log)\n",
        "\n",
        "    state = {\n",
        "        'net': model.state_dict(),\n",
        "        'epoch': epoch,\n",
        "    }\n",
        "    torch.save(state, os.path.join(root_path, f'model_{epoch}.pth'))\n",
        "\n",
        "    if test_loss < curr_minimum_loss:\n",
        "      curr_minimum_loss = test_loss\n",
        "      torch.save(state, os.path.join(root_path, 'best_model.pth'))\n",
        "\n",
        "EXP_COUNTER += 1\n",
        "print('==> Finished Training ...')"
      ]
    },
    {
      "cell_type": "code",
      "source": [
        "# Plot and label the training and validation loss values\n",
        "print(len(train_acc_list))\n",
        "epochs_list = list(range(epochs))\n",
        "plt.plot(epochs_list[:len(train_acc_list)], train_acc_list, label='Training acc')\n",
        "plt.plot(epochs_list[:len(train_acc_list)], test_acc_list, label='Validation acc')\n",
        "\n",
        "# Add in a title and axes labels\n",
        "plt.title('Training and Validation Accuracy')\n",
        "plt.xlabel('Epochs')\n",
        "plt.ylabel('Accuracy')\n",
        "\n",
        "# Set the tick locations\n",
        "plt.xticks(np.arange(0, len(train_acc_list), 5))\n",
        "\n",
        "# Display the plot\n",
        "plt.legend(loc='best')\n",
        "plt.savefig(os.path.join(root_path, \"acc_plot.png\"), format='pdf')\n",
        "plt.show()"
      ],
      "metadata": {
        "id": "itjtov-eOoX-",
        "colab": {
          "base_uri": "https://localhost:8080/",
          "height": 489
        },
        "outputId": "e465bd05-65f9-4cd7-963f-5208db4dda2f"
      },
      "execution_count": null,
      "outputs": [
        {
          "output_type": "stream",
          "name": "stdout",
          "text": [
            "32\n"
          ]
        },
        {
          "output_type": "display_data",
          "data": {
            "text/plain": [
              "<Figure size 640x480 with 1 Axes>"
            ],
            "image/png": "[encoded data removed]"
          },
          "metadata": {}
        }
      ]
    },
    {
      "cell_type": "code",
      "source": [
        "best_model = ResNet50_Dropout(len(classes), 0.5)\n",
        "\n",
        "# Load the saved model state dictionary\n",
        "checkpoint = torch.load(os.path.join(root_path, 'model_29.pth'))\n",
        "print(checkpoint['epoch'])\n",
        "\n",
        "# Load the model state dictionary\n",
        "best_model.load_state_dict(checkpoint['net'])\n",
        "best_model.to(device)\n",
        "\n",
        "transform_testing_purposes = transforms.Compose([\n",
        "    transforms.ToTensor(),\n",
        "    transforms.Normalize((0.485, 0.456, 0.406), (0.229, 0.224, 0.225)),\n",
        "])\n",
        "\n",
        "trainset = AgeDataset(\n",
        "    image_paths=X_train,\n",
        "    labels=y_train,\n",
        "    resize=IMAGE_SHAPE,\n",
        "    augmentations=transform_testing_purposes,\n",
        ")\n",
        "\n",
        "testset = AgeDataset(\n",
        "    image_paths=X_test,\n",
        "    labels=y_test,\n",
        "    resize=IMAGE_SHAPE,\n",
        "    augmentations=transform_testing_purposes,\n",
        ")\n",
        "\n",
        "# Create a DataLoader for the training set without data augmentation\n",
        "trainloader_no_aug = torch.utils.data.DataLoader(\n",
        "    trainset, batch_size=batch_size, shuffle=False, num_workers=2)\n",
        "testloader_for_testing = torch.utils.data.DataLoader(\n",
        "    testset, batch_size=batch_size, shuffle=False, num_workers=2)\n",
        "\n",
        "no_aug_train_acc, confusion_matrix_train = calculate_accuracy(best_model, trainloader_no_aug, device)\n",
        "test_acc, confusion_matrix_test = calculate_accuracy(best_model, testloader_for_testing, device)\n",
        "\n",
        "print(f\"Accuracy on Training Set: {no_aug_train_acc}%\")\n",
        "print(f\"Accuracy on Test Set: {test_acc}%\")"
      ],
      "metadata": {
        "id": "ZdlhZQFdPHYs",
        "colab": {
          "base_uri": "https://localhost:8080/"
        },
        "outputId": "6cb01d2a-1ca0-464d-dc36-db2dd5f084b3"
      },
      "execution_count": null,
      "outputs": [
        {
          "output_type": "stream",
          "name": "stdout",
          "text": [
            "29\n",
            "Accuracy on Training Set: 75.58659217877096%\n",
            "Accuracy on Test Set: 60.73356916775274%\n"
          ]
        }
      ]
    },
    {
      "cell_type": "code",
      "source": [
        "np.save(os.path.join(root_path, 'confusion_matrix_test.npy'), confusion_matrix_test)\n",
        "np.save(os.path.join(root_path, 'confusion_matrix_train.npy'), confusion_matrix_test)"
      ],
      "metadata": {
        "id": "tHvAym_A46WS"
      },
      "execution_count": null,
      "outputs": []
    },
    {
      "cell_type": "markdown",
      "source": [
        "# *FaceNet* pre-trained on vggface2"
      ],
      "metadata": {
        "id": "vFe17wZdIdOl"
      }
    },
    {
      "cell_type": "code",
      "source": [
        "root_path = os.path.join(drive_dir, \"architectures\", 'FaceNet')\n",
        "os.makedirs(root_path, exist_ok=True)\n",
        "os.makedirs(os.path.join(root_path, 'intermediate_checkpoints'), exist_ok=True)\n",
        "print(root_path)\n",
        "IMAGE_SHAPE = (3, 160, 160)"
      ],
      "metadata": {
        "colab": {
          "base_uri": "https://localhost:8080/"
        },
        "id": "f4QYYk2JJjSH",
        "outputId": "d281fb5a-02c8-40df-f47b-f7fad0f0ee80"
      },
      "execution_count": null,
      "outputs": [
        {
          "output_type": "stream",
          "name": "stdout",
          "text": [
            "/content/drive/MyDrive/architectures/FaceNet\n"
          ]
        }
      ]
    },
    {
      "cell_type": "code",
      "source": [
        "from facenet_pytorch import MTCNN, InceptionResnetV1, fixed_image_standardization, training\n",
        "batch_size = 128\n",
        "max_learning_rate = 0.001\n",
        "weight_decay = 1e-4\n",
        "epochs = 50\n",
        "\n",
        "transform_train = transforms.Compose([\n",
        "    transforms.RandAugment(2, 22),\n",
        "    RandomBoundingBoxJitter(0.45),\n",
        "    transforms.RandomHorizontalFlip(p=0.5),\n",
        "    transforms.ToTensor(),\n",
        "    transforms.Normalize((0.485, 0.456, 0.406), (0.229, 0.224, 0.225)),\n",
        "])\n",
        "\n",
        "# Normalize the test set same as training set without augmentation\n",
        "transform_test = transforms.Compose([\n",
        "    transforms.ToTensor(),\n",
        "    transforms.Normalize((0.485, 0.456, 0.406), (0.229, 0.224, 0.225)),\n",
        "])\n",
        "\n",
        "trainset = AgeDataset(\n",
        "    image_paths=X_train,\n",
        "    labels=y_train,\n",
        "    resize=IMAGE_SHAPE,\n",
        "    augmentations=transform_train,\n",
        ")\n",
        "\n",
        "testset = AgeDataset(\n",
        "    image_paths=X_test,\n",
        "    labels=y_test,\n",
        "    resize=IMAGE_SHAPE,\n",
        "    augmentations=transform_test,\n",
        ")\n",
        "\n",
        "# dataloaders - creating batches and shuffling the data\n",
        "trainloader = torch.utils.data.DataLoader(\n",
        "    trainset, batch_size=batch_size, shuffle=True, num_workers=2)\n",
        "testloader = torch.utils.data.DataLoader(\n",
        "    testset, batch_size=batch_size, shuffle=False, num_workers=2)\n",
        "\n",
        "# device - cpu or gpu?\n",
        "device = torch.device(\"cuda:0\" if torch.cuda.is_available() else \"cpu\")\n",
        "\n",
        "# loss criterion\n",
        "criterion = nn.CrossEntropyLoss()\n",
        "\n",
        "# model\n",
        "model = InceptionResnetV1(\n",
        "    classify=True,\n",
        "    pretrained='vggface2',\n",
        "    num_classes=len(classes)).to(device)\n",
        "\n",
        "# optimizer and scheduler\n",
        "optimizer = torch.optim.Adam(model.parameters(), lr=max_learning_rate)\n",
        "scheduler = OneCycleLR(optimizer, max_lr=max_learning_rate, epochs=epochs, steps_per_epoch=len(trainloader))\n",
        "\n",
        "\n"
      ],
      "metadata": {
        "id": "ASi4hb71Ig4Y"
      },
      "execution_count": null,
      "outputs": []
    },
    {
      "cell_type": "code",
      "source": [
        "# training loop\n",
        "loss_list = []\n",
        "train_acc_list = []\n",
        "test_acc_list = []\n",
        "\n",
        "for epoch in range(1, epochs + 1):\n",
        "    model.train()  # put in training mode\n",
        "    running_loss = 0.0\n",
        "    epoch_time = time.time()\n",
        "    for i, data in enumerate(trainloader, 0):\n",
        "        # get the inputs\n",
        "        inputs, labels = data\n",
        "        # send them to device\n",
        "        inputs = inputs.to(device)\n",
        "        labels = labels.to(device)\n",
        "\n",
        "        # forward + backward + optimize\n",
        "        outputs = model(inputs)  # forward pass\n",
        "        loss = criterion(outputs, labels)  # calculate the loss\n",
        "        # always the same 3 steps\n",
        "        optimizer.zero_grad()  # zero the parameter gradients\n",
        "        loss.backward()  # backpropagation\n",
        "        optimizer.step()  # update parameters\n",
        "\n",
        "        # print statistics\n",
        "        running_loss += loss.data.item()\n",
        "\n",
        "    # Normalizing the loss by the total number of train batches\n",
        "    running_loss /= len(trainloader)\n",
        "\n",
        "    # Calculate training/test set accuracy of the existing model\n",
        "    train_accuracy, _ = calculate_accuracy(model, trainloader, device)\n",
        "    test_accuracy, _ = calculate_accuracy(model, testloader, device)\n",
        "\n",
        "    # append the losses\n",
        "    loss_list.append(running_loss)\n",
        "    train_acc_list.append(train_accuracy)\n",
        "    test_acc_list.append(test_accuracy)\n",
        "\n",
        "    # modify learning rate\n",
        "    scheduler.step()\n",
        "\n",
        "    # save every 5 models\n",
        "    # we comment because the model stopped before 20 epochs, so need to train for full 50\n",
        "    #if epoch % 5 == 0:\n",
        "     # print('==> Saving model ...')\n",
        "      #state = {\n",
        "       #   'net': model.state_dict(),\n",
        "        #  'epoch': epoch,\n",
        "      #}\n",
        "\n",
        "      #torch.save(state, os.path.join(root_path, 'intermediate_checkpoints', f'model_epoch_{epoch}.pth'))\n",
        "\n",
        "    # compute validation loss to check if we should stop\n",
        "    model.eval()  # switch to evaluation mode\n",
        "    test_loss = 0.0\n",
        "    total_test_samples = 0\n",
        "\n",
        "    with torch.no_grad():  # No need to compute gradients during validation\n",
        "      for data in testloader:\n",
        "        inputs, labels = data\n",
        "        inputs = inputs.to(device)\n",
        "        labels = labels.to(device)\n",
        "\n",
        "        # Forward pass\n",
        "        outputs = model(inputs)\n",
        "        loss = criterion(outputs, labels)\n",
        "\n",
        "        # Update validation loss and total samples\n",
        "        test_loss += loss.item() * inputs.size(0)\n",
        "        total_test_samples += inputs.size(0)\n",
        "\n",
        "    # Calculate average validation loss\n",
        "    test_loss /= total_test_samples\n",
        "\n",
        "    log = \"Epoch: {} | Training Loss: {:.4f} | Test Loss: {:.4f} | Training accuracy: {:.3f}% | Test accuracy: {:.3f}% | \".format(epoch, running_loss, test_loss, train_accuracy, test_accuracy)\n",
        "    epoch_time = time.time() - epoch_time\n",
        "    log += \"Epoch Time: {:.2f} secs\".format(epoch_time)\n",
        "    print(log)\n",
        "\n",
        "    state = {\n",
        "        'net': model.state_dict(),\n",
        "        'epoch': epoch,\n",
        "    }\n",
        "    torch.save(state, os.path.join(root_path, f'model_{epoch}.pth'))\n",
        "\n",
        "EXP_COUNTER += 1\n",
        "print('==> Finished Training ...')"
      ],
      "metadata": {
        "colab": {
          "base_uri": "https://localhost:8080/"
        },
        "id": "fbbECTu4JdTN",
        "outputId": "bddb470b-13fa-4c1d-a654-0a72caa6670c"
      },
      "execution_count": null,
      "outputs": [
        {
          "output_type": "stream",
          "name": "stdout",
          "text": [
            "Epoch: 1 | Training Loss: 1.4705 | Test Loss: 1.0218 | Training accuracy: 46.099% | Test accuracy: 56.321% | Epoch Time: 69.70 secs\n",
            "Epoch: 2 | Training Loss: 1.2822 | Test Loss: 1.0625 | Training accuracy: 49.372% | Test accuracy: 57.103% | Epoch Time: 69.67 secs\n",
            "Epoch: 3 | Training Loss: 1.2277 | Test Loss: 0.9964 | Training accuracy: 50.396% | Test accuracy: 58.909% | Epoch Time: 69.71 secs\n",
            "Epoch: 4 | Training Loss: 1.1887 | Test Loss: 0.9318 | Training accuracy: 52.304% | Test accuracy: 60.901% | Epoch Time: 68.81 secs\n",
            "Epoch: 5 | Training Loss: 1.1749 | Test Loss: 0.9494 | Training accuracy: 51.951% | Test accuracy: 60.398% | Epoch Time: 69.53 secs\n",
            "Epoch: 6 | Training Loss: 1.1403 | Test Loss: 0.9101 | Training accuracy: 53.426% | Test accuracy: 61.962% | Epoch Time: 69.51 secs\n",
            "Epoch: 7 | Training Loss: 1.1313 | Test Loss: 0.9291 | Training accuracy: 53.361% | Test accuracy: 59.877% | Epoch Time: 69.02 secs\n",
            "Epoch: 8 | Training Loss: 1.1137 | Test Loss: 0.9102 | Training accuracy: 54.367% | Test accuracy: 61.571% | Epoch Time: 68.66 secs\n",
            "Epoch: 9 | Training Loss: 1.0971 | Test Loss: 0.9162 | Training accuracy: 55.112% | Test accuracy: 62.316% | Epoch Time: 69.34 secs\n",
            "Epoch: 10 | Training Loss: 1.0914 | Test Loss: 0.9012 | Training accuracy: 54.558% | Test accuracy: 60.864% | Epoch Time: 68.81 secs\n",
            "Epoch: 11 | Training Loss: 1.0893 | Test Loss: 0.8955 | Training accuracy: 55.740% | Test accuracy: 62.484% | Epoch Time: 69.48 secs\n",
            "Epoch: 12 | Training Loss: 1.0820 | Test Loss: 0.8929 | Training accuracy: 54.432% | Test accuracy: 62.167% | Epoch Time: 68.91 secs\n",
            "Epoch: 13 | Training Loss: 1.0673 | Test Loss: 0.8961 | Training accuracy: 55.726% | Test accuracy: 62.409% | Epoch Time: 69.08 secs\n",
            "Epoch: 14 | Training Loss: 1.0613 | Test Loss: 0.9021 | Training accuracy: 55.680% | Test accuracy: 62.279% | Epoch Time: 69.34 secs\n",
            "Epoch: 15 | Training Loss: 1.0456 | Test Loss: 0.9392 | Training accuracy: 56.676% | Test accuracy: 62.130% | Epoch Time: 69.34 secs\n",
            "Epoch: 16 | Training Loss: 1.0527 | Test Loss: 0.9441 | Training accuracy: 55.722% | Test accuracy: 60.417% | Epoch Time: 69.41 secs\n",
            "Epoch: 17 | Training Loss: 1.0419 | Test Loss: 0.9333 | Training accuracy: 56.429% | Test accuracy: 61.125% | Epoch Time: 68.83 secs\n",
            "Epoch: 18 | Training Loss: 1.0509 | Test Loss: 0.9647 | Training accuracy: 56.736% | Test accuracy: 61.050% | Epoch Time: 68.59 secs\n",
            "Epoch: 19 | Training Loss: 1.0188 | Test Loss: 0.8960 | Training accuracy: 57.253% | Test accuracy: 61.832% | Epoch Time: 69.06 secs\n",
            "Epoch: 20 | Training Loss: 1.0229 | Test Loss: 0.8801 | Training accuracy: 57.938% | Test accuracy: 61.795% | Epoch Time: 68.62 secs\n",
            "Epoch: 21 | Training Loss: 1.0131 | Test Loss: 0.8945 | Training accuracy: 57.682% | Test accuracy: 62.353% | Epoch Time: 69.67 secs\n",
            "Epoch: 22 | Training Loss: 1.0093 | Test Loss: 0.9123 | Training accuracy: 57.984% | Test accuracy: 61.609% | Epoch Time: 68.80 secs\n",
            "Epoch: 23 | Training Loss: 0.9937 | Test Loss: 0.9191 | Training accuracy: 58.734% | Test accuracy: 61.739% | Epoch Time: 69.08 secs\n",
            "Epoch: 24 | Training Loss: 0.9931 | Test Loss: 0.9168 | Training accuracy: 59.427% | Test accuracy: 62.018% | Epoch Time: 69.39 secs\n",
            "Epoch: 25 | Training Loss: 0.9939 | Test Loss: 0.9020 | Training accuracy: 58.827% | Test accuracy: 61.869% | Epoch Time: 68.92 secs\n",
            "Epoch: 26 | Training Loss: 1.0038 | Test Loss: 0.8977 | Training accuracy: 58.701% | Test accuracy: 62.037% | Epoch Time: 69.82 secs\n",
            "Epoch: 27 | Training Loss: 0.9990 | Test Loss: 0.9169 | Training accuracy: 58.538% | Test accuracy: 61.534% | Epoch Time: 69.04 secs\n",
            "Epoch: 28 | Training Loss: 0.9837 | Test Loss: 0.9153 | Training accuracy: 59.842% | Test accuracy: 62.279% | Epoch Time: 69.62 secs\n",
            "Epoch: 29 | Training Loss: 0.9796 | Test Loss: 0.9313 | Training accuracy: 59.842% | Test accuracy: 61.907% | Epoch Time: 68.56 secs\n",
            "Epoch: 30 | Training Loss: 0.9782 | Test Loss: 0.8958 | Training accuracy: 59.702% | Test accuracy: 62.893% | Epoch Time: 68.47 secs\n",
            "Epoch: 31 | Training Loss: 0.9582 | Test Loss: 0.8984 | Training accuracy: 59.530% | Test accuracy: 63.005% | Epoch Time: 68.60 secs\n",
            "Epoch: 32 | Training Loss: 0.9559 | Test Loss: 0.9196 | Training accuracy: 59.674% | Test accuracy: 62.204% | Epoch Time: 69.27 secs\n",
            "Epoch: 33 | Training Loss: 0.9601 | Test Loss: 0.9210 | Training accuracy: 60.247% | Test accuracy: 62.744% | Epoch Time: 69.27 secs\n",
            "Epoch: 34 | Training Loss: 0.9518 | Test Loss: 0.9402 | Training accuracy: 60.410% | Test accuracy: 62.149% | Epoch Time: 69.46 secs\n",
            "Epoch: 35 | Training Loss: 0.9482 | Test Loss: 0.9223 | Training accuracy: 60.968% | Test accuracy: 62.782% | Epoch Time: 68.94 secs\n",
            "Epoch: 36 | Training Loss: 0.9403 | Test Loss: 0.9276 | Training accuracy: 61.071% | Test accuracy: 62.800% | Epoch Time: 69.06 secs\n",
            "Epoch: 37 | Training Loss: 0.9377 | Test Loss: 0.9185 | Training accuracy: 61.401% | Test accuracy: 62.819% | Epoch Time: 68.96 secs\n",
            "Epoch: 38 | Training Loss: 0.9379 | Test Loss: 0.8930 | Training accuracy: 61.918% | Test accuracy: 63.173% | Epoch Time: 69.07 secs\n",
            "Epoch: 39 | Training Loss: 0.9291 | Test Loss: 0.9641 | Training accuracy: 60.433% | Test accuracy: 61.553% | Epoch Time: 69.01 secs\n",
            "Epoch: 40 | Training Loss: 0.9339 | Test Loss: 0.9612 | Training accuracy: 61.508% | Test accuracy: 62.223% | Epoch Time: 69.16 secs\n",
            "Epoch: 41 | Training Loss: 0.9240 | Test Loss: 0.9691 | Training accuracy: 61.420% | Test accuracy: 62.279% | Epoch Time: 69.25 secs\n",
            "Epoch: 42 | Training Loss: 0.9267 | Test Loss: 0.8981 | Training accuracy: 62.137% | Test accuracy: 63.973% | Epoch Time: 68.93 secs\n",
            "Epoch: 43 | Training Loss: 0.9119 | Test Loss: 0.9722 | Training accuracy: 62.514% | Test accuracy: 61.813% | Epoch Time: 69.50 secs\n",
            "Epoch: 44 | Training Loss: 0.9146 | Test Loss: 0.9648 | Training accuracy: 62.221% | Test accuracy: 61.348% | Epoch Time: 70.13 secs\n",
            "Epoch: 45 | Training Loss: 0.9085 | Test Loss: 0.9222 | Training accuracy: 62.975% | Test accuracy: 62.968% | Epoch Time: 68.80 secs\n",
            "Epoch: 46 | Training Loss: 0.8986 | Test Loss: 1.0223 | Training accuracy: 61.867% | Test accuracy: 61.907% | Epoch Time: 68.83 secs\n",
            "Epoch: 47 | Training Loss: 0.9060 | Test Loss: 0.9695 | Training accuracy: 63.333% | Test accuracy: 62.837% | Epoch Time: 68.98 secs\n",
            "Epoch: 48 | Training Loss: 0.8952 | Test Loss: 1.0331 | Training accuracy: 62.542% | Test accuracy: 62.093% | Epoch Time: 69.33 secs\n",
            "Epoch: 49 | Training Loss: 0.9041 | Test Loss: 0.9792 | Training accuracy: 61.969% | Test accuracy: 61.534% | Epoch Time: 69.21 secs\n",
            "Epoch: 50 | Training Loss: 0.8869 | Test Loss: 0.9996 | Training accuracy: 64.013% | Test accuracy: 62.465% | Epoch Time: 69.88 secs\n",
            "==> Finished Training ...\n"
          ]
        }
      ]
    },
    {
      "cell_type": "code",
      "source": [
        "# Plot and label the training and validation loss values\n",
        "print(len(train_acc_list))\n",
        "epochs_list = list(range(epochs))\n",
        "plt.plot(epochs_list[:len(train_acc_list)], train_acc_list, label='Training acc')\n",
        "plt.plot(epochs_list[:len(train_acc_list)], test_acc_list, label='Validation acc')\n",
        "\n",
        "# Add in a title and axes labels\n",
        "plt.title('Training and Validation Loss')\n",
        "plt.xlabel('Epochs')\n",
        "plt.ylabel('Loss')\n",
        "\n",
        "# Set the tick locations\n",
        "plt.xticks(np.arange(0, len(train_acc_list), 2))\n",
        "\n",
        "# Display the plot\n",
        "plt.legend(loc='best')\n",
        "plt.savefig(os.path.join(root_path, \"loss_plot.png\"))\n",
        "plt.show()"
      ],
      "metadata": {
        "colab": {
          "base_uri": "https://localhost:8080/",
          "height": 489
        },
        "id": "aKmpN43AgVON",
        "outputId": "051fbd7c-ebd5-4af2-c8db-f9795904d512"
      },
      "execution_count": null,
      "outputs": [
        {
          "output_type": "stream",
          "name": "stdout",
          "text": [
            "50\n"
          ]
        },
        {
          "output_type": "display_data",
          "data": {
            "text/plain": [
              "<Figure size 640x480 with 1 Axes>"
            ],
            "image/png": "[encoded data removed]"
          },
          "metadata": {}
        }
      ]
    },
    {
      "cell_type": "code",
      "source": [
        "# Epoch: 42 | Training Loss: 0.9267 | Test Loss: 0.8981 | Training accuracy: 62.137% | Test accuracy: 63.973% | Epoch Time: 68.93 secs\n",
        "\n",
        "best_model = InceptionResnetV1(\n",
        "    classify=True,\n",
        "    pretrained='vggface2',\n",
        "    num_classes=len(classes)).to(device)\n",
        "\n",
        "# Load the saved model state dictionary\n",
        "checkpoint = torch.load(os.path.join(root_path, 'model_42.pth'))\n",
        "\n",
        "# Load the model state dictionary\n",
        "best_model.load_state_dict(checkpoint['net'])\n",
        "best_model.to(device)\n",
        "\n",
        "transform_testing_purposes = transforms.Compose([\n",
        "    transforms.ToTensor(),\n",
        "    transforms.Normalize((0.485, 0.456, 0.406), (0.229, 0.224, 0.225)),\n",
        "])\n",
        "\n",
        "trainset = AgeDataset(\n",
        "    image_paths=X_train,\n",
        "    labels=y_train,\n",
        "    resize=IMAGE_SHAPE,\n",
        "    augmentations=transform_testing_purposes,\n",
        ")\n",
        "\n",
        "testset = AgeDataset(\n",
        "    image_paths=X_test,\n",
        "    labels=y_test,\n",
        "    resize=IMAGE_SHAPE,\n",
        "    augmentations=transform_testing_purposes,\n",
        ")\n",
        "\n",
        "# Create a DataLoader for the training set without data augmentation\n",
        "trainloader_no_aug = torch.utils.data.DataLoader(\n",
        "    trainset, batch_size=batch_size, shuffle=False, num_workers=2)\n",
        "testloader_for_testing = torch.utils.data.DataLoader(\n",
        "    testset, batch_size=batch_size, shuffle=False, num_workers=2)\n",
        "\n",
        "no_aug_train_acc, confusion_matrix_train = calculate_accuracy(best_model, trainloader_no_aug, device)\n",
        "test_acc, confusion_matrix_test = calculate_accuracy(best_model, testloader_for_testing, device)\n",
        "\n",
        "print(f\"Accuracy on Training Set: {no_aug_train_acc}%\")\n",
        "print(f\"Accuracy on Test Set: {test_acc}%\")"
      ],
      "metadata": {
        "colab": {
          "base_uri": "https://localhost:8080/"
        },
        "id": "ucYVAklhgdW6",
        "outputId": "3233b67b-e208-464d-87f6-6bc9f7c033d2"
      },
      "execution_count": null,
      "outputs": [
        {
          "output_type": "stream",
          "name": "stdout",
          "text": [
            "Accuracy on Training Set: 79.78584729981378%\n",
            "Accuracy on Test Set: 63.97318935021411%\n"
          ]
        }
      ]
    },
    {
      "cell_type": "code",
      "source": [
        "np.save(os.path.join(root_path, 'confusion_matrix_test.npy'), confusion_matrix_test)\n",
        "np.save(os.path.join(root_path, 'confusion_matrix_train.npy'), confusion_matrix_test)"
      ],
      "metadata": {
        "id": "VLDgtVuOhG0s"
      },
      "execution_count": null,
      "outputs": []
    },
    {
      "cell_type": "markdown",
      "source": [
        "# FaceNet on CasiaFace"
      ],
      "metadata": {
        "id": "ynteDpiehW22"
      }
    },
    {
      "cell_type": "code",
      "source": [
        "root_path = os.path.join(drive_dir, \"architectures\", 'FaceNet_Casia')\n",
        "os.makedirs(root_path, exist_ok=True)\n",
        "os.makedirs(os.path.join(root_path, 'intermediate_checkpoints'), exist_ok=True)\n",
        "print(root_path)\n",
        "IMAGE_SHAPE = (3, 160, 160)"
      ],
      "metadata": {
        "colab": {
          "base_uri": "https://localhost:8080/"
        },
        "id": "7UJ4lqx1hYzi",
        "outputId": "14d3fd53-0a18-4199-8ca4-a7c73efe2869"
      },
      "execution_count": null,
      "outputs": [
        {
          "output_type": "stream",
          "name": "stdout",
          "text": [
            "/content/drive/MyDrive/architectures/FaceNet_Casia\n"
          ]
        }
      ]
    },
    {
      "cell_type": "code",
      "source": [
        "from facenet_pytorch import MTCNN, InceptionResnetV1, fixed_image_standardization, training\n",
        "batch_size = 128\n",
        "max_learning_rate = 0.001\n",
        "weight_decay = 1e-4\n",
        "epochs = 50\n",
        "\n",
        "transform_train = transforms.Compose([\n",
        "    transforms.RandAugment(2, 22),\n",
        "    RandomBoundingBoxJitter(0.45),\n",
        "    transforms.RandomHorizontalFlip(p=0.5),\n",
        "    transforms.ToTensor(),\n",
        "    transforms.Normalize((0.485, 0.456, 0.406), (0.229, 0.224, 0.225)),\n",
        "])\n",
        "\n",
        "# Normalize the test set same as training set without augmentation\n",
        "transform_test = transforms.Compose([\n",
        "    transforms.ToTensor(),\n",
        "    transforms.Normalize((0.485, 0.456, 0.406), (0.229, 0.224, 0.225)),\n",
        "])\n",
        "\n",
        "trainset = AgeDataset(\n",
        "    image_paths=X_train,\n",
        "    labels=y_train,\n",
        "    resize=IMAGE_SHAPE,\n",
        "    augmentations=transform_train,\n",
        ")\n",
        "\n",
        "testset = AgeDataset(\n",
        "    image_paths=X_test,\n",
        "    labels=y_test,\n",
        "    resize=IMAGE_SHAPE,\n",
        "    augmentations=transform_test,\n",
        ")\n",
        "\n",
        "# dataloaders - creating batches and shuffling the data\n",
        "trainloader = torch.utils.data.DataLoader(\n",
        "    trainset, batch_size=batch_size, shuffle=True, num_workers=2)\n",
        "testloader = torch.utils.data.DataLoader(\n",
        "    testset, batch_size=batch_size, shuffle=False, num_workers=2)\n",
        "\n",
        "# device - cpu or gpu?\n",
        "device = torch.device(\"cuda:0\" if torch.cuda.is_available() else \"cpu\")\n",
        "\n",
        "# loss criterion\n",
        "criterion = nn.CrossEntropyLoss()\n",
        "\n",
        "# model\n",
        "model = InceptionResnetV1(\n",
        "    classify=True,\n",
        "    pretrained='casia-webface',\n",
        "    num_classes=len(classes)).to(device)\n",
        "\n",
        "# optimizer and scheduler\n",
        "optimizer = torch.optim.Adam(model.parameters(), lr=max_learning_rate)\n",
        "scheduler = OneCycleLR(optimizer, max_lr=max_learning_rate, epochs=epochs, steps_per_epoch=len(trainloader))"
      ],
      "metadata": {
        "colab": {
          "base_uri": "https://localhost:8080/",
          "height": 49,
          "referenced_widgets": [
            "8e9ec4a49a8a4311892ee55a8070f93f",
            "1fde302fba504023befba5a1bbca4084",
            "f3d38f3c9d704fe0b7f00b80846e0099",
            "dbc61ae8481449b4ace28277a59e720e",
            "51873941e2d44295b80cf46813eae564",
            "641071bdaa7c4694b7cbc9ec6defc186",
            "7774f54422864ed682adef7becda8ca6",
            "cbe99a706e4041d8b9dace651e34eed4",
            "ff74f0ad68a446109b7fbc22cff04d42",
            "2a3524f2839c468ba19de4b5e5c063fa",
            "8abaa4e667d04ffabba19e858e539aa9"
          ]
        },
        "id": "IP-t5Zq6heSI",
        "outputId": "049fe207-94b1-44cb-f817-1dfc0a0b56c5"
      },
      "execution_count": null,
      "outputs": [
        {
          "output_type": "display_data",
          "data": {
            "text/plain": [
              "  0%|          | 0.00/111M [00:00<?, ?B/s]"
            ],
            "application/vnd.jupyter.widget-view+json": {
              "version_major": 2,
              "version_minor": 0,
              "model_id": "8e9ec4a49a8a4311892ee55a8070f93f"
            }
          },
          "metadata": {}
        }
      ]
    },
    {
      "cell_type": "code",
      "source": [
        "# training loop\n",
        "loss_list = []\n",
        "train_acc_list = []\n",
        "test_acc_list = []\n",
        "\n",
        "for epoch in range(1, epochs + 1):\n",
        "    model.train()  # put in training mode\n",
        "    running_loss = 0.0\n",
        "    epoch_time = time.time()\n",
        "    for i, data in enumerate(trainloader, 0):\n",
        "        # get the inputs\n",
        "        inputs, labels = data\n",
        "        # send them to device\n",
        "        inputs = inputs.to(device)\n",
        "        labels = labels.to(device)\n",
        "\n",
        "        # forward + backward + optimize\n",
        "        outputs = model(inputs)  # forward pass\n",
        "        loss = criterion(outputs, labels)  # calculate the loss\n",
        "        # always the same 3 steps\n",
        "        optimizer.zero_grad()  # zero the parameter gradients\n",
        "        loss.backward()  # backpropagation\n",
        "        optimizer.step()  # update parameters\n",
        "\n",
        "        # print statistics\n",
        "        running_loss += loss.data.item()\n",
        "\n",
        "    # Normalizing the loss by the total number of train batches\n",
        "    running_loss /= len(trainloader)\n",
        "\n",
        "    # Calculate training/test set accuracy of the existing model\n",
        "    train_accuracy, _ = calculate_accuracy(model, trainloader, device)\n",
        "    test_accuracy, _ = calculate_accuracy(model, testloader, device)\n",
        "\n",
        "    # append the losses\n",
        "    loss_list.append(running_loss)\n",
        "    train_acc_list.append(train_accuracy)\n",
        "    test_acc_list.append(test_accuracy)\n",
        "\n",
        "    # modify learning rate\n",
        "    scheduler.step()\n",
        "\n",
        "    # save every 5 models\n",
        "    #if epoch % 5 == 0:\n",
        "     # print('==> Saving model ...')\n",
        "      #state = {\n",
        "       #   'net': model.state_dict(),\n",
        "        #  'epoch': epoch,\n",
        "      #}\n",
        "\n",
        "      #torch.save(state, os.path.join(root_path, 'intermediate_checkpoints', f'model_epoch_{epoch}.pth'))\n",
        "\n",
        "    # compute validation loss to check if we should stop\n",
        "    model.eval()  # switch to evaluation mode\n",
        "    test_loss = 0.0\n",
        "    total_test_samples = 0\n",
        "\n",
        "    with torch.no_grad():  # No need to compute gradients during validation\n",
        "      for data in testloader:\n",
        "        inputs, labels = data\n",
        "        inputs = inputs.to(device)\n",
        "        labels = labels.to(device)\n",
        "\n",
        "        # Forward pass\n",
        "        outputs = model(inputs)\n",
        "        loss = criterion(outputs, labels)\n",
        "\n",
        "        # Update validation loss and total samples\n",
        "        test_loss += loss.item() * inputs.size(0)\n",
        "        total_test_samples += inputs.size(0)\n",
        "\n",
        "    # Calculate average validation loss\n",
        "    test_loss /= total_test_samples\n",
        "\n",
        "    log = \"Epoch: {} | Training Loss: {:.4f} | Test Loss: {:.4f} | Training accuracy: {:.3f}% | Test accuracy: {:.3f}% | \".format(epoch, running_loss, test_loss, train_accuracy, test_accuracy)\n",
        "    epoch_time = time.time() - epoch_time\n",
        "    log += \"Epoch Time: {:.2f} secs\".format(epoch_time)\n",
        "    print(log)\n",
        "\n",
        "    state = {\n",
        "        'net': model.state_dict(),\n",
        "        'epoch': epoch,\n",
        "    }\n",
        "    torch.save(state, os.path.join(root_path, f'model_{epoch}.pth'))\n",
        "\n",
        "EXP_COUNTER += 1\n",
        "print('==> Finished Training ...')"
      ],
      "metadata": {
        "colab": {
          "base_uri": "https://localhost:8080/"
        },
        "id": "9_XcH-mjhkRW",
        "outputId": "e9d2bd18-dda7-4e64-beea-588a4e774efb"
      },
      "execution_count": null,
      "outputs": [
        {
          "output_type": "stream",
          "name": "stdout",
          "text": [
            "Epoch: 1 | Training Loss: 1.5721 | Test Loss: 1.1666 | Training accuracy: 44.972% | Test accuracy: 53.416% | Epoch Time: 69.70 secs\n",
            "Epoch: 2 | Training Loss: 1.3598 | Test Loss: 1.0350 | Training accuracy: 47.118% | Test accuracy: 57.159% | Epoch Time: 69.43 secs\n",
            "Epoch: 3 | Training Loss: 1.2954 | Test Loss: 1.0146 | Training accuracy: 48.873% | Test accuracy: 58.406% | Epoch Time: 69.06 secs\n",
            "Epoch: 4 | Training Loss: 1.2523 | Test Loss: 0.9877 | Training accuracy: 49.781% | Test accuracy: 58.350% | Epoch Time: 69.65 secs\n",
            "Epoch: 5 | Training Loss: 1.2285 | Test Loss: 0.9891 | Training accuracy: 50.112% | Test accuracy: 58.146% | Epoch Time: 68.20 secs\n",
            "Epoch: 6 | Training Loss: 1.2201 | Test Loss: 0.9835 | Training accuracy: 50.051% | Test accuracy: 59.542% | Epoch Time: 65.47 secs\n",
            "Epoch: 7 | Training Loss: 1.1911 | Test Loss: 0.9951 | Training accuracy: 50.386% | Test accuracy: 58.443% | Epoch Time: 65.89 secs\n",
            "Epoch: 8 | Training Loss: 1.1781 | Test Loss: 0.9404 | Training accuracy: 52.007% | Test accuracy: 60.231% | Epoch Time: 66.37 secs\n",
            "Epoch: 9 | Training Loss: 1.1485 | Test Loss: 0.9310 | Training accuracy: 52.314% | Test accuracy: 59.914% | Epoch Time: 66.00 secs\n",
            "Epoch: 10 | Training Loss: 1.1529 | Test Loss: 0.9481 | Training accuracy: 52.342% | Test accuracy: 60.119% | Epoch Time: 65.62 secs\n",
            "Epoch: 11 | Training Loss: 1.1476 | Test Loss: 0.9206 | Training accuracy: 53.426% | Test accuracy: 60.492% | Epoch Time: 65.93 secs\n",
            "Epoch: 12 | Training Loss: 1.1177 | Test Loss: 0.8996 | Training accuracy: 54.171% | Test accuracy: 60.678% | Epoch Time: 65.83 secs\n",
            "Epoch: 13 | Training Loss: 1.1166 | Test Loss: 0.9770 | Training accuracy: 53.729% | Test accuracy: 59.635% | Epoch Time: 66.46 secs\n",
            "Epoch: 14 | Training Loss: 1.1125 | Test Loss: 0.9375 | Training accuracy: 53.613% | Test accuracy: 60.138% | Epoch Time: 65.96 secs\n",
            "Epoch: 15 | Training Loss: 1.1051 | Test Loss: 0.9048 | Training accuracy: 54.036% | Test accuracy: 60.473% | Epoch Time: 66.22 secs\n",
            "Epoch: 16 | Training Loss: 1.0975 | Test Loss: 0.8971 | Training accuracy: 54.199% | Test accuracy: 60.417% | Epoch Time: 66.02 secs\n",
            "Epoch: 17 | Training Loss: 1.0909 | Test Loss: 0.9072 | Training accuracy: 54.958% | Test accuracy: 61.087% | Epoch Time: 66.10 secs\n",
            "Epoch: 18 | Training Loss: 1.0819 | Test Loss: 0.9070 | Training accuracy: 54.888% | Test accuracy: 61.125% | Epoch Time: 66.23 secs\n",
            "Epoch: 19 | Training Loss: 1.0761 | Test Loss: 0.8964 | Training accuracy: 54.935% | Test accuracy: 61.851% | Epoch Time: 66.42 secs\n",
            "Epoch: 20 | Training Loss: 1.0736 | Test Loss: 0.8873 | Training accuracy: 55.484% | Test accuracy: 61.739% | Epoch Time: 65.93 secs\n",
            "Epoch: 21 | Training Loss: 1.0678 | Test Loss: 0.8988 | Training accuracy: 55.554% | Test accuracy: 61.478% | Epoch Time: 66.36 secs\n",
            "Epoch: 22 | Training Loss: 1.0687 | Test Loss: 0.8883 | Training accuracy: 56.117% | Test accuracy: 61.720% | Epoch Time: 66.36 secs\n",
            "Epoch: 23 | Training Loss: 1.0633 | Test Loss: 0.9000 | Training accuracy: 56.350% | Test accuracy: 61.274% | Epoch Time: 66.09 secs\n",
            "Epoch: 24 | Training Loss: 1.0577 | Test Loss: 0.8953 | Training accuracy: 55.722% | Test accuracy: 61.460% | Epoch Time: 66.43 secs\n",
            "Epoch: 25 | Training Loss: 1.0485 | Test Loss: 0.9174 | Training accuracy: 55.242% | Test accuracy: 61.441% | Epoch Time: 66.73 secs\n",
            "Epoch: 26 | Training Loss: 1.0503 | Test Loss: 0.8951 | Training accuracy: 56.848% | Test accuracy: 61.907% | Epoch Time: 66.46 secs\n",
            "Epoch: 27 | Training Loss: 1.0445 | Test Loss: 0.8896 | Training accuracy: 57.109% | Test accuracy: 61.664% | Epoch Time: 66.45 secs\n",
            "Epoch: 28 | Training Loss: 1.0396 | Test Loss: 0.9604 | Training accuracy: 56.629% | Test accuracy: 60.417% | Epoch Time: 66.24 secs\n",
            "Epoch: 29 | Training Loss: 1.0234 | Test Loss: 0.8878 | Training accuracy: 57.533% | Test accuracy: 62.409% | Epoch Time: 66.23 secs\n",
            "Epoch: 30 | Training Loss: 1.0319 | Test Loss: 0.9254 | Training accuracy: 56.331% | Test accuracy: 61.497% | Epoch Time: 66.23 secs\n",
            "Epoch: 31 | Training Loss: 1.0331 | Test Loss: 0.9118 | Training accuracy: 57.565% | Test accuracy: 62.111% | Epoch Time: 66.64 secs\n",
            "Epoch: 32 | Training Loss: 1.0234 | Test Loss: 0.8906 | Training accuracy: 57.984% | Test accuracy: 61.516% | Epoch Time: 66.04 secs\n",
            "Epoch: 33 | Training Loss: 1.0225 | Test Loss: 0.9066 | Training accuracy: 57.379% | Test accuracy: 61.869% | Epoch Time: 66.23 secs\n",
            "Epoch: 34 | Training Loss: 1.0161 | Test Loss: 0.8916 | Training accuracy: 57.807% | Test accuracy: 62.130% | Epoch Time: 66.33 secs\n",
            "Epoch: 35 | Training Loss: 1.0016 | Test Loss: 0.8934 | Training accuracy: 58.138% | Test accuracy: 61.795% | Epoch Time: 66.68 secs\n",
            "Epoch: 36 | Training Loss: 1.0056 | Test Loss: 0.8933 | Training accuracy: 57.779% | Test accuracy: 61.106% | Epoch Time: 66.36 secs\n",
            "Epoch: 37 | Training Loss: 1.0036 | Test Loss: 0.9144 | Training accuracy: 58.245% | Test accuracy: 62.465% | Epoch Time: 66.51 secs\n",
            "Epoch: 38 | Training Loss: 0.9956 | Test Loss: 0.9041 | Training accuracy: 59.120% | Test accuracy: 61.348% | Epoch Time: 66.77 secs\n",
            "Epoch: 39 | Training Loss: 0.9987 | Test Loss: 0.8878 | Training accuracy: 58.957% | Test accuracy: 61.962% | Epoch Time: 66.35 secs\n",
            "Epoch: 40 | Training Loss: 0.9947 | Test Loss: 0.8843 | Training accuracy: 58.920% | Test accuracy: 62.651% | Epoch Time: 66.28 secs\n",
            "Epoch: 41 | Training Loss: 0.9738 | Test Loss: 0.9043 | Training accuracy: 59.032% | Test accuracy: 61.255% | Epoch Time: 66.24 secs\n",
            "Epoch: 42 | Training Loss: 0.9803 | Test Loss: 0.9053 | Training accuracy: 59.576% | Test accuracy: 61.758% | Epoch Time: 66.11 secs\n",
            "Epoch: 43 | Training Loss: 0.9847 | Test Loss: 0.9221 | Training accuracy: 59.223% | Test accuracy: 61.143% | Epoch Time: 66.09 secs\n",
            "Epoch: 44 | Training Loss: 0.9671 | Test Loss: 0.9240 | Training accuracy: 59.595% | Test accuracy: 61.925% | Epoch Time: 66.50 secs\n",
            "Epoch: 45 | Training Loss: 0.9689 | Test Loss: 0.9150 | Training accuracy: 59.064% | Test accuracy: 62.074% | Epoch Time: 66.14 secs\n",
            "Epoch: 46 | Training Loss: 0.9677 | Test Loss: 0.9117 | Training accuracy: 59.753% | Test accuracy: 61.925% | Epoch Time: 66.45 secs\n",
            "Epoch: 47 | Training Loss: 0.9700 | Test Loss: 0.9184 | Training accuracy: 59.758% | Test accuracy: 61.013% | Epoch Time: 66.41 secs\n",
            "Epoch: 48 | Training Loss: 0.9625 | Test Loss: 0.9312 | Training accuracy: 60.112% | Test accuracy: 61.907% | Epoch Time: 66.45 secs\n",
            "Epoch: 49 | Training Loss: 0.9564 | Test Loss: 0.9572 | Training accuracy: 60.307% | Test accuracy: 61.385% | Epoch Time: 66.13 secs\n",
            "Epoch: 50 | Training Loss: 0.9594 | Test Loss: 0.9593 | Training accuracy: 59.939% | Test accuracy: 60.361% | Epoch Time: 66.11 secs\n",
            "==> Finished Training ...\n"
          ]
        }
      ]
    },
    {
      "cell_type": "code",
      "source": [
        "# Plot and label the training and validation loss values\n",
        "print(len(train_acc_list))\n",
        "epochs_list = list(range(epochs))\n",
        "plt.plot(epochs_list[:len(train_acc_list)], train_acc_list, label='Training acc')\n",
        "plt.plot(epochs_list[:len(train_acc_list)], test_acc_list, label='Validation acc')\n",
        "\n",
        "# Add in a title and axes labels\n",
        "plt.title('Training and Validation Loss')\n",
        "plt.xlabel('Epochs')\n",
        "plt.ylabel('Loss')\n",
        "\n",
        "# Set the tick locations\n",
        "plt.xticks(np.arange(0, len(train_acc_list), 2))\n",
        "\n",
        "# Display the plot\n",
        "plt.legend(loc='best')\n",
        "plt.savefig(os.path.join(root_path, \"loss_plot.png\"))\n",
        "plt.show()"
      ],
      "metadata": {
        "colab": {
          "base_uri": "https://localhost:8080/",
          "height": 489
        },
        "id": "E_-oAPR-k6N4",
        "outputId": "098d1f86-151d-444c-ff51-8de9ad48b7f2"
      },
      "execution_count": null,
      "outputs": [
        {
          "output_type": "stream",
          "name": "stdout",
          "text": [
            "50\n"
          ]
        },
        {
          "output_type": "display_data",
          "data": {
            "text/plain": [
              "<Figure size 640x480 with 1 Axes>"
            ],
            "image/png": "[encoded data removed]"
          },
          "metadata": {}
        }
      ]
    },
    {
      "cell_type": "code",
      "source": [
        "# Epoch: 40 | Training Loss: 0.9947 | Test Loss: 0.8843 | Training accuracy: 58.920% | Test accuracy: 62.651% | Epoch Time: 66.28 secs\n",
        "\n",
        "best_model = InceptionResnetV1(\n",
        "    classify=True,\n",
        "    pretrained='casia-webface',\n",
        "    num_classes=len(classes)).to(device)\n",
        "\n",
        "# Load the saved model state dictionary\n",
        "checkpoint = torch.load(os.path.join(root_path, 'model_40.pth'))\n",
        "\n",
        "# Load the model state dictionary\n",
        "best_model.load_state_dict(checkpoint['net'])\n",
        "best_model.to(device)\n",
        "\n",
        "transform_testing_purposes = transforms.Compose([\n",
        "    transforms.ToTensor(),\n",
        "    transforms.Normalize((0.485, 0.456, 0.406), (0.229, 0.224, 0.225)),\n",
        "])\n",
        "\n",
        "trainset = AgeDataset(\n",
        "    image_paths=X_train,\n",
        "    labels=y_train,\n",
        "    resize=IMAGE_SHAPE,\n",
        "    augmentations=transform_testing_purposes,\n",
        ")\n",
        "\n",
        "testset = AgeDataset(\n",
        "    image_paths=X_test,\n",
        "    labels=y_test,\n",
        "    resize=IMAGE_SHAPE,\n",
        "    augmentations=transform_testing_purposes,\n",
        ")\n",
        "\n",
        "# Create a DataLoader for the training set without data augmentation\n",
        "trainloader_no_aug = torch.utils.data.DataLoader(\n",
        "    trainset, batch_size=batch_size, shuffle=False, num_workers=2)\n",
        "testloader_for_testing = torch.utils.data.DataLoader(\n",
        "    testset, batch_size=batch_size, shuffle=False, num_workers=2)\n",
        "\n",
        "no_aug_train_acc, confusion_matrix_train = calculate_accuracy(best_model, trainloader_no_aug, device)\n",
        "test_acc, confusion_matrix_test = calculate_accuracy(best_model, testloader_for_testing, device)\n",
        "\n",
        "print(f\"Accuracy on Training Set: {no_aug_train_acc}%\")\n",
        "print(f\"Accuracy on Test Set: {test_acc}%\")"
      ],
      "metadata": {
        "colab": {
          "base_uri": "https://localhost:8080/"
        },
        "id": "Hg3qKUXDk-C6",
        "outputId": "d5df456c-2e9c-4c5c-f5bd-1ee1f86fcfe7"
      },
      "execution_count": null,
      "outputs": [
        {
          "output_type": "stream",
          "name": "stdout",
          "text": [
            "Accuracy on Training Set: 73.81284916201118%\n",
            "Accuracy on Test Set: 62.651275367715506%\n"
          ]
        }
      ]
    },
    {
      "cell_type": "code",
      "source": [
        "np.save(os.path.join(root_path, 'confusion_matrix_test.npy'), confusion_matrix_test)\n",
        "np.save(os.path.join(root_path, 'confusion_matrix_train.npy'), confusion_matrix_train)"
      ],
      "metadata": {
        "id": "JEVv-S-wu9Fg"
      },
      "execution_count": null,
      "outputs": []
    }
  ],
  "metadata": {
    "colab": {
      "provenance": [],
      "gpuType": "V100",
      "toc_visible": true
    },
    "kernelspec": {
      "display_name": "Python 3",
      "name": "python3"
    },
    "language_info": {
      "name": "python"
    },
    "widgets": {
      "application/vnd.jupyter.widget-state+json": {
        "8e9ec4a49a8a4311892ee55a8070f93f": {
          "model_module": "@jupyter-widgets/controls",
          "model_name": "HBoxModel",
          "model_module_version": "1.5.0",
          "state": {
            "_dom_classes": [],
            "_model_module": "@jupyter-widgets/controls",
            "_model_module_version": "1.5.0",
            "_model_name": "HBoxModel",
            "_view_count": null,
            "_view_module": "@jupyter-widgets/controls",
            "_view_module_version": "1.5.0",
            "_view_name": "HBoxView",
            "box_style": "",
            "children": [
              "IPY_MODEL_1fde302fba504023befba5a1bbca4084",
              "IPY_MODEL_f3d38f3c9d704fe0b7f00b80846e0099",
              "IPY_MODEL_dbc61ae8481449b4ace28277a59e720e"
            ],
            "layout": "IPY_MODEL_51873941e2d44295b80cf46813eae564"
          }
        },
        "1fde302fba504023befba5a1bbca4084": {
          "model_module": "@jupyter-widgets/controls",
          "model_name": "HTMLModel",
          "model_module_version": "1.5.0",
          "state": {
            "_dom_classes": [],
            "_model_module": "@jupyter-widgets/controls",
            "_model_module_version": "1.5.0",
            "_model_name": "HTMLModel",
            "_view_count": null,
            "_view_module": "@jupyter-widgets/controls",
            "_view_module_version": "1.5.0",
            "_view_name": "HTMLView",
            "description": "",
            "description_tooltip": null,
            "layout": "IPY_MODEL_641071bdaa7c4694b7cbc9ec6defc186",
            "placeholder": "​",
            "style": "IPY_MODEL_7774f54422864ed682adef7becda8ca6",
            "value": "100%"
          }
        },
        "f3d38f3c9d704fe0b7f00b80846e0099": {
          "model_module": "@jupyter-widgets/controls",
          "model_name": "FloatProgressModel",
          "model_module_version": "1.5.0",
          "state": {
            "_dom_classes": [],
            "_model_module": "@jupyter-widgets/controls",
            "_model_module_version": "1.5.0",
            "_model_name": "FloatProgressModel",
            "_view_count": null,
            "_view_module": "@jupyter-widgets/controls",
            "_view_module_version": "1.5.0",
            "_view_name": "ProgressView",
            "bar_style": "success",
            "description": "",
            "description_tooltip": null,
            "layout": "IPY_MODEL_cbe99a706e4041d8b9dace651e34eed4",
            "max": 115887415,
            "min": 0,
            "orientation": "horizontal",
            "style": "IPY_MODEL_ff74f0ad68a446109b7fbc22cff04d42",
            "value": 115887415
          }
        },
        "dbc61ae8481449b4ace28277a59e720e": {
          "model_module": "@jupyter-widgets/controls",
          "model_name": "HTMLModel",
          "model_module_version": "1.5.0",
          "state": {
            "_dom_classes": [],
            "_model_module": "@jupyter-widgets/controls",
            "_model_module_version": "1.5.0",
            "_model_name": "HTMLModel",
            "_view_count": null,
            "_view_module": "@jupyter-widgets/controls",
            "_view_module_version": "1.5.0",
            "_view_name": "HTMLView",
            "description": "",
            "description_tooltip": null,
            "layout": "IPY_MODEL_2a3524f2839c468ba19de4b5e5c063fa",
            "placeholder": "​",
            "style": "IPY_MODEL_8abaa4e667d04ffabba19e858e539aa9",
            "value": " 111M/111M [00:00&lt;00:00, 373MB/s]"
          }
        },
        "51873941e2d44295b80cf46813eae564": {
          "model_module": "@jupyter-widgets/base",
          "model_name": "LayoutModel",
          "model_module_version": "1.2.0",
          "state": {
            "_model_module": "@jupyter-widgets/base",
            "_model_module_version": "1.2.0",
            "_model_name": "LayoutModel",
            "_view_count": null,
            "_view_module": "@jupyter-widgets/base",
            "_view_module_version": "1.2.0",
            "_view_name": "LayoutView",
            "align_content": null,
            "align_items": null,
            "align_self": null,
            "border": null,
            "bottom": null,
            "display": null,
            "flex": null,
            "flex_flow": null,
            "grid_area": null,
            "grid_auto_columns": null,
            "grid_auto_flow": null,
            "grid_auto_rows": null,
            "grid_column": null,
            "grid_gap": null,
            "grid_row": null,
            "grid_template_areas": null,
            "grid_template_columns": null,
            "grid_template_rows": null,
            "height": null,
            "justify_content": null,
            "justify_items": null,
            "left": null,
            "margin": null,
            "max_height": null,
            "max_width": null,
            "min_height": null,
            "min_width": null,
            "object_fit": null,
            "object_position": null,
            "order": null,
            "overflow": null,
            "overflow_x": null,
            "overflow_y": null,
            "padding": null,
            "right": null,
            "top": null,
            "visibility": null,
            "width": null
          }
        },
        "641071bdaa7c4694b7cbc9ec6defc186": {
          "model_module": "@jupyter-widgets/base",
          "model_name": "LayoutModel",
          "model_module_version": "1.2.0",
          "state": {
            "_model_module": "@jupyter-widgets/base",
            "_model_module_version": "1.2.0",
            "_model_name": "LayoutModel",
            "_view_count": null,
            "_view_module": "@jupyter-widgets/base",
            "_view_module_version": "1.2.0",
            "_view_name": "LayoutView",
            "align_content": null,
            "align_items": null,
            "align_self": null,
            "border": null,
            "bottom": null,
            "display": null,
            "flex": null,
            "flex_flow": null,
            "grid_area": null,
            "grid_auto_columns": null,
            "grid_auto_flow": null,
            "grid_auto_rows": null,
            "grid_column": null,
            "grid_gap": null,
            "grid_row": null,
            "grid_template_areas": null,
            "grid_template_columns": null,
            "grid_template_rows": null,
            "height": null,
            "justify_content": null,
            "justify_items": null,
            "left": null,
            "margin": null,
            "max_height": null,
            "max_width": null,
            "min_height": null,
            "min_width": null,
            "object_fit": null,
            "object_position": null,
            "order": null,
            "overflow": null,
            "overflow_x": null,
            "overflow_y": null,
            "padding": null,
            "right": null,
            "top": null,
            "visibility": null,
            "width": null
          }
        },
        "7774f54422864ed682adef7becda8ca6": {
          "model_module": "@jupyter-widgets/controls",
          "model_name": "DescriptionStyleModel",
          "model_module_version": "1.5.0",
          "state": {
            "_model_module": "@jupyter-widgets/controls",
            "_model_module_version": "1.5.0",
            "_model_name": "DescriptionStyleModel",
            "_view_count": null,
            "_view_module": "@jupyter-widgets/base",
            "_view_module_version": "1.2.0",
            "_view_name": "StyleView",
            "description_width": ""
          }
        },
        "cbe99a706e4041d8b9dace651e34eed4": {
          "model_module": "@jupyter-widgets/base",
          "model_name": "LayoutModel",
          "model_module_version": "1.2.0",
          "state": {
            "_model_module": "@jupyter-widgets/base",
            "_model_module_version": "1.2.0",
            "_model_name": "LayoutModel",
            "_view_count": null,
            "_view_module": "@jupyter-widgets/base",
            "_view_module_version": "1.2.0",
            "_view_name": "LayoutView",
            "align_content": null,
            "align_items": null,
            "align_self": null,
            "border": null,
            "bottom": null,
            "display": null,
            "flex": null,
            "flex_flow": null,
            "grid_area": null,
            "grid_auto_columns": null,
            "grid_auto_flow": null,
            "grid_auto_rows": null,
            "grid_column": null,
            "grid_gap": null,
            "grid_row": null,
            "grid_template_areas": null,
            "grid_template_columns": null,
            "grid_template_rows": null,
            "height": null,
            "justify_content": null,
            "justify_items": null,
            "left": null,
            "margin": null,
            "max_height": null,
            "max_width": null,
            "min_height": null,
            "min_width": null,
            "object_fit": null,
            "object_position": null,
            "order": null,
            "overflow": null,
            "overflow_x": null,
            "overflow_y": null,
            "padding": null,
            "right": null,
            "top": null,
            "visibility": null,
            "width": null
          }
        },
        "ff74f0ad68a446109b7fbc22cff04d42": {
          "model_module": "@jupyter-widgets/controls",
          "model_name": "ProgressStyleModel",
          "model_module_version": "1.5.0",
          "state": {
            "_model_module": "@jupyter-widgets/controls",
            "_model_module_version": "1.5.0",
            "_model_name": "ProgressStyleModel",
            "_view_count": null,
            "_view_module": "@jupyter-widgets/base",
            "_view_module_version": "1.2.0",
            "_view_name": "StyleView",
            "bar_color": null,
            "description_width": ""
          }
        },
        "2a3524f2839c468ba19de4b5e5c063fa": {
          "model_module": "@jupyter-widgets/base",
          "model_name": "LayoutModel",
          "model_module_version": "1.2.0",
          "state": {
            "_model_module": "@jupyter-widgets/base",
            "_model_module_version": "1.2.0",
            "_model_name": "LayoutModel",
            "_view_count": null,
            "_view_module": "@jupyter-widgets/base",
            "_view_module_version": "1.2.0",
            "_view_name": "LayoutView",
            "align_content": null,
            "align_items": null,
            "align_self": null,
            "border": null,
            "bottom": null,
            "display": null,
            "flex": null,
            "flex_flow": null,
            "grid_area": null,
            "grid_auto_columns": null,
            "grid_auto_flow": null,
            "grid_auto_rows": null,
            "grid_column": null,
            "grid_gap": null,
            "grid_row": null,
            "grid_template_areas": null,
            "grid_template_columns": null,
            "grid_template_rows": null,
            "height": null,
            "justify_content": null,
            "justify_items": null,
            "left": null,
            "margin": null,
            "max_height": null,
            "max_width": null,
            "min_height": null,
            "min_width": null,
            "object_fit": null,
            "object_position": null,
            "order": null,
            "overflow": null,
            "overflow_x": null,
            "overflow_y": null,
            "padding": null,
            "right": null,
            "top": null,
            "visibility": null,
            "width": null
          }
        },
        "8abaa4e667d04ffabba19e858e539aa9": {
          "model_module": "@jupyter-widgets/controls",
          "model_name": "DescriptionStyleModel",
          "model_module_version": "1.5.0",
          "state": {
            "_model_module": "@jupyter-widgets/controls",
            "_model_module_version": "1.5.0",
            "_model_name": "DescriptionStyleModel",
            "_view_count": null,
            "_view_module": "@jupyter-widgets/base",
            "_view_module_version": "1.2.0",
            "_view_name": "StyleView",
            "description_width": ""
          }
        }
      }
    },
    "accelerator": "GPU"
  },
  "nbformat": 4,
  "nbformat_minor": 0
}